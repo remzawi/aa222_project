{
 "cells": [
  {
   "cell_type": "markdown",
   "metadata": {},
   "source": [
    "Notebook for testing the random sampling optimization"
   ]
  },
  {
   "cell_type": "markdown",
   "metadata": {},
   "source": [
    "Download cifar dataset if not present"
   ]
  },
  {
   "cell_type": "code",
   "execution_count": 1,
   "metadata": {},
   "outputs": [
    {
     "name": "stdout",
     "output_type": "stream",
     "text": [
      "Already loaded.\n"
     ]
    }
   ],
   "source": [
    "from LoadCIFAR import loadCIFAR\n",
    "loadCIFAR()"
   ]
  },
  {
   "cell_type": "markdown",
   "metadata": {},
   "source": [
    "Util functions to save and load objects"
   ]
  },
  {
   "cell_type": "code",
   "execution_count": 1,
   "metadata": {},
   "outputs": [],
   "source": [
    "import pickle\n",
    "\n",
    "def save_obj(obj, name ):\n",
    "    with open(name + '.pkl', 'wb') as f:\n",
    "        pickle.dump(obj, f, pickle.HIGHEST_PROTOCOL)\n",
    "\n",
    "def load_obj(name ):\n",
    "    with open(name + '.pkl', 'rb') as f:\n",
    "        return pickle.load(f)"
   ]
  },
  {
   "cell_type": "markdown",
   "metadata": {},
   "source": [
    "Import files"
   ]
  },
  {
   "cell_type": "code",
   "execution_count": 2,
   "metadata": {},
   "outputs": [],
   "source": [
    "import numpy as np\n",
    "import tensorflow as tf\n",
    "from optimizers import *"
   ]
  },
  {
   "cell_type": "markdown",
   "metadata": {},
   "source": [
    "Test sampling"
   ]
  },
  {
   "cell_type": "code",
   "execution_count": 3,
   "metadata": {},
   "outputs": [
    {
     "name": "stdout",
     "output_type": "stream",
     "text": [
      "[[1.41307833e-02 9.10000000e+01 5.60000000e+01 4.70000000e+01\n",
      "  9.10000000e+01 1.27000000e+02 3.62152777e-01 2.86827040e-09]\n",
      " [3.52830492e-02 1.63000000e+02 1.22000000e+02 6.80000000e+01\n",
      "  3.30000000e+01 1.91000000e+02 6.33892625e-01 6.97325483e-08]\n",
      " [1.00602895e-03 1.13000000e+02 9.00000000e+01 5.30000000e+01\n",
      "  5.30000000e+01 5.60000000e+01 1.51633588e-01 2.85713588e-05]\n",
      " [1.94152868e-03 1.33000000e+02 7.70000000e+01 7.40000000e+01\n",
      "  5.10000000e+01 1.12000000e+02 1.56105876e-01 2.12191821e-07]\n",
      " [1.68341661e-03 3.50000000e+01 5.90000000e+01 7.40000000e+01\n",
      "  1.08000000e+02 1.04000000e+02 4.85909493e-01 1.61711894e-08]]\n"
     ]
    }
   ],
   "source": [
    "params={'learning_rate':(1e-4,1e-1,2),\n",
    "        'batch_size':(32,256,1),\n",
    "        'nepochs':(8,8,1),\n",
    "        'conv_size1':(32,128,1),\n",
    "        'conv_size2':(32,128,1),\n",
    "        'conv_size3':(32,128,1),\n",
    "        'fc_size':(50,200,1),\n",
    "        'dropout_param':(0,0.8,0),\n",
    "        'l2_reg':(1e-10,1,2)}\n",
    "samples=randomSearch(5,test_sampling=True,params=params)\n",
    "print(samples)"
   ]
  },
  {
   "cell_type": "markdown",
   "metadata": {},
   "source": [
    "Test random search on one sample and reduced dataset"
   ]
  },
  {
   "cell_type": "code",
   "execution_count": 4,
   "metadata": {},
   "outputs": [
    {
     "name": "stdout",
     "output_type": "stream",
     "text": [
      "Starting training on sample 1\n",
      "Train on 9500 samples, validate on 500 samples\n",
      "Epoch 1/8\n",
      "9500/9500 - 6s - loss: 3.5442 - sparse_categorical_accuracy: 0.1611 - val_loss: 2.2929 - val_sparse_categorical_accuracy: 0.1980\n",
      "Epoch 2/8\n",
      "9500/9500 - 2s - loss: 2.1576 - sparse_categorical_accuracy: 0.2229 - val_loss: 2.1356 - val_sparse_categorical_accuracy: 0.2700\n",
      "Epoch 3/8\n",
      "9500/9500 - 2s - loss: 2.0255 - sparse_categorical_accuracy: 0.2917 - val_loss: 2.1623 - val_sparse_categorical_accuracy: 0.2120\n",
      "Epoch 4/8\n",
      "9500/9500 - 2s - loss: 1.9123 - sparse_categorical_accuracy: 0.3261 - val_loss: 2.1652 - val_sparse_categorical_accuracy: 0.2100\n",
      "Epoch 5/8\n",
      "9500/9500 - 2s - loss: 1.8261 - sparse_categorical_accuracy: 0.3489 - val_loss: 2.1353 - val_sparse_categorical_accuracy: 0.2360\n",
      "Epoch 6/8\n",
      "9500/9500 - 2s - loss: 1.7331 - sparse_categorical_accuracy: 0.3801 - val_loss: 2.1809 - val_sparse_categorical_accuracy: 0.2180\n",
      "Epoch 7/8\n",
      "9500/9500 - 2s - loss: 1.6112 - sparse_categorical_accuracy: 0.4121 - val_loss: 2.0099 - val_sparse_categorical_accuracy: 0.2540\n",
      "Epoch 8/8\n",
      "9500/9500 - 2s - loss: 1.5010 - sparse_categorical_accuracy: 0.4486 - val_loss: 2.0442 - val_sparse_categorical_accuracy: 0.3000\n"
     ]
    }
   ],
   "source": [
    "params={'learning_rate':(1e-5,1e-1,2),\n",
    "        'batch_size':(32,256,1),\n",
    "        'nepochs':(8,8,1),\n",
    "        'conv_size1':(32,128,1),\n",
    "        'conv_size2':(32,128,1),\n",
    "        'conv_size3':(32,128,1),\n",
    "        'fc_size':(50,200,1),\n",
    "        'dropout_param':(0,0.6,0),\n",
    "        'l2_reg':(1e-10,1,2)}\n",
    "params,score,params_history,y_history=randomSearch(1,params=params,num_training=9500,num_val=500)"
   ]
  },
  {
   "cell_type": "markdown",
   "metadata": {},
   "source": [
    "Test random search on 5 samples"
   ]
  },
  {
   "cell_type": "code",
   "execution_count": 5,
   "metadata": {},
   "outputs": [
    {
     "name": "stdout",
     "output_type": "stream",
     "text": [
      "Starting training on sample 1\n",
      "Train on 9500 samples, validate on 500 samples\n",
      "Epoch 1/8\n",
      "9500/9500 - 3s - loss: 1.9908 - sparse_categorical_accuracy: 0.2793 - val_loss: 2.0872 - val_sparse_categorical_accuracy: 0.2260\n",
      "Epoch 2/8\n",
      "9500/9500 - 2s - loss: 1.5159 - sparse_categorical_accuracy: 0.4474 - val_loss: 2.3107 - val_sparse_categorical_accuracy: 0.1740\n",
      "Epoch 3/8\n",
      "9500/9500 - 2s - loss: 1.3341 - sparse_categorical_accuracy: 0.5112 - val_loss: 2.0176 - val_sparse_categorical_accuracy: 0.2580\n",
      "Epoch 4/8\n",
      "9500/9500 - 2s - loss: 1.2070 - sparse_categorical_accuracy: 0.5635 - val_loss: 2.0330 - val_sparse_categorical_accuracy: 0.2940\n",
      "Epoch 5/8\n",
      "9500/9500 - 2s - loss: 1.1032 - sparse_categorical_accuracy: 0.6004 - val_loss: 1.8798 - val_sparse_categorical_accuracy: 0.3520\n",
      "Epoch 6/8\n",
      "9500/9500 - 2s - loss: 1.0226 - sparse_categorical_accuracy: 0.6299 - val_loss: 1.4723 - val_sparse_categorical_accuracy: 0.4200\n",
      "Epoch 7/8\n",
      "9500/9500 - 2s - loss: 0.9459 - sparse_categorical_accuracy: 0.6601 - val_loss: 1.3248 - val_sparse_categorical_accuracy: 0.5360\n",
      "Epoch 8/8\n",
      "9500/9500 - 2s - loss: 0.8741 - sparse_categorical_accuracy: 0.6903 - val_loss: 1.1411 - val_sparse_categorical_accuracy: 0.5900\n",
      "Starting training on sample 2\n",
      "Train on 9500 samples, validate on 500 samples\n",
      "Epoch 1/8\n",
      "9500/9500 - 3s - loss: 1.9948 - sparse_categorical_accuracy: 0.2853 - val_loss: 2.1035 - val_sparse_categorical_accuracy: 0.2100\n",
      "Epoch 2/8\n",
      "9500/9500 - 2s - loss: 1.5739 - sparse_categorical_accuracy: 0.4406 - val_loss: 2.1103 - val_sparse_categorical_accuracy: 0.2580\n",
      "Epoch 3/8\n",
      "9500/9500 - 2s - loss: 1.4012 - sparse_categorical_accuracy: 0.5000 - val_loss: 1.7344 - val_sparse_categorical_accuracy: 0.3620\n",
      "Epoch 4/8\n",
      "9500/9500 - 2s - loss: 1.2621 - sparse_categorical_accuracy: 0.5502 - val_loss: 1.4645 - val_sparse_categorical_accuracy: 0.4640\n",
      "Epoch 5/8\n",
      "9500/9500 - 2s - loss: 1.1652 - sparse_categorical_accuracy: 0.5912 - val_loss: 1.3634 - val_sparse_categorical_accuracy: 0.4980\n",
      "Epoch 6/8\n",
      "9500/9500 - 2s - loss: 1.0796 - sparse_categorical_accuracy: 0.6193 - val_loss: 1.4238 - val_sparse_categorical_accuracy: 0.5100\n",
      "Epoch 7/8\n",
      "9500/9500 - 2s - loss: 1.0055 - sparse_categorical_accuracy: 0.6468 - val_loss: 1.2582 - val_sparse_categorical_accuracy: 0.5280\n",
      "Epoch 8/8\n",
      "9500/9500 - 2s - loss: 0.9302 - sparse_categorical_accuracy: 0.6831 - val_loss: 1.1762 - val_sparse_categorical_accuracy: 0.5640\n",
      "Starting training on sample 3\n",
      "Train on 9500 samples, validate on 500 samples\n",
      "Epoch 1/8\n",
      "9500/9500 - 3s - loss: 2.2812 - sparse_categorical_accuracy: 0.2186 - val_loss: 2.1304 - val_sparse_categorical_accuracy: 0.1820\n",
      "Epoch 2/8\n",
      "9500/9500 - 2s - loss: 1.8277 - sparse_categorical_accuracy: 0.3498 - val_loss: 1.7299 - val_sparse_categorical_accuracy: 0.3600\n",
      "Epoch 3/8\n",
      "9500/9500 - 2s - loss: 1.6733 - sparse_categorical_accuracy: 0.4078 - val_loss: 1.5579 - val_sparse_categorical_accuracy: 0.4420\n",
      "Epoch 4/8\n",
      "9500/9500 - 2s - loss: 1.5666 - sparse_categorical_accuracy: 0.4439 - val_loss: 1.4737 - val_sparse_categorical_accuracy: 0.4600\n",
      "Epoch 5/8\n",
      "9500/9500 - 2s - loss: 1.4834 - sparse_categorical_accuracy: 0.4671 - val_loss: 1.4113 - val_sparse_categorical_accuracy: 0.4880\n",
      "Epoch 6/8\n",
      "9500/9500 - 2s - loss: 1.4062 - sparse_categorical_accuracy: 0.4968 - val_loss: 1.3610 - val_sparse_categorical_accuracy: 0.5320\n",
      "Epoch 7/8\n",
      "9500/9500 - 2s - loss: 1.3585 - sparse_categorical_accuracy: 0.5197 - val_loss: 1.3517 - val_sparse_categorical_accuracy: 0.5020\n",
      "Epoch 8/8\n",
      "9500/9500 - 2s - loss: 1.2958 - sparse_categorical_accuracy: 0.5384 - val_loss: 1.3050 - val_sparse_categorical_accuracy: 0.5320\n",
      "Starting training on sample 4\n",
      "Train on 9500 samples, validate on 500 samples\n",
      "Epoch 1/8\n",
      "9500/9500 - 3s - loss: 7.4902 - sparse_categorical_accuracy: 0.1071 - val_loss: 3.1337 - val_sparse_categorical_accuracy: 0.1100\n",
      "Epoch 2/8\n",
      "9500/9500 - 2s - loss: 3.0096 - sparse_categorical_accuracy: 0.1016 - val_loss: 2.8932 - val_sparse_categorical_accuracy: 0.1100\n",
      "Epoch 3/8\n",
      "9500/9500 - 2s - loss: 2.8089 - sparse_categorical_accuracy: 0.0995 - val_loss: 2.7295 - val_sparse_categorical_accuracy: 0.1000\n",
      "Epoch 4/8\n",
      "9500/9500 - 2s - loss: 2.6681 - sparse_categorical_accuracy: 0.0975 - val_loss: 2.6102 - val_sparse_categorical_accuracy: 0.1100\n",
      "Epoch 5/8\n",
      "9500/9500 - 2s - loss: 2.5680 - sparse_categorical_accuracy: 0.0981 - val_loss: 2.5256 - val_sparse_categorical_accuracy: 0.1100\n",
      "Epoch 6/8\n",
      "9500/9500 - 2s - loss: 2.4972 - sparse_categorical_accuracy: 0.1002 - val_loss: 2.4663 - val_sparse_categorical_accuracy: 0.1100\n",
      "Epoch 7/8\n",
      "9500/9500 - 2s - loss: 2.4467 - sparse_categorical_accuracy: 0.0966 - val_loss: 2.4259 - val_sparse_categorical_accuracy: 0.1080\n",
      "Epoch 8/8\n",
      "9500/9500 - 2s - loss: 2.4107 - sparse_categorical_accuracy: 0.0966 - val_loss: 2.3933 - val_sparse_categorical_accuracy: 0.1100\n",
      "Starting training on sample 5\n",
      "Train on 9500 samples, validate on 500 samples\n",
      "Epoch 1/8\n",
      "9500/9500 - 4s - loss: 7.2898 - sparse_categorical_accuracy: 0.2397 - val_loss: 3.4646 - val_sparse_categorical_accuracy: 0.1100\n",
      "Epoch 2/8\n",
      "9500/9500 - 2s - loss: 2.3803 - sparse_categorical_accuracy: 0.3932 - val_loss: 2.9374 - val_sparse_categorical_accuracy: 0.1400\n",
      "Epoch 3/8\n",
      "9500/9500 - 2s - loss: 2.1170 - sparse_categorical_accuracy: 0.4329 - val_loss: 2.8945 - val_sparse_categorical_accuracy: 0.1100\n",
      "Epoch 4/8\n",
      "9500/9500 - 2s - loss: 2.0857 - sparse_categorical_accuracy: 0.4367 - val_loss: 2.7139 - val_sparse_categorical_accuracy: 0.2020\n",
      "Epoch 5/8\n",
      "9500/9500 - 2s - loss: 2.0277 - sparse_categorical_accuracy: 0.4508 - val_loss: 2.2882 - val_sparse_categorical_accuracy: 0.3680\n",
      "Epoch 6/8\n",
      "9500/9500 - 2s - loss: 2.0156 - sparse_categorical_accuracy: 0.4455 - val_loss: 2.1682 - val_sparse_categorical_accuracy: 0.3520\n",
      "Epoch 7/8\n",
      "9500/9500 - 2s - loss: 1.9210 - sparse_categorical_accuracy: 0.4664 - val_loss: 2.1633 - val_sparse_categorical_accuracy: 0.3880\n",
      "Epoch 8/8\n",
      "9500/9500 - 2s - loss: 1.9422 - sparse_categorical_accuracy: 0.4724 - val_loss: 2.3479 - val_sparse_categorical_accuracy: 0.2760\n"
     ]
    }
   ],
   "source": [
    "params={'learning_rate':(1e-5,1e-1,2),\n",
    "        'batch_size':(32,256,1),\n",
    "        'nepochs':(8,8,1),\n",
    "        'conv_size1':(32,128,1),\n",
    "        'conv_size2':(32,128,1),\n",
    "        'conv_size3':(32,128,1),\n",
    "        'fc_size':(50,200,1),\n",
    "        'dropout_param':(0,0.6,0),\n",
    "        'l2_reg':(1e-10,1,2)}\n",
    "best_params,best_score,params_history,y_history=randomSearch(5,params=params,num_training=9500,num_val=500)"
   ]
  },
  {
   "cell_type": "markdown",
   "metadata": {},
   "source": [
    "Test model"
   ]
  },
  {
   "cell_type": "code",
   "execution_count": 6,
   "metadata": {},
   "outputs": [
    {
     "name": "stdout",
     "output_type": "stream",
     "text": [
      "0.59\n"
     ]
    }
   ],
   "source": [
    "print(best_score)"
   ]
  },
  {
   "cell_type": "markdown",
   "metadata": {},
   "source": [
    "Train on 200 samples on full dataset and save model"
   ]
  },
  {
   "cell_type": "code",
   "execution_count": 7,
   "metadata": {},
   "outputs": [
    {
     "name": "stderr",
     "output_type": "stream",
     "text": [
      "  4%|▎         | 7/200 [08:17<3:45:49, 70.20s/it]"
     ]
    },
    {
     "name": "stdout",
     "output_type": "stream",
     "text": [
      "WARNING:tensorflow:Large dropout rate: 0.57795 (>0.5). In TensorFlow 2.x, dropout() uses dropout rate instead of keep_prob. Please ensure that this is intended.\n",
      "WARNING:tensorflow:Large dropout rate: 0.57795 (>0.5). In TensorFlow 2.x, dropout() uses dropout rate instead of keep_prob. Please ensure that this is intended.\n",
      "WARNING:tensorflow:Large dropout rate: 0.57795 (>0.5). In TensorFlow 2.x, dropout() uses dropout rate instead of keep_prob. Please ensure that this is intended.\n"
     ]
    },
    {
     "name": "stderr",
     "output_type": "stream",
     "text": [
      "  6%|▋         | 13/200 [15:23<3:44:01, 71.88s/it]"
     ]
    },
    {
     "name": "stdout",
     "output_type": "stream",
     "text": [
      "WARNING:tensorflow:Large dropout rate: 0.551082 (>0.5). In TensorFlow 2.x, dropout() uses dropout rate instead of keep_prob. Please ensure that this is intended.\n",
      "WARNING:tensorflow:Large dropout rate: 0.551082 (>0.5). In TensorFlow 2.x, dropout() uses dropout rate instead of keep_prob. Please ensure that this is intended.\n"
     ]
    },
    {
     "name": "stderr",
     "output_type": "stream",
     "text": [
      "100%|██████████| 200/200 [4:10:55<00:00, 75.28s/it]  \n"
     ]
    }
   ],
   "source": [
    "n=200\n",
    "params={'learning_rate':(1e-5,1e-1,2),\n",
    "        'batch_size':(32,256,1),\n",
    "        'nepochs':(8,8,1),\n",
    "        'conv_size1':(32,128,1),\n",
    "        'conv_size2':(32,128,1),\n",
    "        'conv_size3':(32,128,1),\n",
    "        'fc_size':(50,200,1),\n",
    "        'dropout_param':(0,0.6,0),\n",
    "        'l2_reg':(1e-10,1,2)}\n",
    "best_params,best_score,x_history,y_history=randomSearch(n,params=params,keras_verbose=0)\n",
    "save_obj(best_params,'RandOptParam200')\n",
    "save_obj(best_score,'RandScore200')\n",
    "save_obj(y_history,'RandHistory200')"
   ]
  },
  {
   "cell_type": "code",
   "execution_count": 8,
   "metadata": {},
   "outputs": [
    {
     "name": "stdout",
     "output_type": "stream",
     "text": [
      "{'nepochs': 8, 'learning_rate': 0.000729797372809362, 'batch_size': 42.0, 'conv_size1': 68.0, 'conv_size2': 61.0, 'conv_size3': 72.0, 'fc_size': 156.0, 'dropout_param': 0.09557593783746465, 'l2_reg': 3.6940223582782394e-06}\n"
     ]
    }
   ],
   "source": [
    "print(best_params)"
   ]
  },
  {
   "cell_type": "code",
   "execution_count": 9,
   "metadata": {},
   "outputs": [
    {
     "name": "stdout",
     "output_type": "stream",
     "text": [
      "0.791\n"
     ]
    }
   ],
   "source": [
    "print(best_score)"
   ]
  },
  {
   "cell_type": "code",
   "execution_count": 10,
   "metadata": {},
   "outputs": [
    {
     "name": "stdout",
     "output_type": "stream",
     "text": [
      "[0.762, 0.789, 0.791]\n"
     ]
    }
   ],
   "source": [
    "print(y_history)"
   ]
  },
  {
   "cell_type": "code",
   "execution_count": null,
   "metadata": {},
   "outputs": [],
   "source": []
  }
 ],
 "metadata": {
  "kernelspec": {
   "display_name": "Python 3",
   "language": "python",
   "name": "python3"
  },
  "language_info": {
   "codemirror_mode": {
    "name": "ipython",
    "version": 3
   },
   "file_extension": ".py",
   "mimetype": "text/x-python",
   "name": "python",
   "nbconvert_exporter": "python",
   "pygments_lexer": "ipython3",
   "version": "3.7.6"
  }
 },
 "nbformat": 4,
 "nbformat_minor": 2
}
