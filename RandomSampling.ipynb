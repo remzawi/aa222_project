{
 "cells": [
  {
   "cell_type": "markdown",
   "metadata": {},
   "source": [
    "Notebook for testing the random sampling optimization"
   ]
  },
  {
   "cell_type": "markdown",
   "metadata": {},
   "source": [
    "Download cifar dataset if not present"
   ]
  },
  {
   "cell_type": "code",
   "execution_count": 1,
   "metadata": {},
   "outputs": [
    {
     "name": "stdout",
     "output_type": "stream",
     "text": [
      "Already loaded.\n"
     ]
    }
   ],
   "source": [
    "from LoadCIFAR import loadCIFAR\n",
    "loadCIFAR()"
   ]
  },
  {
   "cell_type": "markdown",
   "metadata": {},
   "source": [
    "Util functions to save and load objects"
   ]
  },
  {
   "cell_type": "code",
   "execution_count": 1,
   "metadata": {},
   "outputs": [],
   "source": [
    "import pickle\n",
    "\n",
    "def save_obj(obj, name ):\n",
    "    with open(name + '.pkl', 'wb') as f:\n",
    "        pickle.dump(obj, f, pickle.HIGHEST_PROTOCOL)\n",
    "\n",
    "def load_obj(name ):\n",
    "    with open(name + '.pkl', 'rb') as f:\n",
    "        return pickle.load(f)"
   ]
  },
  {
   "cell_type": "markdown",
   "metadata": {},
   "source": [
    "Import files"
   ]
  },
  {
   "cell_type": "code",
   "execution_count": 2,
   "metadata": {},
   "outputs": [],
   "source": [
    "import numpy as np\n",
    "import tensorflow as tf\n",
    "from optimizers import *"
   ]
  },
  {
   "cell_type": "markdown",
   "metadata": {},
   "source": [
    "Test sampling"
   ]
  },
  {
   "cell_type": "code",
   "execution_count": 3,
   "metadata": {},
   "outputs": [
    {
     "name": "stdout",
     "output_type": "stream",
     "text": [
      "[[3.20601088e-04 2.07000000e+02 1.03000000e+02 1.04000000e+02\n",
      "  1.18000000e+02 1.85000000e+02 1.79036243e-01 6.34089360e-08]\n",
      " [1.38785674e-02 5.30000000e+01 4.50000000e+01 1.10000000e+02\n",
      "  1.15000000e+02 1.58000000e+02 4.71503715e-02 4.88015618e-09]\n",
      " [1.61167031e-02 2.22000000e+02 5.70000000e+01 8.10000000e+01\n",
      "  1.16000000e+02 1.69000000e+02 6.41915360e-01 4.43252660e-02]\n",
      " [9.08616854e-03 9.00000000e+01 1.20000000e+02 8.20000000e+01\n",
      "  7.30000000e+01 1.88000000e+02 1.83120541e-01 1.30234437e-09]\n",
      " [8.00165973e-04 2.39000000e+02 1.20000000e+02 4.70000000e+01\n",
      "  4.10000000e+01 1.73000000e+02 7.51378123e-01 4.34648257e-01]]\n"
     ]
    }
   ],
   "source": [
    "params={'learning_rate':(1e-4,1e-1,2),\n",
    "        'batch_size':(32,256,1),\n",
    "        'nepochs':(8,8,1),\n",
    "        'conv_size1':(32,128,1),\n",
    "        'conv_size2':(32,128,1),\n",
    "        'conv_size3':(32,128,1),\n",
    "        'fc_size':(50,200,1),\n",
    "        'dropout_param':(0,0.8,0),\n",
    "        'l2_reg':(1e-10,1,2)}\n",
    "samples=randomSearch(5,test_sampling=True,params=params)\n",
    "print(samples)"
   ]
  },
  {
   "cell_type": "markdown",
   "metadata": {},
   "source": [
    "Test random search on one sample and reduced dataset"
   ]
  },
  {
   "cell_type": "code",
   "execution_count": 4,
   "metadata": {},
   "outputs": [
    {
     "name": "stdout",
     "output_type": "stream",
     "text": [
      "Starting training on sample 1\n",
      "Train on 9500 samples, validate on 500 samples\n",
      "Epoch 1/8\n",
      "9500/9500 - 5s - loss: 12.4503 - sparse_categorical_accuracy: 0.1304 - val_loss: 2.7521 - val_sparse_categorical_accuracy: 0.1800\n",
      "Epoch 2/8\n",
      "9500/9500 - 2s - loss: 2.2263 - sparse_categorical_accuracy: 0.1538 - val_loss: 2.2087 - val_sparse_categorical_accuracy: 0.1640\n",
      "Epoch 3/8\n",
      "9500/9500 - 2s - loss: 2.0997 - sparse_categorical_accuracy: 0.2061 - val_loss: 2.1419 - val_sparse_categorical_accuracy: 0.2100\n",
      "Epoch 4/8\n",
      "9500/9500 - 2s - loss: 2.0018 - sparse_categorical_accuracy: 0.2460 - val_loss: 1.9593 - val_sparse_categorical_accuracy: 0.2840\n",
      "Epoch 5/8\n",
      "9500/9500 - 2s - loss: 1.8746 - sparse_categorical_accuracy: 0.2987 - val_loss: 1.8753 - val_sparse_categorical_accuracy: 0.3200\n",
      "Epoch 6/8\n",
      "9500/9500 - 2s - loss: 1.8012 - sparse_categorical_accuracy: 0.3276 - val_loss: 1.8226 - val_sparse_categorical_accuracy: 0.3240\n",
      "Epoch 7/8\n",
      "9500/9500 - 2s - loss: 1.7436 - sparse_categorical_accuracy: 0.3427 - val_loss: 1.7043 - val_sparse_categorical_accuracy: 0.3340\n",
      "Epoch 8/8\n",
      "9500/9500 - 2s - loss: 1.7061 - sparse_categorical_accuracy: 0.3508 - val_loss: 1.7471 - val_sparse_categorical_accuracy: 0.3440\n"
     ]
    }
   ],
   "source": [
    "params={'learning_rate':(1e-4,1e-1,2),\n",
    "        'batch_size':(32,256,1),\n",
    "        'nepochs':(8,8,1),\n",
    "        'conv_size1':(32,128,1),\n",
    "        'conv_size2':(32,128,1),\n",
    "        'conv_size3':(32,128,1),\n",
    "        'fc_size':(50,200,1),\n",
    "        'dropout_param':(0,0.8,0),\n",
    "        'l2_reg':(1e-10,1,2)}\n",
    "model=randomSearch(1,params=params,num_training=9500,num_val=500)"
   ]
  },
  {
   "cell_type": "markdown",
   "metadata": {},
   "source": [
    "Test random search on 5 samples"
   ]
  },
  {
   "cell_type": "code",
   "execution_count": 5,
   "metadata": {},
   "outputs": [
    {
     "name": "stdout",
     "output_type": "stream",
     "text": [
      "Starting training on sample 1\n",
      "Train on 9500 samples, validate on 500 samples\n",
      "Epoch 1/8\n",
      "9500/9500 - 4s - loss: 2.0031 - sparse_categorical_accuracy: 0.2817 - val_loss: 2.1335 - val_sparse_categorical_accuracy: 0.2160\n",
      "Epoch 2/8\n",
      "9500/9500 - 2s - loss: 1.5110 - sparse_categorical_accuracy: 0.4541 - val_loss: 2.1688 - val_sparse_categorical_accuracy: 0.1580\n",
      "Epoch 3/8\n",
      "9500/9500 - 2s - loss: 1.3399 - sparse_categorical_accuracy: 0.5141 - val_loss: 2.1948 - val_sparse_categorical_accuracy: 0.1960\n",
      "Epoch 4/8\n",
      "9500/9500 - 2s - loss: 1.2237 - sparse_categorical_accuracy: 0.5655 - val_loss: 1.9786 - val_sparse_categorical_accuracy: 0.3260\n",
      "Epoch 5/8\n",
      "9500/9500 - 2s - loss: 1.1249 - sparse_categorical_accuracy: 0.5947 - val_loss: 1.8487 - val_sparse_categorical_accuracy: 0.3320\n",
      "Epoch 6/8\n",
      "9500/9500 - 2s - loss: 1.0248 - sparse_categorical_accuracy: 0.6295 - val_loss: 1.5499 - val_sparse_categorical_accuracy: 0.4480\n",
      "Epoch 7/8\n",
      "9500/9500 - 2s - loss: 0.9579 - sparse_categorical_accuracy: 0.6585 - val_loss: 1.3667 - val_sparse_categorical_accuracy: 0.5240\n",
      "Epoch 8/8\n",
      "9500/9500 - 2s - loss: 0.8948 - sparse_categorical_accuracy: 0.6821 - val_loss: 1.2301 - val_sparse_categorical_accuracy: 0.5580\n",
      "Starting training on sample 2\n",
      "WARNING:tensorflow:Large dropout rate: 0.620097 (>0.5). In TensorFlow 2.x, dropout() uses dropout rate instead of keep_prob. Please ensure that this is intended.\n",
      "Train on 9500 samples, validate on 500 samples\n",
      "Epoch 1/8\n",
      "WARNING:tensorflow:Large dropout rate: 0.620097 (>0.5). In TensorFlow 2.x, dropout() uses dropout rate instead of keep_prob. Please ensure that this is intended.\n",
      "WARNING:tensorflow:Large dropout rate: 0.620097 (>0.5). In TensorFlow 2.x, dropout() uses dropout rate instead of keep_prob. Please ensure that this is intended.\n",
      "9500/9500 - 3s - loss: 2.1477 - sparse_categorical_accuracy: 0.2378 - val_loss: 2.1798 - val_sparse_categorical_accuracy: 0.1820\n",
      "Epoch 2/8\n",
      "9500/9500 - 1s - loss: 1.7406 - sparse_categorical_accuracy: 0.3543 - val_loss: 2.1329 - val_sparse_categorical_accuracy: 0.1980\n",
      "Epoch 3/8\n",
      "9500/9500 - 1s - loss: 1.5492 - sparse_categorical_accuracy: 0.4389 - val_loss: 1.9336 - val_sparse_categorical_accuracy: 0.2760\n",
      "Epoch 4/8\n",
      "9500/9500 - 1s - loss: 1.4098 - sparse_categorical_accuracy: 0.4868 - val_loss: 1.6445 - val_sparse_categorical_accuracy: 0.3700\n",
      "Epoch 5/8\n",
      "9500/9500 - 2s - loss: 1.3092 - sparse_categorical_accuracy: 0.5323 - val_loss: 1.3928 - val_sparse_categorical_accuracy: 0.4780\n",
      "Epoch 6/8\n",
      "9500/9500 - 2s - loss: 1.2283 - sparse_categorical_accuracy: 0.5541 - val_loss: 1.2801 - val_sparse_categorical_accuracy: 0.5520\n",
      "Epoch 7/8\n",
      "9500/9500 - 2s - loss: 1.1483 - sparse_categorical_accuracy: 0.5914 - val_loss: 1.2583 - val_sparse_categorical_accuracy: 0.5320\n",
      "Epoch 8/8\n",
      "9500/9500 - 2s - loss: 1.1159 - sparse_categorical_accuracy: 0.6031 - val_loss: 1.1832 - val_sparse_categorical_accuracy: 0.5780\n",
      "Starting training on sample 3\n",
      "Train on 9500 samples, validate on 500 samples\n",
      "Epoch 1/8\n",
      "9500/9500 - 4s - loss: 4.3145 - sparse_categorical_accuracy: 0.1423 - val_loss: 2.1084 - val_sparse_categorical_accuracy: 0.1760\n",
      "Epoch 2/8\n",
      "9500/9500 - 3s - loss: 2.0674 - sparse_categorical_accuracy: 0.1761 - val_loss: 2.2663 - val_sparse_categorical_accuracy: 0.1680\n",
      "Epoch 3/8\n",
      "9500/9500 - 3s - loss: 1.9699 - sparse_categorical_accuracy: 0.1877 - val_loss: 2.1016 - val_sparse_categorical_accuracy: 0.2280\n",
      "Epoch 4/8\n",
      "9500/9500 - 3s - loss: 1.9473 - sparse_categorical_accuracy: 0.1868 - val_loss: 1.9035 - val_sparse_categorical_accuracy: 0.2060\n",
      "Epoch 5/8\n",
      "9500/9500 - 3s - loss: 1.9125 - sparse_categorical_accuracy: 0.1939 - val_loss: 1.9311 - val_sparse_categorical_accuracy: 0.1740\n",
      "Epoch 6/8\n",
      "9500/9500 - 3s - loss: 1.9014 - sparse_categorical_accuracy: 0.1967 - val_loss: 1.9329 - val_sparse_categorical_accuracy: 0.1960\n",
      "Epoch 7/8\n",
      "9500/9500 - 3s - loss: 1.8776 - sparse_categorical_accuracy: 0.2129 - val_loss: 1.9290 - val_sparse_categorical_accuracy: 0.2020\n",
      "Epoch 8/8\n",
      "9500/9500 - 3s - loss: 1.8716 - sparse_categorical_accuracy: 0.2109 - val_loss: 1.8881 - val_sparse_categorical_accuracy: 0.1760\n",
      "Starting training on sample 4\n",
      "WARNING:tensorflow:Large dropout rate: 0.739597 (>0.5). In TensorFlow 2.x, dropout() uses dropout rate instead of keep_prob. Please ensure that this is intended.\n",
      "Train on 9500 samples, validate on 500 samples\n",
      "Epoch 1/8\n",
      "WARNING:tensorflow:Large dropout rate: 0.739597 (>0.5). In TensorFlow 2.x, dropout() uses dropout rate instead of keep_prob. Please ensure that this is intended.\n",
      "9500/9500 - 3s - loss: 22.6070 - sparse_categorical_accuracy: 0.1866 - val_loss: 20.8233 - val_sparse_categorical_accuracy: 0.1920\n",
      "Epoch 2/8\n",
      "9500/9500 - 2s - loss: 19.2193 - sparse_categorical_accuracy: 0.2843 - val_loss: 18.0983 - val_sparse_categorical_accuracy: 0.1340\n",
      "Epoch 3/8\n",
      "9500/9500 - 2s - loss: 16.3213 - sparse_categorical_accuracy: 0.3321 - val_loss: 15.4808 - val_sparse_categorical_accuracy: 0.1560\n",
      "Epoch 4/8\n",
      "9500/9500 - 2s - loss: 13.7689 - sparse_categorical_accuracy: 0.3638 - val_loss: 13.2322 - val_sparse_categorical_accuracy: 0.1760\n",
      "Epoch 5/8\n",
      "9500/9500 - 2s - loss: 11.5720 - sparse_categorical_accuracy: 0.4172 - val_loss: 11.2198 - val_sparse_categorical_accuracy: 0.2240\n",
      "Epoch 6/8\n",
      "9500/9500 - 2s - loss: 9.7604 - sparse_categorical_accuracy: 0.4403 - val_loss: 9.3185 - val_sparse_categorical_accuracy: 0.2860\n",
      "Epoch 7/8\n",
      "9500/9500 - 2s - loss: 8.2693 - sparse_categorical_accuracy: 0.4737 - val_loss: 7.9912 - val_sparse_categorical_accuracy: 0.3180\n",
      "Epoch 8/8\n",
      "9500/9500 - 2s - loss: 7.0694 - sparse_categorical_accuracy: 0.5008 - val_loss: 6.7970 - val_sparse_categorical_accuracy: 0.4120\n",
      "Starting training on sample 5\n",
      "Train on 9500 samples, validate on 500 samples\n",
      "Epoch 1/8\n",
      "9500/9500 - 3s - loss: 3.6642 - sparse_categorical_accuracy: 0.1282 - val_loss: 2.3792 - val_sparse_categorical_accuracy: 0.1840\n",
      "Epoch 2/8\n",
      "9500/9500 - 1s - loss: 2.7170 - sparse_categorical_accuracy: 0.1827 - val_loss: 2.3649 - val_sparse_categorical_accuracy: 0.1580\n",
      "Epoch 3/8\n",
      "9500/9500 - 1s - loss: 2.4502 - sparse_categorical_accuracy: 0.2111 - val_loss: 2.3464 - val_sparse_categorical_accuracy: 0.1700\n",
      "Epoch 4/8\n",
      "9500/9500 - 1s - loss: 2.3065 - sparse_categorical_accuracy: 0.2292 - val_loss: 2.3171 - val_sparse_categorical_accuracy: 0.1660\n",
      "Epoch 5/8\n",
      "9500/9500 - 1s - loss: 2.2229 - sparse_categorical_accuracy: 0.2466 - val_loss: 2.2825 - val_sparse_categorical_accuracy: 0.2040\n",
      "Epoch 6/8\n",
      "9500/9500 - 1s - loss: 2.1577 - sparse_categorical_accuracy: 0.2602 - val_loss: 2.2164 - val_sparse_categorical_accuracy: 0.2500\n",
      "Epoch 7/8\n",
      "9500/9500 - 1s - loss: 2.1053 - sparse_categorical_accuracy: 0.2765 - val_loss: 2.1689 - val_sparse_categorical_accuracy: 0.2420\n",
      "Epoch 8/8\n",
      "9500/9500 - 1s - loss: 2.0570 - sparse_categorical_accuracy: 0.2821 - val_loss: 2.0918 - val_sparse_categorical_accuracy: 0.2660\n"
     ]
    }
   ],
   "source": [
    "params={'learning_rate':(1e-4,1e-1,2),\n",
    "        'batch_size':(32,256,1),\n",
    "        'nepochs':(8,8,1),\n",
    "        'conv_size1':(32,128,1),\n",
    "        'conv_size2':(32,128,1),\n",
    "        'conv_size3':(32,128,1),\n",
    "        'fc_size':(50,200,1),\n",
    "        'dropout_param':(0,0.8,0),\n",
    "        'l2_reg':(1e-10,1,2)}\n",
    "best_model,best_params,best_score=randomSearch(5,params=params,num_training=9500,num_val=500)"
   ]
  },
  {
   "cell_type": "markdown",
   "metadata": {},
   "source": [
    "Test model"
   ]
  },
  {
   "cell_type": "code",
   "execution_count": 6,
   "metadata": {},
   "outputs": [
    {
     "name": "stdout",
     "output_type": "stream",
     "text": [
      "10000/10000 [==============================] - 1s 139us/sample - loss: 122.3558 - sparse_categorical_accuracy: 0.2259\n"
     ]
    },
    {
     "data": {
      "text/plain": [
       "[122.35575643310547, 0.2259]"
      ]
     },
     "execution_count": 6,
     "metadata": {},
     "output_type": "execute_result"
    }
   ],
   "source": [
    "X_test=np.load('X_test_cifar10.npy')\n",
    "y_test=np.load('y_test_cifar10.npy')\n",
    "best_model.evaluate(X_test,y_test)"
   ]
  },
  {
   "cell_type": "code",
   "execution_count": 7,
   "metadata": {},
   "outputs": [
    {
     "name": "stdout",
     "output_type": "stream",
     "text": [
      "0.578\n"
     ]
    }
   ],
   "source": [
    "print(best_score)"
   ]
  },
  {
   "cell_type": "markdown",
   "metadata": {},
   "source": [
    "Train on n samples on full dataset and save model"
   ]
  },
  {
   "cell_type": "code",
   "execution_count": 8,
   "metadata": {},
   "outputs": [
    {
     "name": "stderr",
     "output_type": "stream",
     "text": [
      "100%|██████████| 100/100 [2:00:59<00:00, 72.60s/it] \n"
     ]
    }
   ],
   "source": [
    "n=100\n",
    "params={'learning_rate':(1e-4,1e-1,2),\n",
    "        'batch_size':(32,256,1),\n",
    "        'nepochs':(8,8,1),\n",
    "        'conv_size1':(32,128,1),\n",
    "        'conv_size2':(32,128,1),\n",
    "        'conv_size3':(32,128,1),\n",
    "        'fc_size':(50,200,1),\n",
    "        'dropout_param':(0,0.8,0),\n",
    "        'l2_reg':(1e-10,1,2)}\n",
    "best_model,best_params,best_score=randomSearch(n,params=params,keras_verbose=0)"
   ]
  },
  {
   "cell_type": "code",
   "execution_count": 9,
   "metadata": {},
   "outputs": [
    {
     "name": "stdout",
     "output_type": "stream",
     "text": [
      "WARNING:tensorflow:From /opt/conda/lib/python3.7/site-packages/tensorflow_core/python/ops/resource_variable_ops.py:1786: calling BaseResourceVariable.__init__ (from tensorflow.python.ops.resource_variable_ops) with constraint is deprecated and will be removed in a future version.\n",
      "Instructions for updating:\n",
      "If using Keras pass *_constraint arguments to layers.\n",
      "INFO:tensorflow:Assets written to: RandOptModel.tf/assets\n"
     ]
    }
   ],
   "source": [
    "best_model.save('RandOptModel.tf')\n",
    "save_obj(best_params,'RandOptParam')\n",
    "save_obj(best_score,'RandScore')"
   ]
  },
  {
   "cell_type": "code",
   "execution_count": 10,
   "metadata": {},
   "outputs": [
    {
     "name": "stdout",
     "output_type": "stream",
     "text": [
      "10000/10000 [==============================] - 2s 156us/sample - loss: 41.3654 - sparse_categorical_accuracy: 0.4149\n"
     ]
    },
    {
     "data": {
      "text/plain": [
       "[41.3653650390625, 0.4149]"
      ]
     },
     "execution_count": 10,
     "metadata": {},
     "output_type": "execute_result"
    }
   ],
   "source": [
    "X_test=np.load('X_test_cifar10.npy')\n",
    "y_test=np.load('y_test_cifar10.npy')\n",
    "best_model.evaluate(X_test,y_test)"
   ]
  },
  {
   "cell_type": "code",
   "execution_count": 11,
   "metadata": {},
   "outputs": [
    {
     "name": "stdout",
     "output_type": "stream",
     "text": [
      "{'nepochs': 8, 'learning_rate': 0.0005179091478935314, 'batch_size': 210.0, 'conv_size1': 120.0, 'conv_size2': 101.0, 'conv_size3': 46.0, 'fc_size': 160.0, 'dropout_param': 0.37945162386693476, 'l2_reg': 0.00015113281591831412}\n"
     ]
    }
   ],
   "source": [
    "print(best_params)"
   ]
  },
  {
   "cell_type": "code",
   "execution_count": null,
   "metadata": {},
   "outputs": [],
   "source": []
  }
 ],
 "metadata": {
  "kernelspec": {
   "display_name": "Python 3",
   "language": "python",
   "name": "python3"
  },
  "language_info": {
   "codemirror_mode": {
    "name": "ipython",
    "version": 3
   },
   "file_extension": ".py",
   "mimetype": "text/x-python",
   "name": "python",
   "nbconvert_exporter": "python",
   "pygments_lexer": "ipython3",
   "version": "3.7.6"
  }
 },
 "nbformat": 4,
 "nbformat_minor": 2
}
