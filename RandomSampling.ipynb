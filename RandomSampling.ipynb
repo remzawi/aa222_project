{
 "cells": [
  {
   "cell_type": "markdown",
   "metadata": {},
   "source": [
    "Notebook for testing the random sampling optimization"
   ]
  },
  {
   "cell_type": "markdown",
   "metadata": {},
   "source": [
    "Download cifar dataset if not present"
   ]
  },
  {
   "cell_type": "code",
   "execution_count": null,
   "metadata": {},
   "outputs": [],
   "source": [
    "from LoadCIFAR import loadCIFAR\n",
    "loadCIFAR()"
   ]
  },
  {
   "cell_type": "markdown",
   "metadata": {},
   "source": [
    "Import files"
   ]
  },
  {
   "cell_type": "code",
   "execution_count": null,
   "metadata": {},
   "outputs": [],
   "source": [
    "import numpy as np\n",
    "import tensorflow as tf\n",
    "from optimizers import *"
   ]
  },
  {
   "cell_type": "markdown",
   "metadata": {},
   "source": [
    "Test sampling"
   ]
  },
  {
   "cell_type": "code",
   "execution_count": null,
   "metadata": {},
   "outputs": [],
   "source": [
    "params={'learning_rate':(1e-6,1e-1,2),\n",
    "        'batch_size':(16,256,1),\n",
    "        'nepochs':(5,5,1),\n",
    "        'conv_size1':(64,64,1),\n",
    "        'conv_size2':(64,64,1),\n",
    "        'fc_size':(50,200,1),\n",
    "        'dropout_param':(0,1,0),\n",
    "        'l2_reg':(1e-10,1,2)}\n",
    "samples=randomSearch(5,test_sampling=True,params=params)\n",
    "print(samples)"
   ]
  },
  {
   "cell_type": "markdown",
   "metadata": {},
   "source": [
    "Test random search on one sample and reduced dataset"
   ]
  },
  {
   "cell_type": "code",
   "execution_count": null,
   "metadata": {},
   "outputs": [],
   "source": [
    "params={'learning_rate':(1e-6,1e-1,2),\n",
    "        'batch_size':(16,256,1),\n",
    "        'nepochs':(5,5,1),\n",
    "        'conv_size1':(64,64,1),\n",
    "        'conv_size2':(64,64,1),\n",
    "        'fc_size':(50,200,1),\n",
    "        'dropout_param':(0,1,0),\n",
    "        'l2_reg':(1e-10,1,2)}\n",
    "model=randomSearch(1,params=params,num_training=9500,num_val=500)"
   ]
  },
  {
   "cell_type": "markdown",
   "metadata": {},
   "source": [
    "Test random search on 5 samples"
   ]
  },
  {
   "cell_type": "code",
   "execution_count": null,
   "metadata": {},
   "outputs": [],
   "source": [
    "params={'learning_rate':(1e-6,1e-1,2),\n",
    "        'batch_size':(16,256,1),\n",
    "        'nepochs':(5,5,1),\n",
    "        'conv_size1':(64,64,1),\n",
    "        'conv_size2':(64,64,1),\n",
    "        'fc_size':(50,200,1),\n",
    "        'dropout_param':(0,1,0),\n",
    "        'l2_reg':(1e-10,1,2)}\n",
    "model=randomSearch(5,params=params,num_training=9500,num_val=500)"
   ]
  }
 ],
 "metadata": {
  "kernelspec": {
   "display_name": "Python 3",
   "language": "python",
   "name": "python3"
  },
  "language_info": {
   "codemirror_mode": {
    "name": "ipython",
    "version": 3
   },
   "file_extension": ".py",
   "mimetype": "text/x-python",
   "name": "python",
   "nbconvert_exporter": "python",
   "pygments_lexer": "ipython3",
   "version": "3.7.7"
  }
 },
 "nbformat": 4,
 "nbformat_minor": 2
}
