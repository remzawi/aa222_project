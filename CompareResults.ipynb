{
 "cells": [
  {
   "cell_type": "markdown",
   "metadata": {},
   "source": [
    "Notebook to compare results between algorithms"
   ]
  },
  {
   "cell_type": "markdown",
   "metadata": {},
   "source": [
    "Some functions and imports"
   ]
  },
  {
   "cell_type": "code",
   "execution_count": 1,
   "metadata": {},
   "outputs": [],
   "source": [
    "import pickle\n",
    "\n",
    "def save_obj(obj, name ):\n",
    "    with open(name + '.pkl', 'wb') as f:\n",
    "        pickle.dump(obj, f, pickle.HIGHEST_PROTOCOL)\n",
    "\n",
    "def load_obj(name ):\n",
    "    with open(name + '.pkl', 'rb') as f:\n",
    "        return pickle.load(f)"
   ]
  },
  {
   "cell_type": "markdown",
   "metadata": {},
   "source": [
    "Random sampling"
   ]
  },
  {
   "cell_type": "code",
   "execution_count": 4,
   "metadata": {},
   "outputs": [
    {
     "name": "stdout",
     "output_type": "stream",
     "text": [
      "Random parameters:  {'nepochs': 8, 'learning_rate': 0.0005179091478935314, 'batch_size': 210.0, 'conv_size1': 120.0, 'conv_size2': 101.0, 'conv_size3': 46.0, 'fc_size': 160.0, 'dropout_param': 0.37945162386693476, 'l2_reg': 0.00015113281591831412}\n",
      "Random score:  0.773\n"
     ]
    }
   ],
   "source": [
    "rd_params=load_obj(\"RandOptParam\")\n",
    "rd_score=load_obj('RandScore')\n",
    "print(\"Random parameters: \",rd_params)\n",
    "print(\"Random score: \",rd_score)"
   ]
  },
  {
   "cell_type": "markdown",
   "metadata": {},
   "source": [
    "Particle swarm optimization"
   ]
  },
  {
   "cell_type": "code",
   "execution_count": 5,
   "metadata": {},
   "outputs": [
    {
     "name": "stdout",
     "output_type": "stream",
     "text": [
      "Particle swarm parameters:  {'nepochs': 8, 'learning_rate': 0.009563466747000619, 'batch_size': 32.0, 'conv_size1': 32.0, 'conv_size2': 37.0, 'conv_size3': 32.0, 'fc_size': 200.0, 'dropout_param': 0.8, 'l2_reg': 1e-10}\n",
      "Particle swarm score:  0.755\n"
     ]
    }
   ],
   "source": [
    "ps_params=load_obj('PSOptParam')\n",
    "ps_score=load_obj('PSScore')\n",
    "print(\"Particle swarm parameters: \",ps_params)\n",
    "print(\"Particle swarm score: \",ps_score)"
   ]
  },
  {
   "cell_type": "markdown",
   "metadata": {},
   "source": [
    "Retrain models for more epochs to see which params behave better"
   ]
  },
  {
   "cell_type": "code",
   "execution_count": 7,
   "metadata": {},
   "outputs": [],
   "source": [
    "from kerasmodel import *\n",
    "X_train, y_train, X_val, y_val, X_test, y_test=load_cifar()"
   ]
  },
  {
   "cell_type": "markdown",
   "metadata": {},
   "source": [
    "Random model"
   ]
  },
  {
   "cell_type": "code",
   "execution_count": 9,
   "metadata": {},
   "outputs": [
    {
     "name": "stdout",
     "output_type": "stream",
     "text": [
      "Train on 49000 samples, validate on 1000 samples\n",
      "Epoch 1/15\n",
      "49000/49000 - 15s - loss: 1.5907 - sparse_categorical_accuracy: 0.4538 - val_loss: 2.0492 - val_sparse_categorical_accuracy: 0.3510\n",
      "Epoch 2/15\n",
      "49000/49000 - 10s - loss: 1.1682 - sparse_categorical_accuracy: 0.6098 - val_loss: 1.3077 - val_sparse_categorical_accuracy: 0.5820\n",
      "Epoch 3/15\n",
      "49000/49000 - 10s - loss: 1.0096 - sparse_categorical_accuracy: 0.6672 - val_loss: 0.9641 - val_sparse_categorical_accuracy: 0.6850\n",
      "Epoch 4/15\n",
      "49000/49000 - 10s - loss: 0.9130 - sparse_categorical_accuracy: 0.7013 - val_loss: 0.9220 - val_sparse_categorical_accuracy: 0.6970\n",
      "Epoch 5/15\n",
      "49000/49000 - 11s - loss: 0.8502 - sparse_categorical_accuracy: 0.7245 - val_loss: 0.8842 - val_sparse_categorical_accuracy: 0.7240\n",
      "Epoch 6/15\n",
      "49000/49000 - 11s - loss: 0.7918 - sparse_categorical_accuracy: 0.7462 - val_loss: 0.8863 - val_sparse_categorical_accuracy: 0.7190\n",
      "Epoch 7/15\n",
      "49000/49000 - 11s - loss: 0.7463 - sparse_categorical_accuracy: 0.7627 - val_loss: 0.8260 - val_sparse_categorical_accuracy: 0.7330\n",
      "Epoch 8/15\n",
      "49000/49000 - 11s - loss: 0.7116 - sparse_categorical_accuracy: 0.7745 - val_loss: 0.8439 - val_sparse_categorical_accuracy: 0.7370\n",
      "Epoch 9/15\n",
      "49000/49000 - 11s - loss: 0.6762 - sparse_categorical_accuracy: 0.7871 - val_loss: 0.7465 - val_sparse_categorical_accuracy: 0.7730\n",
      "Epoch 10/15\n",
      "49000/49000 - 11s - loss: 0.6456 - sparse_categorical_accuracy: 0.7946 - val_loss: 0.8157 - val_sparse_categorical_accuracy: 0.7360\n",
      "Epoch 11/15\n",
      "49000/49000 - 11s - loss: 0.6230 - sparse_categorical_accuracy: 0.8041 - val_loss: 0.7245 - val_sparse_categorical_accuracy: 0.7840\n",
      "Epoch 12/15\n",
      "49000/49000 - 11s - loss: 0.5959 - sparse_categorical_accuracy: 0.8148 - val_loss: 0.7188 - val_sparse_categorical_accuracy: 0.7770\n",
      "Epoch 13/15\n",
      "49000/49000 - 11s - loss: 0.5709 - sparse_categorical_accuracy: 0.8215 - val_loss: 0.7586 - val_sparse_categorical_accuracy: 0.7740\n",
      "Epoch 14/15\n",
      "49000/49000 - 11s - loss: 0.5538 - sparse_categorical_accuracy: 0.8296 - val_loss: 0.7606 - val_sparse_categorical_accuracy: 0.7550\n",
      "Epoch 15/15\n",
      "49000/49000 - 11s - loss: 0.5345 - sparse_categorical_accuracy: 0.8355 - val_loss: 0.8025 - val_sparse_categorical_accuracy: 0.7600\n"
     ]
    }
   ],
   "source": [
    "rd_params['nepochs']=15\n",
    "rd_model=create_model(rd_params)\n",
    "rd_score=score_model(rd_model,rd_params,X_train, y_train, X_val, y_val)"
   ]
  },
  {
   "cell_type": "code",
   "execution_count": 10,
   "metadata": {},
   "outputs": [
    {
     "name": "stdout",
     "output_type": "stream",
     "text": [
      "10000/10000 [==============================] - 1s 148us/sample - loss: 0.7950 - sparse_categorical_accuracy: 0.7607\n"
     ]
    },
    {
     "data": {
      "text/plain": [
       "[0.7949635109901428, 0.7607]"
      ]
     },
     "execution_count": 10,
     "metadata": {},
     "output_type": "execute_result"
    }
   ],
   "source": [
    "rd_model.evaluate(X_test,y_test)"
   ]
  },
  {
   "cell_type": "markdown",
   "metadata": {},
   "source": [
    "Particle swarm model"
   ]
  },
  {
   "cell_type": "code",
   "execution_count": 12,
   "metadata": {},
   "outputs": [
    {
     "name": "stdout",
     "output_type": "stream",
     "text": [
      "WARNING:tensorflow:Large dropout rate: 0.8 (>0.5). In TensorFlow 2.x, dropout() uses dropout rate instead of keep_prob. Please ensure that this is intended.\n",
      "Train on 49000 samples, validate on 1000 samples\n",
      "Epoch 1/15\n",
      "WARNING:tensorflow:Large dropout rate: 0.8 (>0.5). In TensorFlow 2.x, dropout() uses dropout rate instead of keep_prob. Please ensure that this is intended.\n",
      "WARNING:tensorflow:Large dropout rate: 0.8 (>0.5). In TensorFlow 2.x, dropout() uses dropout rate instead of keep_prob. Please ensure that this is intended.\n",
      "49000/49000 - 9s - loss: 1.8178 - sparse_categorical_accuracy: 0.3416 - val_loss: 1.5369 - val_sparse_categorical_accuracy: 0.4590\n",
      "Epoch 2/15\n",
      "49000/49000 - 7s - loss: 1.5366 - sparse_categorical_accuracy: 0.4421 - val_loss: 1.3388 - val_sparse_categorical_accuracy: 0.5370\n",
      "Epoch 3/15\n",
      "49000/49000 - 7s - loss: 1.4418 - sparse_categorical_accuracy: 0.4822 - val_loss: 1.2990 - val_sparse_categorical_accuracy: 0.5450\n",
      "Epoch 4/15\n",
      "49000/49000 - 7s - loss: 1.3841 - sparse_categorical_accuracy: 0.5102 - val_loss: 1.1420 - val_sparse_categorical_accuracy: 0.6250\n",
      "Epoch 5/15\n",
      "49000/49000 - 7s - loss: 1.3477 - sparse_categorical_accuracy: 0.5261 - val_loss: 1.2600 - val_sparse_categorical_accuracy: 0.5700\n",
      "Epoch 6/15\n",
      "49000/49000 - 7s - loss: 1.3134 - sparse_categorical_accuracy: 0.5387 - val_loss: 1.1836 - val_sparse_categorical_accuracy: 0.6030\n",
      "Epoch 7/15\n",
      "49000/49000 - 7s - loss: 1.2857 - sparse_categorical_accuracy: 0.5489 - val_loss: 1.1019 - val_sparse_categorical_accuracy: 0.6320\n",
      "Epoch 8/15\n",
      "49000/49000 - 7s - loss: 1.2732 - sparse_categorical_accuracy: 0.5529 - val_loss: 1.1282 - val_sparse_categorical_accuracy: 0.6190\n",
      "Epoch 9/15\n",
      "49000/49000 - 7s - loss: 1.2452 - sparse_categorical_accuracy: 0.5640 - val_loss: 1.0946 - val_sparse_categorical_accuracy: 0.6230\n",
      "Epoch 10/15\n",
      "49000/49000 - 7s - loss: 1.2397 - sparse_categorical_accuracy: 0.5694 - val_loss: 0.9886 - val_sparse_categorical_accuracy: 0.6770\n",
      "Epoch 11/15\n",
      "49000/49000 - 7s - loss: 1.2206 - sparse_categorical_accuracy: 0.5791 - val_loss: 1.0528 - val_sparse_categorical_accuracy: 0.6290\n",
      "Epoch 12/15\n",
      "49000/49000 - 7s - loss: 1.2022 - sparse_categorical_accuracy: 0.5849 - val_loss: 0.9774 - val_sparse_categorical_accuracy: 0.6760\n",
      "Epoch 13/15\n",
      "49000/49000 - 7s - loss: 1.1906 - sparse_categorical_accuracy: 0.5885 - val_loss: 1.0229 - val_sparse_categorical_accuracy: 0.6570\n",
      "Epoch 14/15\n",
      "49000/49000 - 7s - loss: 1.1864 - sparse_categorical_accuracy: 0.5880 - val_loss: 1.0004 - val_sparse_categorical_accuracy: 0.6530\n",
      "Epoch 15/15\n",
      "49000/49000 - 7s - loss: 1.1760 - sparse_categorical_accuracy: 0.5958 - val_loss: 0.9733 - val_sparse_categorical_accuracy: 0.6770\n"
     ]
    }
   ],
   "source": [
    "ps_params['nepochs']=15\n",
    "ps_model=create_model(ps_params)\n",
    "ps_score=score_model(ps_model,ps_params,X_train, y_train, X_val, y_val)"
   ]
  },
  {
   "cell_type": "code",
   "execution_count": 13,
   "metadata": {},
   "outputs": [
    {
     "name": "stdout",
     "output_type": "stream",
     "text": [
      "10000/10000 [==============================] - 1s 93us/sample - loss: 0.9858 - sparse_categorical_accuracy: 0.6693\n"
     ]
    },
    {
     "data": {
      "text/plain": [
       "[0.9858215288162231, 0.6693]"
      ]
     },
     "execution_count": 13,
     "metadata": {},
     "output_type": "execute_result"
    }
   ],
   "source": [
    "ps_model.evaluate(X_test,y_test)"
   ]
  },
  {
   "cell_type": "code",
   "execution_count": null,
   "metadata": {},
   "outputs": [],
   "source": []
  }
 ],
 "metadata": {
  "kernelspec": {
   "display_name": "Python 3",
   "language": "python",
   "name": "python3"
  },
  "language_info": {
   "codemirror_mode": {
    "name": "ipython",
    "version": 3
   },
   "file_extension": ".py",
   "mimetype": "text/x-python",
   "name": "python",
   "nbconvert_exporter": "python",
   "pygments_lexer": "ipython3",
   "version": "3.7.6"
  }
 },
 "nbformat": 4,
 "nbformat_minor": 4
}
