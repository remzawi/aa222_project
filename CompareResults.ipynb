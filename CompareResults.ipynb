{
 "cells": [
  {
   "cell_type": "markdown",
   "metadata": {},
   "source": [
    "Notebook to compare results between algorithms"
   ]
  },
  {
   "cell_type": "markdown",
   "metadata": {},
   "source": [
    "Some functions and imports"
   ]
  },
  {
   "cell_type": "code",
   "execution_count": 1,
   "metadata": {},
   "outputs": [],
   "source": [
    "import pickle\n",
    "\n",
    "def save_obj(obj, name ):\n",
    "    with open(name + '.pkl', 'wb') as f:\n",
    "        pickle.dump(obj, f, pickle.HIGHEST_PROTOCOL)\n",
    "\n",
    "def load_obj(name ):\n",
    "    with open(name + '.pkl', 'rb') as f:\n",
    "        return pickle.load(f)"
   ]
  },
  {
   "cell_type": "markdown",
   "metadata": {},
   "source": [
    "Random sampling"
   ]
  },
  {
   "cell_type": "code",
   "execution_count": 2,
   "metadata": {},
   "outputs": [
    {
     "name": "stdout",
     "output_type": "stream",
     "text": [
      "Random parameters:  {'nepochs': 8, 'learning_rate': 0.0007554045569226791, 'batch_size': 42.0, 'conv_size1': 88.0, 'conv_size2': 68.0, 'conv_size3': 125.0, 'fc_size': 185.0, 'dropout_param': 0.3617849015911418, 'l2_reg': 3.937373308580236e-09}\n",
      "Random score:  0.778\n"
     ]
    }
   ],
   "source": [
    "rd_params=load_obj(\"RandOptParam2\")\n",
    "rd_score=load_obj('RandScore2')\n",
    "print(\"Random parameters: \",rd_params)\n",
    "print(\"Random score: \",rd_score)"
   ]
  },
  {
   "cell_type": "markdown",
   "metadata": {},
   "source": [
    "Particle swarm optimization"
   ]
  },
  {
   "cell_type": "code",
   "execution_count": 3,
   "metadata": {},
   "outputs": [
    {
     "name": "stdout",
     "output_type": "stream",
     "text": [
      "Particle swarm parameters:  {'nepochs': 8, 'learning_rate': 1e-05, 'batch_size': 256.0, 'conv_size1': 128.0, 'conv_size2': 101.0, 'conv_size3': 82.0, 'fc_size': 177.0, 'dropout_param': 0.10439603062519064, 'l2_reg': 1e-10}\n",
      "Particle swarm score:  0.752\n"
     ]
    }
   ],
   "source": [
    "ps_params=load_obj('PSOptParam4')\n",
    "ps_score=load_obj('PSScore4')\n",
    "print(\"Particle swarm parameters: \",ps_params)\n",
    "print(\"Particle swarm score: \",ps_score)"
   ]
  },
  {
   "cell_type": "markdown",
   "metadata": {},
   "source": [
    "Genetic algorithm"
   ]
  },
  {
   "cell_type": "code",
   "execution_count": 4,
   "metadata": {},
   "outputs": [
    {
     "name": "stdout",
     "output_type": "stream",
     "text": [
      "Genetic algorithm parameters:  {'nepochs': 8, 'learning_rate': 0.0014706012338140193, 'batch_size': 190.0, 'conv_size1': 93.0, 'conv_size2': 109.0, 'conv_size3': 32.0, 'fc_size': 174.0, 'dropout_param': 0.39989030761487554, 'l2_reg': 1.4053296754765366e-05}\n",
      "Genetic algorithm score:  0.7710000276565552\n"
     ]
    }
   ],
   "source": [
    "gp_params=load_obj('GPOptParam')\n",
    "gp_score=load_obj('GPScore')\n",
    "print(\"Genetic algorithm parameters: \",gp_params)\n",
    "print(\"Genetic algorithm score: \",gp_score)"
   ]
  },
  {
   "cell_type": "markdown",
   "metadata": {},
   "source": [
    "Retrain models for more epochs to see which params behave better"
   ]
  },
  {
   "cell_type": "code",
   "execution_count": 5,
   "metadata": {},
   "outputs": [],
   "source": [
    "from kerasmodel import *\n",
    "X_train, y_train, X_val, y_val, X_test, y_test=load_cifar()"
   ]
  },
  {
   "cell_type": "markdown",
   "metadata": {},
   "source": [
    "Random model"
   ]
  },
  {
   "cell_type": "code",
   "execution_count": 6,
   "metadata": {},
   "outputs": [
    {
     "name": "stdout",
     "output_type": "stream",
     "text": [
      "Train on 49000 samples, validate on 1000 samples\n",
      "Epoch 1/15\n",
      "49000/49000 - 16s - loss: 1.3844 - sparse_categorical_accuracy: 0.5028 - val_loss: 1.0441 - val_sparse_categorical_accuracy: 0.6350\n",
      "Epoch 2/15\n",
      "49000/49000 - 12s - loss: 0.9572 - sparse_categorical_accuracy: 0.6633 - val_loss: 0.8759 - val_sparse_categorical_accuracy: 0.7040\n",
      "Epoch 3/15\n",
      "49000/49000 - 12s - loss: 0.8388 - sparse_categorical_accuracy: 0.7043 - val_loss: 0.8680 - val_sparse_categorical_accuracy: 0.6950\n",
      "Epoch 4/15\n",
      "49000/49000 - 12s - loss: 0.7631 - sparse_categorical_accuracy: 0.7319 - val_loss: 0.8337 - val_sparse_categorical_accuracy: 0.7080\n",
      "Epoch 5/15\n",
      "49000/49000 - 12s - loss: 0.6993 - sparse_categorical_accuracy: 0.7548 - val_loss: 0.7324 - val_sparse_categorical_accuracy: 0.7470\n",
      "Epoch 6/15\n",
      "49000/49000 - 12s - loss: 0.6509 - sparse_categorical_accuracy: 0.7719 - val_loss: 0.6881 - val_sparse_categorical_accuracy: 0.7730\n",
      "Epoch 7/15\n",
      "49000/49000 - 12s - loss: 0.6021 - sparse_categorical_accuracy: 0.7891 - val_loss: 0.6724 - val_sparse_categorical_accuracy: 0.7670\n",
      "Epoch 8/15\n",
      "49000/49000 - 12s - loss: 0.5570 - sparse_categorical_accuracy: 0.8059 - val_loss: 0.7143 - val_sparse_categorical_accuracy: 0.7620\n",
      "Epoch 9/15\n",
      "49000/49000 - 12s - loss: 0.5244 - sparse_categorical_accuracy: 0.8144 - val_loss: 0.6278 - val_sparse_categorical_accuracy: 0.7830\n",
      "Epoch 10/15\n",
      "49000/49000 - 12s - loss: 0.4899 - sparse_categorical_accuracy: 0.8277 - val_loss: 0.6757 - val_sparse_categorical_accuracy: 0.7780\n",
      "Epoch 11/15\n",
      "49000/49000 - 12s - loss: 0.4579 - sparse_categorical_accuracy: 0.8354 - val_loss: 0.6595 - val_sparse_categorical_accuracy: 0.7830\n",
      "Epoch 12/15\n",
      "49000/49000 - 12s - loss: 0.4283 - sparse_categorical_accuracy: 0.8491 - val_loss: 0.6840 - val_sparse_categorical_accuracy: 0.7770\n",
      "Epoch 13/15\n",
      "49000/49000 - 12s - loss: 0.4024 - sparse_categorical_accuracy: 0.8566 - val_loss: 0.5960 - val_sparse_categorical_accuracy: 0.8060\n",
      "Epoch 14/15\n",
      "49000/49000 - 12s - loss: 0.3762 - sparse_categorical_accuracy: 0.8669 - val_loss: 0.6403 - val_sparse_categorical_accuracy: 0.8060\n",
      "Epoch 15/15\n",
      "49000/49000 - 12s - loss: 0.3569 - sparse_categorical_accuracy: 0.8732 - val_loss: 0.6671 - val_sparse_categorical_accuracy: 0.7790\n"
     ]
    }
   ],
   "source": [
    "rd_params['nepochs']=15\n",
    "rd_model=create_model(rd_params)\n",
    "rd_score=score_model(rd_model,rd_params,X_train, y_train, X_val, y_val)"
   ]
  },
  {
   "cell_type": "code",
   "execution_count": 7,
   "metadata": {},
   "outputs": [
    {
     "name": "stdout",
     "output_type": "stream",
     "text": [
      "10000/10000 [==============================] - 1s 138us/sample - loss: 0.6987 - sparse_categorical_accuracy: 0.7784\n"
     ]
    },
    {
     "data": {
      "text/plain": [
       "[0.6986614326715469, 0.7784]"
      ]
     },
     "execution_count": 7,
     "metadata": {},
     "output_type": "execute_result"
    }
   ],
   "source": [
    "rd_model.evaluate(X_test,y_test)"
   ]
  },
  {
   "cell_type": "markdown",
   "metadata": {},
   "source": [
    "Particle swarm model"
   ]
  },
  {
   "cell_type": "code",
   "execution_count": 8,
   "metadata": {},
   "outputs": [
    {
     "name": "stdout",
     "output_type": "stream",
     "text": [
      "Train on 49000 samples, validate on 1000 samples\n",
      "Epoch 1/15\n",
      "49000/49000 - 14s - loss: 2.0463 - sparse_categorical_accuracy: 0.2771 - val_loss: 2.2713 - val_sparse_categorical_accuracy: 0.1470\n",
      "Epoch 2/15\n",
      "49000/49000 - 11s - loss: 1.6579 - sparse_categorical_accuracy: 0.4098 - val_loss: 1.8439 - val_sparse_categorical_accuracy: 0.3300\n",
      "Epoch 3/15\n",
      "49000/49000 - 11s - loss: 1.5226 - sparse_categorical_accuracy: 0.4558 - val_loss: 1.4674 - val_sparse_categorical_accuracy: 0.4900\n",
      "Epoch 4/15\n",
      "49000/49000 - 11s - loss: 1.4314 - sparse_categorical_accuracy: 0.4887 - val_loss: 1.3626 - val_sparse_categorical_accuracy: 0.5240\n",
      "Epoch 5/15\n",
      "49000/49000 - 11s - loss: 1.3605 - sparse_categorical_accuracy: 0.5160 - val_loss: 1.2972 - val_sparse_categorical_accuracy: 0.5480\n",
      "Epoch 6/15\n",
      "49000/49000 - 11s - loss: 1.3033 - sparse_categorical_accuracy: 0.5378 - val_loss: 1.2559 - val_sparse_categorical_accuracy: 0.5580\n",
      "Epoch 7/15\n",
      "49000/49000 - 11s - loss: 1.2584 - sparse_categorical_accuracy: 0.5524 - val_loss: 1.2250 - val_sparse_categorical_accuracy: 0.5730\n",
      "Epoch 8/15\n",
      "49000/49000 - 11s - loss: 1.2164 - sparse_categorical_accuracy: 0.5702 - val_loss: 1.1958 - val_sparse_categorical_accuracy: 0.5830\n",
      "Epoch 9/15\n",
      "49000/49000 - 11s - loss: 1.1814 - sparse_categorical_accuracy: 0.5828 - val_loss: 1.1601 - val_sparse_categorical_accuracy: 0.6000\n",
      "Epoch 10/15\n",
      "49000/49000 - 11s - loss: 1.1486 - sparse_categorical_accuracy: 0.5947 - val_loss: 1.1425 - val_sparse_categorical_accuracy: 0.6060\n",
      "Epoch 11/15\n",
      "49000/49000 - 11s - loss: 1.1144 - sparse_categorical_accuracy: 0.6081 - val_loss: 1.1150 - val_sparse_categorical_accuracy: 0.6110\n",
      "Epoch 12/15\n",
      "49000/49000 - 11s - loss: 1.0851 - sparse_categorical_accuracy: 0.6205 - val_loss: 1.0884 - val_sparse_categorical_accuracy: 0.6190\n",
      "Epoch 13/15\n",
      "49000/49000 - 11s - loss: 1.0613 - sparse_categorical_accuracy: 0.6291 - val_loss: 1.0677 - val_sparse_categorical_accuracy: 0.6320\n",
      "Epoch 14/15\n",
      "49000/49000 - 11s - loss: 1.0383 - sparse_categorical_accuracy: 0.6365 - val_loss: 1.0462 - val_sparse_categorical_accuracy: 0.6440\n",
      "Epoch 15/15\n",
      "49000/49000 - 11s - loss: 1.0147 - sparse_categorical_accuracy: 0.6453 - val_loss: 1.0406 - val_sparse_categorical_accuracy: 0.6430\n"
     ]
    }
   ],
   "source": [
    "ps_params['nepochs']=15\n",
    "ps_model=ToyNet(ps_params)\n",
    "ps_score=score_model(ps_model,ps_params,X_train, y_train, X_val, y_val)"
   ]
  },
  {
   "cell_type": "code",
   "execution_count": 9,
   "metadata": {},
   "outputs": [
    {
     "name": "stdout",
     "output_type": "stream",
     "text": [
      "10000/10000 [==============================] - 2s 156us/sample - loss: 1.0517 - sparse_categorical_accuracy: 0.6286\n"
     ]
    },
    {
     "data": {
      "text/plain": [
       "[1.0517145499229432, 0.6286]"
      ]
     },
     "execution_count": 9,
     "metadata": {},
     "output_type": "execute_result"
    }
   ],
   "source": [
    "ps_model.evaluate(X_test,y_test)"
   ]
  },
  {
   "cell_type": "markdown",
   "metadata": {},
   "source": [
    "Genetique model"
   ]
  },
  {
   "cell_type": "code",
   "execution_count": 10,
   "metadata": {},
   "outputs": [
    {
     "name": "stdout",
     "output_type": "stream",
     "text": [
      "Train on 49000 samples, validate on 1000 samples\n",
      "Epoch 1/15\n",
      "49000/49000 - 12s - loss: 1.6304 - sparse_categorical_accuracy: 0.4257 - val_loss: 1.5636 - val_sparse_categorical_accuracy: 0.4450\n",
      "Epoch 2/15\n",
      "49000/49000 - 10s - loss: 1.1245 - sparse_categorical_accuracy: 0.5976 - val_loss: 1.1056 - val_sparse_categorical_accuracy: 0.6050\n",
      "Epoch 3/15\n",
      "49000/49000 - 10s - loss: 0.9539 - sparse_categorical_accuracy: 0.6667 - val_loss: 0.9262 - val_sparse_categorical_accuracy: 0.6790\n",
      "Epoch 4/15\n",
      "49000/49000 - 10s - loss: 0.8640 - sparse_categorical_accuracy: 0.6971 - val_loss: 0.9893 - val_sparse_categorical_accuracy: 0.6570\n",
      "Epoch 5/15\n",
      "49000/49000 - 10s - loss: 0.8084 - sparse_categorical_accuracy: 0.7177 - val_loss: 0.8331 - val_sparse_categorical_accuracy: 0.7220\n",
      "Epoch 6/15\n",
      "49000/49000 - 10s - loss: 0.7599 - sparse_categorical_accuracy: 0.7349 - val_loss: 0.8049 - val_sparse_categorical_accuracy: 0.7130\n",
      "Epoch 7/15\n",
      "49000/49000 - 10s - loss: 0.7169 - sparse_categorical_accuracy: 0.7520 - val_loss: 0.7086 - val_sparse_categorical_accuracy: 0.7530\n",
      "Epoch 8/15\n",
      "49000/49000 - 10s - loss: 0.6801 - sparse_categorical_accuracy: 0.7657 - val_loss: 0.7112 - val_sparse_categorical_accuracy: 0.7600\n",
      "Epoch 9/15\n",
      "49000/49000 - 10s - loss: 0.6565 - sparse_categorical_accuracy: 0.7718 - val_loss: 0.7408 - val_sparse_categorical_accuracy: 0.7330\n",
      "Epoch 10/15\n",
      "49000/49000 - 10s - loss: 0.6273 - sparse_categorical_accuracy: 0.7821 - val_loss: 0.6540 - val_sparse_categorical_accuracy: 0.7780\n",
      "Epoch 11/15\n",
      "49000/49000 - 10s - loss: 0.6004 - sparse_categorical_accuracy: 0.7938 - val_loss: 0.7498 - val_sparse_categorical_accuracy: 0.7440\n",
      "Epoch 12/15\n",
      "49000/49000 - 10s - loss: 0.5804 - sparse_categorical_accuracy: 0.7997 - val_loss: 0.6824 - val_sparse_categorical_accuracy: 0.7750\n",
      "Epoch 13/15\n",
      "49000/49000 - 10s - loss: 0.5596 - sparse_categorical_accuracy: 0.8071 - val_loss: 0.6495 - val_sparse_categorical_accuracy: 0.7810\n",
      "Epoch 14/15\n",
      "49000/49000 - 10s - loss: 0.5495 - sparse_categorical_accuracy: 0.8127 - val_loss: 0.7127 - val_sparse_categorical_accuracy: 0.7570\n",
      "Epoch 15/15\n",
      "49000/49000 - 10s - loss: 0.5298 - sparse_categorical_accuracy: 0.8200 - val_loss: 0.6320 - val_sparse_categorical_accuracy: 0.7910\n"
     ]
    }
   ],
   "source": [
    "gp_params['nepochs']=15\n",
    "gp_model=ToyNet(gp_params)\n",
    "gp_score=score_model(gp_model,gp_params,X_train, y_train, X_val, y_val)"
   ]
  },
  {
   "cell_type": "code",
   "execution_count": 11,
   "metadata": {},
   "outputs": [
    {
     "name": "stdout",
     "output_type": "stream",
     "text": [
      "10000/10000 [==============================] - 1s 146us/sample - loss: 0.6444 - sparse_categorical_accuracy: 0.7818\n"
     ]
    },
    {
     "data": {
      "text/plain": [
       "[0.6444199601650238, 0.7818]"
      ]
     },
     "execution_count": 11,
     "metadata": {},
     "output_type": "execute_result"
    }
   ],
   "source": [
    "gp_model.evaluate(X_test,y_test)"
   ]
  },
  {
   "cell_type": "code",
   "execution_count": null,
   "metadata": {},
   "outputs": [],
   "source": []
  }
 ],
 "metadata": {
  "kernelspec": {
   "display_name": "Python 3",
   "language": "python",
   "name": "python3"
  },
  "language_info": {
   "codemirror_mode": {
    "name": "ipython",
    "version": 3
   },
   "file_extension": ".py",
   "mimetype": "text/x-python",
   "name": "python",
   "nbconvert_exporter": "python",
   "pygments_lexer": "ipython3",
   "version": "3.7.6"
  }
 },
 "nbformat": 4,
 "nbformat_minor": 4
}
