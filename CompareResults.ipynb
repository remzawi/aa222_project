{
 "cells": [
  {
   "cell_type": "markdown",
   "metadata": {},
   "source": [
    "Notebook to compare results between algorithms"
   ]
  },
  {
   "cell_type": "markdown",
   "metadata": {},
   "source": [
    "200 iterations"
   ]
  },
  {
   "cell_type": "markdown",
   "metadata": {},
   "source": [
    "Some functions and imports"
   ]
  },
  {
   "cell_type": "code",
   "execution_count": 2,
   "metadata": {},
   "outputs": [],
   "source": [
    "import pickle\n",
    "\n",
    "def save_obj(obj, name ):\n",
    "    with open(name + '.pkl', 'wb') as f:\n",
    "        pickle.dump(obj, f, pickle.HIGHEST_PROTOCOL)\n",
    "\n",
    "def load_obj(name ):\n",
    "    with open(name + '.pkl', 'rb') as f:\n",
    "        return pickle.load(f)"
   ]
  },
  {
   "cell_type": "markdown",
   "metadata": {},
   "source": [
    "Random sampling"
   ]
  },
  {
   "cell_type": "code",
   "execution_count": 3,
   "metadata": {},
   "outputs": [
    {
     "name": "stdout",
     "output_type": "stream",
     "text": [
      "Random parameters:  {'nepochs': 8, 'learning_rate': 0.000729797372809362, 'batch_size': 42.0, 'conv_size1': 68.0, 'conv_size2': 61.0, 'conv_size3': 72.0, 'fc_size': 156.0, 'dropout_param': 0.09557593783746465, 'l2_reg': 3.6940223582782394e-06}\n",
      "Random score:  0.791\n"
     ]
    }
   ],
   "source": [
    "rd_params=load_obj(\"RandOptParam200\")\n",
    "rd_score=load_obj('RandScore200')\n",
    "print(\"Random parameters: \",rd_params)\n",
    "print(\"Random score: \",rd_score)"
   ]
  },
  {
   "cell_type": "markdown",
   "metadata": {},
   "source": [
    "Particle swarm optimization"
   ]
  },
  {
   "cell_type": "code",
   "execution_count": 4,
   "metadata": {},
   "outputs": [
    {
     "name": "stdout",
     "output_type": "stream",
     "text": [
      "Particle swarm parameters:  {'nepochs': 8, 'learning_rate': 0.0017186961757780267, 'batch_size': 56.0, 'conv_size1': 32.0, 'conv_size2': 125.0, 'conv_size3': 61.0, 'fc_size': 145.0, 'dropout_param': 0.0, 'l2_reg': 1e-10}\n",
      "Particle swarm score:  0.789\n"
     ]
    }
   ],
   "source": [
    "ps_params=load_obj('PSOptParam200')\n",
    "ps_score=load_obj('PSScore200')\n",
    "print(\"Particle swarm parameters: \",ps_params)\n",
    "print(\"Particle swarm score: \",ps_score)"
   ]
  },
  {
   "cell_type": "markdown",
   "metadata": {},
   "source": [
    "Genetic algorithm"
   ]
  },
  {
   "cell_type": "code",
   "execution_count": 5,
   "metadata": {},
   "outputs": [
    {
     "name": "stdout",
     "output_type": "stream",
     "text": [
      "Genetic algorithm parameters:  {'nepochs': 8, 'learning_rate': 0.001172468301071695, 'batch_size': 32.0, 'conv_size1': 107.0, 'conv_size2': 86.0, 'conv_size3': 109.0, 'fc_size': 160.0, 'dropout_param': 0.2617519889727094, 'l2_reg': 8.292267029306733e-09}\n",
      "Genetic algorithm score:  0.8069999814033508\n"
     ]
    }
   ],
   "source": [
    "ga_params=load_obj('GAOptParam200')\n",
    "ga_score=load_obj('GAScore200')\n",
    "print(\"Genetic algorithm parameters: \",ga_params)\n",
    "print(\"Genetic algorithm score: \",ga_score)"
   ]
  },
  {
   "cell_type": "markdown",
   "metadata": {},
   "source": [
    "Retrain models for more epochs to see which params behave better"
   ]
  },
  {
   "cell_type": "code",
   "execution_count": 6,
   "metadata": {},
   "outputs": [],
   "source": [
    "from kerasmodel import *\n",
    "X_train, y_train, X_val, y_val, X_test, y_test=load_cifar()"
   ]
  },
  {
   "cell_type": "markdown",
   "metadata": {},
   "source": [
    "Random model"
   ]
  },
  {
   "cell_type": "code",
   "execution_count": 7,
   "metadata": {},
   "outputs": [
    {
     "name": "stdout",
     "output_type": "stream",
     "text": [
      "Train on 49000 samples, validate on 1000 samples\n",
      "Epoch 1/15\n",
      "49000/49000 - 13s - loss: 1.2844 - sparse_categorical_accuracy: 0.5445 - val_loss: 1.1559 - val_sparse_categorical_accuracy: 0.6030\n",
      "Epoch 2/15\n",
      "49000/49000 - 10s - loss: 0.8944 - sparse_categorical_accuracy: 0.6846 - val_loss: 0.9200 - val_sparse_categorical_accuracy: 0.6810\n",
      "Epoch 3/15\n",
      "49000/49000 - 10s - loss: 0.7642 - sparse_categorical_accuracy: 0.7342 - val_loss: 0.8808 - val_sparse_categorical_accuracy: 0.7170\n",
      "Epoch 4/15\n",
      "49000/49000 - 10s - loss: 0.6856 - sparse_categorical_accuracy: 0.7634 - val_loss: 0.7496 - val_sparse_categorical_accuracy: 0.7490\n",
      "Epoch 5/15\n",
      "49000/49000 - 10s - loss: 0.6187 - sparse_categorical_accuracy: 0.7836 - val_loss: 0.8177 - val_sparse_categorical_accuracy: 0.7340\n",
      "Epoch 6/15\n",
      "49000/49000 - 10s - loss: 0.5577 - sparse_categorical_accuracy: 0.8050 - val_loss: 0.8676 - val_sparse_categorical_accuracy: 0.7210\n",
      "Epoch 7/15\n",
      "49000/49000 - 10s - loss: 0.5123 - sparse_categorical_accuracy: 0.8216 - val_loss: 0.7156 - val_sparse_categorical_accuracy: 0.7590\n",
      "Epoch 8/15\n",
      "49000/49000 - 10s - loss: 0.4611 - sparse_categorical_accuracy: 0.8408 - val_loss: 0.6816 - val_sparse_categorical_accuracy: 0.7700\n",
      "Epoch 9/15\n",
      "49000/49000 - 10s - loss: 0.4250 - sparse_categorical_accuracy: 0.8526 - val_loss: 0.6981 - val_sparse_categorical_accuracy: 0.7820\n",
      "Epoch 10/15\n",
      "49000/49000 - 10s - loss: 0.3891 - sparse_categorical_accuracy: 0.8626 - val_loss: 0.7226 - val_sparse_categorical_accuracy: 0.7610\n",
      "Epoch 11/15\n",
      "49000/49000 - 10s - loss: 0.3560 - sparse_categorical_accuracy: 0.8759 - val_loss: 0.6932 - val_sparse_categorical_accuracy: 0.7720\n",
      "Epoch 12/15\n",
      "49000/49000 - 10s - loss: 0.3224 - sparse_categorical_accuracy: 0.8868 - val_loss: 0.7821 - val_sparse_categorical_accuracy: 0.7740\n",
      "Epoch 13/15\n",
      "49000/49000 - 10s - loss: 0.2971 - sparse_categorical_accuracy: 0.8967 - val_loss: 0.7843 - val_sparse_categorical_accuracy: 0.7730\n",
      "Epoch 14/15\n",
      "49000/49000 - 10s - loss: 0.2740 - sparse_categorical_accuracy: 0.9048 - val_loss: 0.8179 - val_sparse_categorical_accuracy: 0.7670\n",
      "Epoch 15/15\n",
      "49000/49000 - 10s - loss: 0.2480 - sparse_categorical_accuracy: 0.9148 - val_loss: 0.8461 - val_sparse_categorical_accuracy: 0.7810\n"
     ]
    }
   ],
   "source": [
    "rd_params['nepochs']=15\n",
    "rd_model=create_model(rd_params)\n",
    "rd_score=score_model(rd_model,rd_params,X_train, y_train, X_val, y_val)"
   ]
  },
  {
   "cell_type": "code",
   "execution_count": 8,
   "metadata": {},
   "outputs": [
    {
     "name": "stdout",
     "output_type": "stream",
     "text": [
      "10000/10000 [==============================] - 1s 129us/sample - loss: 0.8994 - sparse_categorical_accuracy: 0.7569\n"
     ]
    },
    {
     "data": {
      "text/plain": [
       "[0.8993713715076447, 0.7569]"
      ]
     },
     "execution_count": 8,
     "metadata": {},
     "output_type": "execute_result"
    }
   ],
   "source": [
    "rd_model.evaluate(X_test,y_test)"
   ]
  },
  {
   "cell_type": "markdown",
   "metadata": {},
   "source": [
    "Particle swarm model"
   ]
  },
  {
   "cell_type": "code",
   "execution_count": 11,
   "metadata": {},
   "outputs": [
    {
     "name": "stdout",
     "output_type": "stream",
     "text": [
      "Train on 49000 samples, validate on 1000 samples\n",
      "Epoch 1/15\n",
      "49000/49000 - 10s - loss: 1.3534 - sparse_categorical_accuracy: 0.5250 - val_loss: 0.9803 - val_sparse_categorical_accuracy: 0.6650\n",
      "Epoch 2/15\n",
      "49000/49000 - 9s - loss: 0.8869 - sparse_categorical_accuracy: 0.6894 - val_loss: 0.9083 - val_sparse_categorical_accuracy: 0.6980\n",
      "Epoch 3/15\n",
      "49000/49000 - 9s - loss: 0.7517 - sparse_categorical_accuracy: 0.7361 - val_loss: 0.8452 - val_sparse_categorical_accuracy: 0.7150\n",
      "Epoch 4/15\n",
      "49000/49000 - 9s - loss: 0.6596 - sparse_categorical_accuracy: 0.7705 - val_loss: 0.7381 - val_sparse_categorical_accuracy: 0.7530\n",
      "Epoch 5/15\n",
      "49000/49000 - 9s - loss: 0.5809 - sparse_categorical_accuracy: 0.7973 - val_loss: 0.8391 - val_sparse_categorical_accuracy: 0.7380\n",
      "Epoch 6/15\n",
      "49000/49000 - 9s - loss: 0.5142 - sparse_categorical_accuracy: 0.8194 - val_loss: 0.7143 - val_sparse_categorical_accuracy: 0.7570\n",
      "Epoch 7/15\n",
      "49000/49000 - 9s - loss: 0.4543 - sparse_categorical_accuracy: 0.8408 - val_loss: 0.7648 - val_sparse_categorical_accuracy: 0.7460\n",
      "Epoch 8/15\n",
      "49000/49000 - 9s - loss: 0.3946 - sparse_categorical_accuracy: 0.8618 - val_loss: 0.7623 - val_sparse_categorical_accuracy: 0.7620\n",
      "Epoch 9/15\n",
      "49000/49000 - 9s - loss: 0.3409 - sparse_categorical_accuracy: 0.8804 - val_loss: 0.7605 - val_sparse_categorical_accuracy: 0.7660\n",
      "Epoch 10/15\n",
      "49000/49000 - 9s - loss: 0.2996 - sparse_categorical_accuracy: 0.8932 - val_loss: 0.8863 - val_sparse_categorical_accuracy: 0.7490\n",
      "Epoch 11/15\n",
      "49000/49000 - 9s - loss: 0.2513 - sparse_categorical_accuracy: 0.9115 - val_loss: 0.8125 - val_sparse_categorical_accuracy: 0.7860\n",
      "Epoch 12/15\n",
      "49000/49000 - 9s - loss: 0.2252 - sparse_categorical_accuracy: 0.9202 - val_loss: 0.8875 - val_sparse_categorical_accuracy: 0.7680\n",
      "Epoch 13/15\n",
      "49000/49000 - 9s - loss: 0.1941 - sparse_categorical_accuracy: 0.9313 - val_loss: 0.8714 - val_sparse_categorical_accuracy: 0.7810\n",
      "Epoch 14/15\n",
      "49000/49000 - 9s - loss: 0.1660 - sparse_categorical_accuracy: 0.9417 - val_loss: 0.9820 - val_sparse_categorical_accuracy: 0.7690\n",
      "Epoch 15/15\n",
      "49000/49000 - 9s - loss: 0.1487 - sparse_categorical_accuracy: 0.9475 - val_loss: 1.0509 - val_sparse_categorical_accuracy: 0.7630\n"
     ]
    }
   ],
   "source": [
    "ps_params['nepochs']=15\n",
    "ps_model=ToyNet(ps_params)\n",
    "ps_score=score_model(ps_model,ps_params,X_train, y_train, X_val, y_val)"
   ]
  },
  {
   "cell_type": "code",
   "execution_count": 15,
   "metadata": {},
   "outputs": [
    {
     "name": "stdout",
     "output_type": "stream",
     "text": [
      "10000/10000 [==============================] - 1s 114us/sample - loss: 1.0607 - sparse_categorical_accuracy: 0.7619\n"
     ]
    },
    {
     "data": {
      "text/plain": [
       "[1.06069740421772, 0.7619]"
      ]
     },
     "execution_count": 15,
     "metadata": {},
     "output_type": "execute_result"
    }
   ],
   "source": [
    "ps_model.evaluate(X_test,y_test)"
   ]
  },
  {
   "cell_type": "markdown",
   "metadata": {},
   "source": [
    "Genetique model"
   ]
  },
  {
   "cell_type": "code",
   "execution_count": 12,
   "metadata": {},
   "outputs": [
    {
     "name": "stdout",
     "output_type": "stream",
     "text": [
      "Train on 49000 samples, validate on 1000 samples\n",
      "Epoch 1/15\n",
      "49000/49000 - 15s - loss: 1.3864 - sparse_categorical_accuracy: 0.5074 - val_loss: 1.1465 - val_sparse_categorical_accuracy: 0.5990\n",
      "Epoch 2/15\n",
      "49000/49000 - 14s - loss: 0.9205 - sparse_categorical_accuracy: 0.6757 - val_loss: 0.9361 - val_sparse_categorical_accuracy: 0.6630\n",
      "Epoch 3/15\n",
      "49000/49000 - 14s - loss: 0.7914 - sparse_categorical_accuracy: 0.7215 - val_loss: 0.9040 - val_sparse_categorical_accuracy: 0.6940\n",
      "Epoch 4/15\n",
      "49000/49000 - 14s - loss: 0.6987 - sparse_categorical_accuracy: 0.7553 - val_loss: 0.9365 - val_sparse_categorical_accuracy: 0.6860\n",
      "Epoch 5/15\n",
      "49000/49000 - 14s - loss: 0.6229 - sparse_categorical_accuracy: 0.7824 - val_loss: 0.7172 - val_sparse_categorical_accuracy: 0.7560\n",
      "Epoch 6/15\n",
      "49000/49000 - 14s - loss: 0.5607 - sparse_categorical_accuracy: 0.8036 - val_loss: 0.8030 - val_sparse_categorical_accuracy: 0.7330\n",
      "Epoch 7/15\n",
      "49000/49000 - 14s - loss: 0.5059 - sparse_categorical_accuracy: 0.8233 - val_loss: 0.6454 - val_sparse_categorical_accuracy: 0.7880\n",
      "Epoch 8/15\n",
      "49000/49000 - 14s - loss: 0.4621 - sparse_categorical_accuracy: 0.8385 - val_loss: 0.6400 - val_sparse_categorical_accuracy: 0.7890\n",
      "Epoch 9/15\n",
      "49000/49000 - 14s - loss: 0.4168 - sparse_categorical_accuracy: 0.8540 - val_loss: 0.6728 - val_sparse_categorical_accuracy: 0.7730\n",
      "Epoch 10/15\n",
      "49000/49000 - 14s - loss: 0.3817 - sparse_categorical_accuracy: 0.8662 - val_loss: 0.6611 - val_sparse_categorical_accuracy: 0.7780\n",
      "Epoch 11/15\n",
      "49000/49000 - 14s - loss: 0.3496 - sparse_categorical_accuracy: 0.8748 - val_loss: 0.6735 - val_sparse_categorical_accuracy: 0.7950\n",
      "Epoch 12/15\n",
      "49000/49000 - 14s - loss: 0.3167 - sparse_categorical_accuracy: 0.8879 - val_loss: 0.6389 - val_sparse_categorical_accuracy: 0.7920\n",
      "Epoch 13/15\n",
      "49000/49000 - 14s - loss: 0.2959 - sparse_categorical_accuracy: 0.8944 - val_loss: 0.6674 - val_sparse_categorical_accuracy: 0.7870\n",
      "Epoch 14/15\n",
      "49000/49000 - 14s - loss: 0.2724 - sparse_categorical_accuracy: 0.9027 - val_loss: 0.6448 - val_sparse_categorical_accuracy: 0.7880\n",
      "Epoch 15/15\n",
      "49000/49000 - 14s - loss: 0.2447 - sparse_categorical_accuracy: 0.9116 - val_loss: 0.7147 - val_sparse_categorical_accuracy: 0.7970\n"
     ]
    }
   ],
   "source": [
    "ga_params['nepochs']=15\n",
    "ga_model=ToyNet(ga_params)\n",
    "ga_score=score_model(ga_model,ga_params,X_train, y_train, X_val, y_val)"
   ]
  },
  {
   "cell_type": "code",
   "execution_count": 14,
   "metadata": {},
   "outputs": [
    {
     "name": "stdout",
     "output_type": "stream",
     "text": [
      "10000/10000 [==============================] - 1s 138us/sample - loss: 0.6999 - sparse_categorical_accuracy: 0.7915\n"
     ]
    },
    {
     "data": {
      "text/plain": [
       "[0.6999313090801239, 0.7915]"
      ]
     },
     "execution_count": 14,
     "metadata": {},
     "output_type": "execute_result"
    }
   ],
   "source": [
    "ga_model.evaluate(X_test,y_test)"
   ]
  },
  {
   "cell_type": "code",
   "execution_count": null,
   "metadata": {},
   "outputs": [],
   "source": []
  }
 ],
 "metadata": {
  "kernelspec": {
   "display_name": "Python 3",
   "language": "python",
   "name": "python3"
  },
  "language_info": {
   "codemirror_mode": {
    "name": "ipython",
    "version": 3
   },
   "file_extension": ".py",
   "mimetype": "text/x-python",
   "name": "python",
   "nbconvert_exporter": "python",
   "pygments_lexer": "ipython3",
   "version": "3.7.6"
  }
 },
 "nbformat": 4,
 "nbformat_minor": 4
}
