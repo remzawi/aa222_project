{
 "cells": [
  {
   "cell_type": "markdown",
   "metadata": {},
   "source": [
    "Notebook to compare results between algorithms"
   ]
  },
  {
   "cell_type": "markdown",
   "metadata": {},
   "source": [
    "Some functions and imports"
   ]
  },
  {
   "cell_type": "code",
   "execution_count": 1,
   "metadata": {},
   "outputs": [],
   "source": [
    "import pickle\n",
    "\n",
    "def save_obj(obj, name ):\n",
    "    with open(name + '.pkl', 'wb') as f:\n",
    "        pickle.dump(obj, f, pickle.HIGHEST_PROTOCOL)\n",
    "\n",
    "def load_obj(name ):\n",
    "    with open(name + '.pkl', 'rb') as f:\n",
    "        return pickle.load(f)"
   ]
  },
  {
   "cell_type": "markdown",
   "metadata": {},
   "source": [
    "Random sampling"
   ]
  },
  {
   "cell_type": "code",
   "execution_count": 2,
   "metadata": {},
   "outputs": [
    {
     "name": "stdout",
     "output_type": "stream",
     "text": [
      "Random parameters:  {'nepochs': 8, 'learning_rate': 0.0005179091478935314, 'batch_size': 210.0, 'conv_size1': 120.0, 'conv_size2': 101.0, 'conv_size3': 46.0, 'fc_size': 160.0, 'dropout_param': 0.37945162386693476, 'l2_reg': 0.00015113281591831412}\n",
      "Random score:  0.773\n"
     ]
    }
   ],
   "source": [
    "rd_params=load_obj(\"RandOptParam\")\n",
    "rd_score=load_obj('RandScore')\n",
    "print(\"Random parameters: \",rd_params)\n",
    "print(\"Random score: \",rd_score)"
   ]
  },
  {
   "cell_type": "markdown",
   "metadata": {},
   "source": [
    "Particle swarm optimization"
   ]
  },
  {
   "cell_type": "code",
   "execution_count": 3,
   "metadata": {},
   "outputs": [
    {
     "name": "stdout",
     "output_type": "stream",
     "text": [
      "Particle swarm parameters:  {'nepochs': 8, 'learning_rate': 0.00020634201374348393, 'batch_size': 32.0, 'conv_size1': 128.0, 'conv_size2': 128.0, 'conv_size3': 32.0, 'fc_size': 200.0, 'dropout_param': 0.13434557447761722, 'l2_reg': 0.25520055719688783}\n",
      "Particle swarm score:  0.73\n"
     ]
    }
   ],
   "source": [
    "ps_params=load_obj('PSOptParam3')\n",
    "ps_score=load_obj('PSScore3')\n",
    "print(\"Particle swarm parameters: \",ps_params)\n",
    "print(\"Particle swarm score: \",ps_score)"
   ]
  },
  {
   "cell_type": "markdown",
   "metadata": {},
   "source": [
    "Retrain models for more epochs to see which params behave better"
   ]
  },
  {
   "cell_type": "code",
   "execution_count": 4,
   "metadata": {},
   "outputs": [],
   "source": [
    "from kerasmodel import *\n",
    "X_train, y_train, X_val, y_val, X_test, y_test=load_cifar()"
   ]
  },
  {
   "cell_type": "markdown",
   "metadata": {},
   "source": [
    "Random model"
   ]
  },
  {
   "cell_type": "code",
   "execution_count": 5,
   "metadata": {},
   "outputs": [
    {
     "name": "stdout",
     "output_type": "stream",
     "text": [
      "Train on 49000 samples, validate on 1000 samples\n",
      "Epoch 1/15\n",
      "49000/49000 - 14s - loss: 1.6003 - sparse_categorical_accuracy: 0.4542 - val_loss: 2.9389 - val_sparse_categorical_accuracy: 0.1770\n",
      "Epoch 2/15\n",
      "49000/49000 - 10s - loss: 1.1635 - sparse_categorical_accuracy: 0.6137 - val_loss: 1.1311 - val_sparse_categorical_accuracy: 0.6360\n",
      "Epoch 3/15\n",
      "49000/49000 - 10s - loss: 1.0040 - sparse_categorical_accuracy: 0.6687 - val_loss: 0.9800 - val_sparse_categorical_accuracy: 0.6860\n",
      "Epoch 4/15\n",
      "49000/49000 - 10s - loss: 0.9134 - sparse_categorical_accuracy: 0.7035 - val_loss: 0.8707 - val_sparse_categorical_accuracy: 0.7190\n",
      "Epoch 5/15\n",
      "49000/49000 - 10s - loss: 0.8414 - sparse_categorical_accuracy: 0.7299 - val_loss: 0.8950 - val_sparse_categorical_accuracy: 0.7260\n",
      "Epoch 6/15\n",
      "49000/49000 - 10s - loss: 0.7880 - sparse_categorical_accuracy: 0.7470 - val_loss: 0.8084 - val_sparse_categorical_accuracy: 0.7580\n",
      "Epoch 7/15\n",
      "49000/49000 - 10s - loss: 0.7513 - sparse_categorical_accuracy: 0.7608 - val_loss: 0.7693 - val_sparse_categorical_accuracy: 0.7630\n",
      "Epoch 8/15\n",
      "49000/49000 - 10s - loss: 0.7041 - sparse_categorical_accuracy: 0.7759 - val_loss: 0.8841 - val_sparse_categorical_accuracy: 0.7330\n",
      "Epoch 9/15\n",
      "49000/49000 - 10s - loss: 0.6818 - sparse_categorical_accuracy: 0.7840 - val_loss: 0.7677 - val_sparse_categorical_accuracy: 0.7620\n",
      "Epoch 10/15\n",
      "49000/49000 - 10s - loss: 0.6429 - sparse_categorical_accuracy: 0.7987 - val_loss: 0.7262 - val_sparse_categorical_accuracy: 0.7680\n",
      "Epoch 11/15\n",
      "49000/49000 - 10s - loss: 0.6170 - sparse_categorical_accuracy: 0.8071 - val_loss: 0.7957 - val_sparse_categorical_accuracy: 0.7550\n",
      "Epoch 12/15\n",
      "49000/49000 - 10s - loss: 0.5959 - sparse_categorical_accuracy: 0.8142 - val_loss: 0.6939 - val_sparse_categorical_accuracy: 0.7860\n",
      "Epoch 13/15\n",
      "49000/49000 - 10s - loss: 0.5696 - sparse_categorical_accuracy: 0.8247 - val_loss: 0.7955 - val_sparse_categorical_accuracy: 0.7430\n",
      "Epoch 14/15\n",
      "49000/49000 - 10s - loss: 0.5495 - sparse_categorical_accuracy: 0.8316 - val_loss: 0.6876 - val_sparse_categorical_accuracy: 0.7920\n",
      "Epoch 15/15\n",
      "49000/49000 - 10s - loss: 0.5327 - sparse_categorical_accuracy: 0.8397 - val_loss: 0.7108 - val_sparse_categorical_accuracy: 0.7870\n"
     ]
    }
   ],
   "source": [
    "rd_params['nepochs']=15\n",
    "rd_model=create_model(rd_params)\n",
    "rd_score=score_model(rd_model,rd_params,X_train, y_train, X_val, y_val)"
   ]
  },
  {
   "cell_type": "code",
   "execution_count": 6,
   "metadata": {},
   "outputs": [
    {
     "name": "stdout",
     "output_type": "stream",
     "text": [
      "10000/10000 [==============================] - 1s 147us/sample - loss: 0.7531 - sparse_categorical_accuracy: 0.7735\n"
     ]
    },
    {
     "data": {
      "text/plain": [
       "[0.7531166460990906, 0.7735]"
      ]
     },
     "execution_count": 6,
     "metadata": {},
     "output_type": "execute_result"
    }
   ],
   "source": [
    "rd_model.evaluate(X_test,y_test)"
   ]
  },
  {
   "cell_type": "markdown",
   "metadata": {},
   "source": [
    "Particle swarm model"
   ]
  },
  {
   "cell_type": "code",
   "execution_count": 7,
   "metadata": {},
   "outputs": [
    {
     "name": "stdout",
     "output_type": "stream",
     "text": [
      "Train on 49000 samples, validate on 1000 samples\n",
      "Epoch 1/15\n",
      "49000/49000 - 15s - loss: 12.0570 - sparse_categorical_accuracy: 0.4754 - val_loss: 2.1051 - val_sparse_categorical_accuracy: 0.4210\n",
      "Epoch 2/15\n",
      "49000/49000 - 14s - loss: 1.9646 - sparse_categorical_accuracy: 0.4813 - val_loss: 1.9766 - val_sparse_categorical_accuracy: 0.4480\n",
      "Epoch 3/15\n",
      "49000/49000 - 14s - loss: 1.8960 - sparse_categorical_accuracy: 0.4929 - val_loss: 1.8687 - val_sparse_categorical_accuracy: 0.5200\n",
      "Epoch 4/15\n",
      "49000/49000 - 14s - loss: 1.8352 - sparse_categorical_accuracy: 0.5072 - val_loss: 1.7651 - val_sparse_categorical_accuracy: 0.5240\n",
      "Epoch 5/15\n",
      "49000/49000 - 14s - loss: 1.7828 - sparse_categorical_accuracy: 0.5221 - val_loss: 1.8620 - val_sparse_categorical_accuracy: 0.4900\n",
      "Epoch 6/15\n",
      "49000/49000 - 14s - loss: 1.7418 - sparse_categorical_accuracy: 0.5360 - val_loss: 1.8010 - val_sparse_categorical_accuracy: 0.5320\n",
      "Epoch 7/15\n",
      "49000/49000 - 14s - loss: 1.7090 - sparse_categorical_accuracy: 0.5467 - val_loss: 1.6484 - val_sparse_categorical_accuracy: 0.5580\n",
      "Epoch 8/15\n",
      "49000/49000 - 14s - loss: 1.6783 - sparse_categorical_accuracy: 0.5583 - val_loss: 1.7347 - val_sparse_categorical_accuracy: 0.5580\n",
      "Epoch 9/15\n",
      "49000/49000 - 14s - loss: 1.6498 - sparse_categorical_accuracy: 0.5685 - val_loss: 1.6647 - val_sparse_categorical_accuracy: 0.5870\n",
      "Epoch 10/15\n",
      "49000/49000 - 14s - loss: 1.6246 - sparse_categorical_accuracy: 0.5797 - val_loss: 1.6895 - val_sparse_categorical_accuracy: 0.5630\n",
      "Epoch 11/15\n",
      "49000/49000 - 14s - loss: 1.6009 - sparse_categorical_accuracy: 0.5880 - val_loss: 1.7655 - val_sparse_categorical_accuracy: 0.4820\n",
      "Epoch 12/15\n",
      "49000/49000 - 14s - loss: 1.5764 - sparse_categorical_accuracy: 0.5970 - val_loss: 1.5977 - val_sparse_categorical_accuracy: 0.5940\n",
      "Epoch 13/15\n",
      "49000/49000 - 14s - loss: 1.5649 - sparse_categorical_accuracy: 0.6001 - val_loss: 1.6465 - val_sparse_categorical_accuracy: 0.5620\n",
      "Epoch 14/15\n",
      "49000/49000 - 14s - loss: 1.5502 - sparse_categorical_accuracy: 0.6034 - val_loss: 1.5983 - val_sparse_categorical_accuracy: 0.5890\n",
      "Epoch 15/15\n",
      "49000/49000 - 14s - loss: 1.5348 - sparse_categorical_accuracy: 0.6063 - val_loss: 1.5529 - val_sparse_categorical_accuracy: 0.6020\n"
     ]
    }
   ],
   "source": [
    "ps_params['nepochs']=15\n",
    "ps_model=create_model(ps_params)\n",
    "ps_score=score_model(ps_model,ps_params,X_train, y_train, X_val, y_val)"
   ]
  },
  {
   "cell_type": "code",
   "execution_count": 13,
   "metadata": {},
   "outputs": [
    {
     "name": "stdout",
     "output_type": "stream",
     "text": [
      "10000/10000 [==============================] - 1s 93us/sample - loss: 0.9858 - sparse_categorical_accuracy: 0.6693\n"
     ]
    },
    {
     "data": {
      "text/plain": [
       "[0.9858215288162231, 0.6693]"
      ]
     },
     "execution_count": 13,
     "metadata": {},
     "output_type": "execute_result"
    }
   ],
   "source": [
    "ps_model.evaluate(X_test,y_test)"
   ]
  },
  {
   "cell_type": "code",
   "execution_count": null,
   "metadata": {},
   "outputs": [],
   "source": []
  }
 ],
 "metadata": {
  "kernelspec": {
   "display_name": "Python 3",
   "language": "python",
   "name": "python3"
  },
  "language_info": {
   "codemirror_mode": {
    "name": "ipython",
    "version": 3
   },
   "file_extension": ".py",
   "mimetype": "text/x-python",
   "name": "python",
   "nbconvert_exporter": "python",
   "pygments_lexer": "ipython3",
   "version": "3.7.6"
  }
 },
 "nbformat": 4,
 "nbformat_minor": 4
}
