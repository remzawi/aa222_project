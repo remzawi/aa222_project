{
 "cells": [
  {
   "cell_type": "markdown",
   "metadata": {},
   "source": [
    "Notebook to compare results between algorithms"
   ]
  },
  {
   "cell_type": "markdown",
   "metadata": {},
   "source": [
    "Some functions and imports"
   ]
  },
  {
   "cell_type": "code",
   "execution_count": 1,
   "metadata": {},
   "outputs": [],
   "source": [
    "import pickle\n",
    "\n",
    "def save_obj(obj, name ):\n",
    "    with open(name + '.pkl', 'wb') as f:\n",
    "        pickle.dump(obj, f, pickle.HIGHEST_PROTOCOL)\n",
    "\n",
    "def load_obj(name ):\n",
    "    with open(name + '.pkl', 'rb') as f:\n",
    "        return pickle.load(f)"
   ]
  },
  {
   "cell_type": "markdown",
   "metadata": {},
   "source": [
    "Random sampling"
   ]
  },
  {
   "cell_type": "code",
   "execution_count": 2,
   "metadata": {},
   "outputs": [
    {
     "name": "stdout",
     "output_type": "stream",
     "text": [
      "Random parameters:  {'nepochs': 8, 'learning_rate': 0.0005179091478935314, 'batch_size': 210.0, 'conv_size1': 120.0, 'conv_size2': 101.0, 'conv_size3': 46.0, 'fc_size': 160.0, 'dropout_param': 0.37945162386693476, 'l2_reg': 0.00015113281591831412}\n",
      "Random score:  0.773\n"
     ]
    }
   ],
   "source": [
    "rd_params=load_obj(\"RandOptParam\")\n",
    "rd_score=load_obj('RandScore')\n",
    "print(\"Random parameters: \",rd_params)\n",
    "print(\"Random score: \",rd_score)"
   ]
  },
  {
   "cell_type": "markdown",
   "metadata": {},
   "source": [
    "Particle swarm optimization"
   ]
  },
  {
   "cell_type": "code",
   "execution_count": 2,
   "metadata": {},
   "outputs": [
    {
     "name": "stdout",
     "output_type": "stream",
     "text": [
      "Particle swarm parameters:  {'nepochs': 8, 'learning_rate': 1e-05, 'batch_size': 256.0, 'conv_size1': 128.0, 'conv_size2': 101.0, 'conv_size3': 82.0, 'fc_size': 177.0, 'dropout_param': 0.10439603062519064, 'l2_reg': 1e-10}\n",
      "Particle swarm score:  0.752\n"
     ]
    }
   ],
   "source": [
    "ps_params=load_obj('PSOptParam4')\n",
    "ps_score=load_obj('PSScore4')\n",
    "print(\"Particle swarm parameters: \",ps_params)\n",
    "print(\"Particle swarm score: \",ps_score)"
   ]
  },
  {
   "cell_type": "markdown",
   "metadata": {},
   "source": [
    "Retrain models for more epochs to see which params behave better"
   ]
  },
  {
   "cell_type": "code",
   "execution_count": 3,
   "metadata": {},
   "outputs": [],
   "source": [
    "from kerasmodel import *\n",
    "X_train, y_train, X_val, y_val, X_test, y_test=load_cifar()"
   ]
  },
  {
   "cell_type": "markdown",
   "metadata": {},
   "source": [
    "Random model"
   ]
  },
  {
   "cell_type": "code",
   "execution_count": 5,
   "metadata": {},
   "outputs": [
    {
     "name": "stdout",
     "output_type": "stream",
     "text": [
      "Train on 49000 samples, validate on 1000 samples\n",
      "Epoch 1/15\n",
      "49000/49000 - 14s - loss: 1.6003 - sparse_categorical_accuracy: 0.4542 - val_loss: 2.9389 - val_sparse_categorical_accuracy: 0.1770\n",
      "Epoch 2/15\n",
      "49000/49000 - 10s - loss: 1.1635 - sparse_categorical_accuracy: 0.6137 - val_loss: 1.1311 - val_sparse_categorical_accuracy: 0.6360\n",
      "Epoch 3/15\n",
      "49000/49000 - 10s - loss: 1.0040 - sparse_categorical_accuracy: 0.6687 - val_loss: 0.9800 - val_sparse_categorical_accuracy: 0.6860\n",
      "Epoch 4/15\n",
      "49000/49000 - 10s - loss: 0.9134 - sparse_categorical_accuracy: 0.7035 - val_loss: 0.8707 - val_sparse_categorical_accuracy: 0.7190\n",
      "Epoch 5/15\n",
      "49000/49000 - 10s - loss: 0.8414 - sparse_categorical_accuracy: 0.7299 - val_loss: 0.8950 - val_sparse_categorical_accuracy: 0.7260\n",
      "Epoch 6/15\n",
      "49000/49000 - 10s - loss: 0.7880 - sparse_categorical_accuracy: 0.7470 - val_loss: 0.8084 - val_sparse_categorical_accuracy: 0.7580\n",
      "Epoch 7/15\n",
      "49000/49000 - 10s - loss: 0.7513 - sparse_categorical_accuracy: 0.7608 - val_loss: 0.7693 - val_sparse_categorical_accuracy: 0.7630\n",
      "Epoch 8/15\n",
      "49000/49000 - 10s - loss: 0.7041 - sparse_categorical_accuracy: 0.7759 - val_loss: 0.8841 - val_sparse_categorical_accuracy: 0.7330\n",
      "Epoch 9/15\n",
      "49000/49000 - 10s - loss: 0.6818 - sparse_categorical_accuracy: 0.7840 - val_loss: 0.7677 - val_sparse_categorical_accuracy: 0.7620\n",
      "Epoch 10/15\n",
      "49000/49000 - 10s - loss: 0.6429 - sparse_categorical_accuracy: 0.7987 - val_loss: 0.7262 - val_sparse_categorical_accuracy: 0.7680\n",
      "Epoch 11/15\n",
      "49000/49000 - 10s - loss: 0.6170 - sparse_categorical_accuracy: 0.8071 - val_loss: 0.7957 - val_sparse_categorical_accuracy: 0.7550\n",
      "Epoch 12/15\n",
      "49000/49000 - 10s - loss: 0.5959 - sparse_categorical_accuracy: 0.8142 - val_loss: 0.6939 - val_sparse_categorical_accuracy: 0.7860\n",
      "Epoch 13/15\n",
      "49000/49000 - 10s - loss: 0.5696 - sparse_categorical_accuracy: 0.8247 - val_loss: 0.7955 - val_sparse_categorical_accuracy: 0.7430\n",
      "Epoch 14/15\n",
      "49000/49000 - 10s - loss: 0.5495 - sparse_categorical_accuracy: 0.8316 - val_loss: 0.6876 - val_sparse_categorical_accuracy: 0.7920\n",
      "Epoch 15/15\n",
      "49000/49000 - 10s - loss: 0.5327 - sparse_categorical_accuracy: 0.8397 - val_loss: 0.7108 - val_sparse_categorical_accuracy: 0.7870\n"
     ]
    }
   ],
   "source": [
    "rd_params['nepochs']=15\n",
    "rd_model=create_model(rd_params)\n",
    "rd_score=score_model(rd_model,rd_params,X_train, y_train, X_val, y_val)"
   ]
  },
  {
   "cell_type": "code",
   "execution_count": 6,
   "metadata": {},
   "outputs": [
    {
     "name": "stdout",
     "output_type": "stream",
     "text": [
      "10000/10000 [==============================] - 1s 147us/sample - loss: 0.7531 - sparse_categorical_accuracy: 0.7735\n"
     ]
    },
    {
     "data": {
      "text/plain": [
       "[0.7531166460990906, 0.7735]"
      ]
     },
     "execution_count": 6,
     "metadata": {},
     "output_type": "execute_result"
    }
   ],
   "source": [
    "rd_model.evaluate(X_test,y_test)"
   ]
  },
  {
   "cell_type": "markdown",
   "metadata": {},
   "source": [
    "Particle swarm model"
   ]
  },
  {
   "cell_type": "code",
   "execution_count": 4,
   "metadata": {},
   "outputs": [
    {
     "name": "stdout",
     "output_type": "stream",
     "text": [
      "Train on 49000 samples, validate on 1000 samples\n",
      "Epoch 1/15\n",
      "49000/49000 - 15s - loss: 2.1381 - sparse_categorical_accuracy: 0.2470 - val_loss: 2.4097 - val_sparse_categorical_accuracy: 0.1470\n",
      "Epoch 2/15\n",
      "49000/49000 - 11s - loss: 1.7003 - sparse_categorical_accuracy: 0.3889 - val_loss: 1.8801 - val_sparse_categorical_accuracy: 0.3060\n",
      "Epoch 3/15\n",
      "49000/49000 - 11s - loss: 1.5512 - sparse_categorical_accuracy: 0.4459 - val_loss: 1.4759 - val_sparse_categorical_accuracy: 0.4810\n",
      "Epoch 4/15\n",
      "49000/49000 - 11s - loss: 1.4512 - sparse_categorical_accuracy: 0.4834 - val_loss: 1.3749 - val_sparse_categorical_accuracy: 0.5180\n",
      "Epoch 5/15\n",
      "49000/49000 - 11s - loss: 1.3766 - sparse_categorical_accuracy: 0.5075 - val_loss: 1.3191 - val_sparse_categorical_accuracy: 0.5370\n",
      "Epoch 6/15\n",
      "49000/49000 - 11s - loss: 1.3168 - sparse_categorical_accuracy: 0.5290 - val_loss: 1.2714 - val_sparse_categorical_accuracy: 0.5550\n",
      "Epoch 7/15\n",
      "49000/49000 - 11s - loss: 1.2675 - sparse_categorical_accuracy: 0.5477 - val_loss: 1.2473 - val_sparse_categorical_accuracy: 0.5540\n",
      "Epoch 8/15\n",
      "49000/49000 - 11s - loss: 1.2207 - sparse_categorical_accuracy: 0.5668 - val_loss: 1.2090 - val_sparse_categorical_accuracy: 0.5740\n",
      "Epoch 9/15\n",
      "49000/49000 - 11s - loss: 1.1791 - sparse_categorical_accuracy: 0.5812 - val_loss: 1.1812 - val_sparse_categorical_accuracy: 0.5790\n",
      "Epoch 10/15\n",
      "49000/49000 - 11s - loss: 1.1475 - sparse_categorical_accuracy: 0.5943 - val_loss: 1.1627 - val_sparse_categorical_accuracy: 0.5850\n",
      "Epoch 11/15\n",
      "49000/49000 - 11s - loss: 1.1167 - sparse_categorical_accuracy: 0.6050 - val_loss: 1.1497 - val_sparse_categorical_accuracy: 0.5920\n",
      "Epoch 12/15\n",
      "49000/49000 - 11s - loss: 1.0861 - sparse_categorical_accuracy: 0.6179 - val_loss: 1.1218 - val_sparse_categorical_accuracy: 0.6030\n",
      "Epoch 13/15\n",
      "49000/49000 - 11s - loss: 1.0557 - sparse_categorical_accuracy: 0.6282 - val_loss: 1.1000 - val_sparse_categorical_accuracy: 0.6060\n",
      "Epoch 14/15\n",
      "49000/49000 - 11s - loss: 1.0341 - sparse_categorical_accuracy: 0.6350 - val_loss: 1.0791 - val_sparse_categorical_accuracy: 0.6160\n",
      "Epoch 15/15\n",
      "49000/49000 - 11s - loss: 1.0100 - sparse_categorical_accuracy: 0.6461 - val_loss: 1.0623 - val_sparse_categorical_accuracy: 0.6320\n"
     ]
    }
   ],
   "source": [
    "ps_params['nepochs']=15\n",
    "ps_model=create_model(ps_params)\n",
    "ps_score=score_model(ps_model,ps_params,X_train, y_train, X_val, y_val)"
   ]
  },
  {
   "cell_type": "code",
   "execution_count": 5,
   "metadata": {},
   "outputs": [
    {
     "name": "stdout",
     "output_type": "stream",
     "text": [
      "10000/10000 [==============================] - 2s 155us/sample - loss: 1.0541 - sparse_categorical_accuracy: 0.6266\n"
     ]
    },
    {
     "data": {
      "text/plain": [
       "[1.0540890103340148, 0.6266]"
      ]
     },
     "execution_count": 5,
     "metadata": {},
     "output_type": "execute_result"
    }
   ],
   "source": [
    "ps_model.evaluate(X_test,y_test)"
   ]
  },
  {
   "cell_type": "code",
   "execution_count": null,
   "metadata": {},
   "outputs": [],
   "source": []
  }
 ],
 "metadata": {
  "kernelspec": {
   "display_name": "Python 3",
   "language": "python",
   "name": "python3"
  },
  "language_info": {
   "codemirror_mode": {
    "name": "ipython",
    "version": 3
   },
   "file_extension": ".py",
   "mimetype": "text/x-python",
   "name": "python",
   "nbconvert_exporter": "python",
   "pygments_lexer": "ipython3",
   "version": "3.7.6"
  }
 },
 "nbformat": 4,
 "nbformat_minor": 4
}
