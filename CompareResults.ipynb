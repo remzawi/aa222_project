{
 "cells": [
  {
   "cell_type": "markdown",
   "metadata": {},
   "source": [
    "Notebook to compare results between algorithms"
   ]
  },
  {
   "cell_type": "markdown",
   "metadata": {},
   "source": [
    "Some functions and imports"
   ]
  },
  {
   "cell_type": "code",
   "execution_count": 1,
   "metadata": {},
   "outputs": [],
   "source": [
    "import pickle\n",
    "\n",
    "def save_obj(obj, name ):\n",
    "    with open(name + '.pkl', 'wb') as f:\n",
    "        pickle.dump(obj, f, pickle.HIGHEST_PROTOCOL)\n",
    "\n",
    "def load_obj(name ):\n",
    "    with open(name + '.pkl', 'rb') as f:\n",
    "        return pickle.load(f)"
   ]
  },
  {
   "cell_type": "code",
   "execution_count": 2,
   "metadata": {},
   "outputs": [],
   "source": [
    "import matplotlib.pyplot as plt\n",
    "import numpy as np\n",
    "import numpy.random as rd\n",
    "from kerasmodel import *\n",
    "rd.seed(0)\n",
    "X_train, y_train, X_val, y_val, X_test, y_test=load_cifar()"
   ]
  },
  {
   "cell_type": "markdown",
   "metadata": {},
   "source": [
    "50 evaluations"
   ]
  },
  {
   "cell_type": "markdown",
   "metadata": {},
   "source": [
    "Reported score and parameters"
   ]
  },
  {
   "cell_type": "markdown",
   "metadata": {},
   "source": [
    "Random Sampling"
   ]
  },
  {
   "cell_type": "code",
   "execution_count": 3,
   "metadata": {},
   "outputs": [
    {
     "name": "stdout",
     "output_type": "stream",
     "text": [
      "Random parameters:  {'nepochs': 8, 'learning_rate': 0.00025389607570355365, 'batch_size': 60.0, 'conv_size1': 45.0, 'conv_size2': 121.0, 'conv_size3': 96.0, 'fc_size': 194.0, 'dropout_param': 0.3631061092142125, 'l2_reg': 9.938375807860742e-05}\n",
      "Random score:  0.7630000114440918\n"
     ]
    }
   ],
   "source": [
    "rd_params=load_obj(\"RandOptParam50\")\n",
    "rd_score=load_obj('RandScore50')\n",
    "print(\"Random parameters: \",rd_params)\n",
    "print(\"Random score: \",rd_score)"
   ]
  },
  {
   "cell_type": "markdown",
   "metadata": {},
   "source": [
    "Particle swarm"
   ]
  },
  {
   "cell_type": "code",
   "execution_count": 4,
   "metadata": {},
   "outputs": [
    {
     "name": "stdout",
     "output_type": "stream",
     "text": [
      "Particle swarm parameters:  {'nepochs': 8, 'learning_rate': 0.0007455347010972497, 'batch_size': 69.0, 'conv_size1': 57.0, 'conv_size2': 119.0, 'conv_size3': 98.0, 'fc_size': 177.0, 'dropout_param': 0.6, 'l2_reg': 1e-10}\n",
      "Particle swarm score:  0.7799999713897705\n"
     ]
    }
   ],
   "source": [
    "ps_params=load_obj('PSOptParam50')\n",
    "ps_score=load_obj('PSScore50')\n",
    "print(\"Particle swarm parameters: \",ps_params)\n",
    "print(\"Particle swarm score: \",ps_score)"
   ]
  },
  {
   "cell_type": "markdown",
   "metadata": {},
   "source": [
    "Genetic algorithm"
   ]
  },
  {
   "cell_type": "code",
   "execution_count": 5,
   "metadata": {},
   "outputs": [
    {
     "name": "stdout",
     "output_type": "stream",
     "text": [
      "Genetic algorithm parameters:  {'nepochs': 8, 'learning_rate': 0.0009078561752333666, 'batch_size': 47.0, 'conv_size1': 82.0, 'conv_size2': 128.0, 'conv_size3': 87.0, 'fc_size': 50.0, 'dropout_param': 0.1455111252548922, 'l2_reg': 0.00020836552164249736}\n",
      "Genetic algorithm score:  0.7720000147819519\n"
     ]
    }
   ],
   "source": [
    "ga_params=load_obj('GAOptParam50')\n",
    "ga_score=load_obj('GAScore50')\n",
    "print(\"Genetic algorithm parameters: \",ga_params)\n",
    "print(\"Genetic algorithm score: \",ga_score)"
   ]
  },
  {
   "cell_type": "markdown",
   "metadata": {},
   "source": [
    "Retrain models for more epochs to see which params behave better"
   ]
  },
  {
   "cell_type": "markdown",
   "metadata": {},
   "source": [
    "Random model"
   ]
  },
  {
   "cell_type": "code",
   "execution_count": 6,
   "metadata": {},
   "outputs": [
    {
     "name": "stdout",
     "output_type": "stream",
     "text": [
      "Epoch 1/15\n",
      "817/817 - 11s - loss: 1.4479 - sparse_categorical_accuracy: 0.5039 - val_loss: 1.1949 - val_sparse_categorical_accuracy: 0.6060\n",
      "Epoch 2/15\n",
      "817/817 - 11s - loss: 1.0522 - sparse_categorical_accuracy: 0.6445 - val_loss: 1.0005 - val_sparse_categorical_accuracy: 0.6660\n",
      "Epoch 3/15\n",
      "817/817 - 11s - loss: 0.9168 - sparse_categorical_accuracy: 0.6935 - val_loss: 0.9311 - val_sparse_categorical_accuracy: 0.6920\n",
      "Epoch 4/15\n",
      "817/817 - 11s - loss: 0.8330 - sparse_categorical_accuracy: 0.7227 - val_loss: 0.8954 - val_sparse_categorical_accuracy: 0.7080\n",
      "Epoch 5/15\n",
      "817/817 - 11s - loss: 0.7598 - sparse_categorical_accuracy: 0.7489 - val_loss: 0.8733 - val_sparse_categorical_accuracy: 0.7160\n",
      "Epoch 6/15\n",
      "817/817 - 11s - loss: 0.7050 - sparse_categorical_accuracy: 0.7692 - val_loss: 0.9389 - val_sparse_categorical_accuracy: 0.6950\n",
      "Epoch 7/15\n",
      "817/817 - 11s - loss: 0.6548 - sparse_categorical_accuracy: 0.7840 - val_loss: 0.7603 - val_sparse_categorical_accuracy: 0.7570\n",
      "Epoch 8/15\n",
      "817/817 - 11s - loss: 0.6135 - sparse_categorical_accuracy: 0.7983 - val_loss: 0.8044 - val_sparse_categorical_accuracy: 0.7400\n",
      "Epoch 9/15\n",
      "817/817 - 11s - loss: 0.5782 - sparse_categorical_accuracy: 0.8108 - val_loss: 0.7890 - val_sparse_categorical_accuracy: 0.7500\n",
      "Epoch 10/15\n",
      "817/817 - 11s - loss: 0.5423 - sparse_categorical_accuracy: 0.8243 - val_loss: 0.7495 - val_sparse_categorical_accuracy: 0.7740\n",
      "Epoch 11/15\n",
      "817/817 - 11s - loss: 0.5132 - sparse_categorical_accuracy: 0.8351 - val_loss: 0.8689 - val_sparse_categorical_accuracy: 0.7500\n",
      "Epoch 12/15\n",
      "817/817 - 11s - loss: 0.4900 - sparse_categorical_accuracy: 0.8431 - val_loss: 0.7756 - val_sparse_categorical_accuracy: 0.7790\n",
      "Epoch 13/15\n",
      "817/817 - 11s - loss: 0.4645 - sparse_categorical_accuracy: 0.8517 - val_loss: 0.7169 - val_sparse_categorical_accuracy: 0.7770\n",
      "Epoch 14/15\n",
      "817/817 - 11s - loss: 0.4430 - sparse_categorical_accuracy: 0.8601 - val_loss: 0.7943 - val_sparse_categorical_accuracy: 0.7520\n",
      "Epoch 15/15\n",
      "817/817 - 11s - loss: 0.4254 - sparse_categorical_accuracy: 0.8660 - val_loss: 0.7681 - val_sparse_categorical_accuracy: 0.7670\n"
     ]
    }
   ],
   "source": [
    "rd.seed(0)\n",
    "rd_params['nepochs']=15\n",
    "rd_model=create_model(rd_params)\n",
    "rd_valhistory=train_model(rd_model,rd_params,X_train, y_train, X_val, y_val)"
   ]
  },
  {
   "cell_type": "code",
   "execution_count": 7,
   "metadata": {},
   "outputs": [
    {
     "name": "stdout",
     "output_type": "stream",
     "text": [
      "313/313 [==============================] - 1s 3ms/step - loss: 0.7777 - sparse_categorical_accuracy: 0.7695\n"
     ]
    },
    {
     "data": {
      "text/plain": [
       "[0.7777013182640076, 0.7695000171661377]"
      ]
     },
     "execution_count": 7,
     "metadata": {},
     "output_type": "execute_result"
    }
   ],
   "source": [
    "rd_model.evaluate(X_test,y_test)"
   ]
  },
  {
   "cell_type": "markdown",
   "metadata": {},
   "source": [
    "Particle swarm model"
   ]
  },
  {
   "cell_type": "code",
   "execution_count": 8,
   "metadata": {},
   "outputs": [
    {
     "name": "stdout",
     "output_type": "stream",
     "text": [
      "Epoch 1/15\n",
      "711/711 - 11s - loss: 1.4421 - sparse_categorical_accuracy: 0.4865 - val_loss: 1.1546 - val_sparse_categorical_accuracy: 0.5950\n",
      "Epoch 2/15\n",
      "711/711 - 11s - loss: 1.0196 - sparse_categorical_accuracy: 0.6390 - val_loss: 0.8944 - val_sparse_categorical_accuracy: 0.6900\n",
      "Epoch 3/15\n",
      "711/711 - 11s - loss: 0.8945 - sparse_categorical_accuracy: 0.6853 - val_loss: 0.8707 - val_sparse_categorical_accuracy: 0.6850\n",
      "Epoch 4/15\n",
      "711/711 - 11s - loss: 0.8157 - sparse_categorical_accuracy: 0.7126 - val_loss: 0.7764 - val_sparse_categorical_accuracy: 0.7240\n",
      "Epoch 5/15\n",
      "711/711 - 11s - loss: 0.7712 - sparse_categorical_accuracy: 0.7297 - val_loss: 0.7492 - val_sparse_categorical_accuracy: 0.7300\n",
      "Epoch 6/15\n",
      "711/711 - 11s - loss: 0.7282 - sparse_categorical_accuracy: 0.7452 - val_loss: 0.7268 - val_sparse_categorical_accuracy: 0.7430\n",
      "Epoch 7/15\n",
      "711/711 - 11s - loss: 0.6885 - sparse_categorical_accuracy: 0.7574 - val_loss: 0.7099 - val_sparse_categorical_accuracy: 0.7430\n",
      "Epoch 8/15\n",
      "711/711 - 11s - loss: 0.6555 - sparse_categorical_accuracy: 0.7686 - val_loss: 0.6945 - val_sparse_categorical_accuracy: 0.7540\n",
      "Epoch 9/15\n",
      "711/711 - 11s - loss: 0.6233 - sparse_categorical_accuracy: 0.7803 - val_loss: 0.7119 - val_sparse_categorical_accuracy: 0.7670\n",
      "Epoch 10/15\n",
      "711/711 - 11s - loss: 0.5919 - sparse_categorical_accuracy: 0.7915 - val_loss: 0.6706 - val_sparse_categorical_accuracy: 0.7650\n",
      "Epoch 11/15\n",
      "711/711 - 11s - loss: 0.5776 - sparse_categorical_accuracy: 0.7951 - val_loss: 0.6615 - val_sparse_categorical_accuracy: 0.7710\n",
      "Epoch 12/15\n",
      "711/711 - 11s - loss: 0.5510 - sparse_categorical_accuracy: 0.8041 - val_loss: 0.5798 - val_sparse_categorical_accuracy: 0.7890\n",
      "Epoch 13/15\n",
      "711/711 - 11s - loss: 0.5283 - sparse_categorical_accuracy: 0.8139 - val_loss: 0.6465 - val_sparse_categorical_accuracy: 0.7920\n",
      "Epoch 14/15\n",
      "711/711 - 11s - loss: 0.5112 - sparse_categorical_accuracy: 0.8197 - val_loss: 0.6300 - val_sparse_categorical_accuracy: 0.7950\n",
      "Epoch 15/15\n",
      "711/711 - 11s - loss: 0.4849 - sparse_categorical_accuracy: 0.8282 - val_loss: 0.7927 - val_sparse_categorical_accuracy: 0.7460\n"
     ]
    }
   ],
   "source": [
    "rd.seed(0)\n",
    "ps_params['nepochs']=15\n",
    "ps_model=ToyNet(ps_params)\n",
    "ps_valhistory=train_model(ps_model,ps_params,X_train, y_train, X_val, y_val)"
   ]
  },
  {
   "cell_type": "code",
   "execution_count": 9,
   "metadata": {},
   "outputs": [
    {
     "name": "stdout",
     "output_type": "stream",
     "text": [
      "313/313 [==============================] - 1s 4ms/step - loss: 0.8015 - sparse_categorical_accuracy: 0.7409\n"
     ]
    },
    {
     "data": {
      "text/plain": [
       "[0.8015488982200623, 0.7408999800682068]"
      ]
     },
     "execution_count": 9,
     "metadata": {},
     "output_type": "execute_result"
    }
   ],
   "source": [
    "ps_model.evaluate(X_test,y_test)"
   ]
  },
  {
   "cell_type": "markdown",
   "metadata": {},
   "source": [
    "Genetic algorithm model"
   ]
  },
  {
   "cell_type": "code",
   "execution_count": 10,
   "metadata": {},
   "outputs": [
    {
     "name": "stdout",
     "output_type": "stream",
     "text": [
      "Epoch 1/15\n",
      "1043/1043 - 13s - loss: 1.5180 - sparse_categorical_accuracy: 0.4770 - val_loss: 1.2840 - val_sparse_categorical_accuracy: 0.5410\n",
      "Epoch 2/15\n",
      "1043/1043 - 13s - loss: 1.0430 - sparse_categorical_accuracy: 0.6531 - val_loss: 1.0555 - val_sparse_categorical_accuracy: 0.6730\n",
      "Epoch 3/15\n",
      "1043/1043 - 13s - loss: 0.9108 - sparse_categorical_accuracy: 0.7057 - val_loss: 0.9945 - val_sparse_categorical_accuracy: 0.6780\n",
      "Epoch 4/15\n",
      "1043/1043 - 13s - loss: 0.8370 - sparse_categorical_accuracy: 0.7352 - val_loss: 0.9696 - val_sparse_categorical_accuracy: 0.7020\n",
      "Epoch 5/15\n",
      "1043/1043 - 13s - loss: 0.7860 - sparse_categorical_accuracy: 0.7578 - val_loss: 0.8978 - val_sparse_categorical_accuracy: 0.7290\n",
      "Epoch 6/15\n",
      "1043/1043 - 13s - loss: 0.7416 - sparse_categorical_accuracy: 0.7758 - val_loss: 0.9772 - val_sparse_categorical_accuracy: 0.7050\n",
      "Epoch 7/15\n",
      "1043/1043 - 13s - loss: 0.7076 - sparse_categorical_accuracy: 0.7907 - val_loss: 0.8593 - val_sparse_categorical_accuracy: 0.7620\n",
      "Epoch 8/15\n",
      "1043/1043 - 13s - loss: 0.6811 - sparse_categorical_accuracy: 0.8032 - val_loss: 0.8436 - val_sparse_categorical_accuracy: 0.7430\n",
      "Epoch 9/15\n",
      "1043/1043 - 13s - loss: 0.6506 - sparse_categorical_accuracy: 0.8185 - val_loss: 0.8553 - val_sparse_categorical_accuracy: 0.7480\n",
      "Epoch 10/15\n",
      "1043/1043 - 13s - loss: 0.6293 - sparse_categorical_accuracy: 0.8273 - val_loss: 0.8221 - val_sparse_categorical_accuracy: 0.7820\n",
      "Epoch 11/15\n",
      "1043/1043 - 13s - loss: 0.6059 - sparse_categorical_accuracy: 0.8390 - val_loss: 0.9817 - val_sparse_categorical_accuracy: 0.7400\n",
      "Epoch 12/15\n",
      "1043/1043 - 13s - loss: 0.5860 - sparse_categorical_accuracy: 0.8489 - val_loss: 0.8303 - val_sparse_categorical_accuracy: 0.7630\n",
      "Epoch 13/15\n",
      "1043/1043 - 13s - loss: 0.5695 - sparse_categorical_accuracy: 0.8551 - val_loss: 0.9037 - val_sparse_categorical_accuracy: 0.7410\n",
      "Epoch 14/15\n",
      "1043/1043 - 13s - loss: 0.5500 - sparse_categorical_accuracy: 0.8655 - val_loss: 0.9958 - val_sparse_categorical_accuracy: 0.7580\n",
      "Epoch 15/15\n",
      "1043/1043 - 13s - loss: 0.5386 - sparse_categorical_accuracy: 0.8717 - val_loss: 0.8833 - val_sparse_categorical_accuracy: 0.7770\n"
     ]
    }
   ],
   "source": [
    "rd.seed(0)\n",
    "ga_params['nepochs']=15\n",
    "ga_model=ToyNet(ga_params)\n",
    "ga_valhistory=train_model(ga_model,ga_params,X_train, y_train, X_val, y_val)"
   ]
  },
  {
   "cell_type": "code",
   "execution_count": 11,
   "metadata": {},
   "outputs": [
    {
     "name": "stdout",
     "output_type": "stream",
     "text": [
      "313/313 [==============================] - 1s 4ms/step - loss: 0.8873 - sparse_categorical_accuracy: 0.7709\n"
     ]
    },
    {
     "data": {
      "text/plain": [
       "[0.8872703909873962, 0.7709000110626221]"
      ]
     },
     "execution_count": 11,
     "metadata": {},
     "output_type": "execute_result"
    }
   ],
   "source": [
    "ga_model.evaluate(X_test,y_test)"
   ]
  },
  {
   "cell_type": "markdown",
   "metadata": {},
   "source": [
    "Generate validation accuracy history"
   ]
  },
  {
   "cell_type": "code",
   "execution_count": 12,
   "metadata": {},
   "outputs": [
    {
     "data": {
      "image/png": "[encoded data removed]",
      "text/plain": [
       "<Figure size 432x288 with 1 Axes>"
      ]
     },
     "metadata": {
      "needs_background": "light"
     },
     "output_type": "display_data"
    }
   ],
   "source": [
    "plt.figure()\n",
    "plt.plot(np.arange(len(rd_valhistory))+1,rd_valhistory)\n",
    "plt.plot(np.arange(len(ps_valhistory))+1,ps_valhistory)\n",
    "plt.plot(np.arange(len(ga_valhistory))+1,ga_valhistory)\n",
    "plt.legend(['random search','particle swarm','genetic algorithm'])\n",
    "plt.title('Validation accuracy history')\n",
    "plt.xlabel('Epoch')\n",
    "plt.ylabel('Validation accuracy')\n",
    "plt.savefig('ValHist_50.pdf')"
   ]
  },
  {
   "cell_type": "markdown",
   "metadata": {},
   "source": [
    "Generate evolution graph"
   ]
  },
  {
   "cell_type": "code",
   "execution_count": 13,
   "metadata": {},
   "outputs": [
    {
     "data": {
      "image/png": "[encoded data removed]",
      "text/plain": [
       "<Figure size 432x288 with 1 Axes>"
      ]
     },
     "metadata": {
      "needs_background": "light"
     },
     "output_type": "display_data"
    }
   ],
   "source": [
    "rd_history=load_obj('RandHistory50')\n",
    "ps_history=load_obj('PSHistory50')\n",
    "ga_history=load_obj('GAHistory50')\n",
    "\n",
    "plt.figure()\n",
    "plt.title('Optimization history for 50 evaluations')\n",
    "plt.plot(np.arange(len(rd_history)),rd_history)\n",
    "plt.plot(np.arange(len(ps_history)),ps_history)\n",
    "plt.plot(np.arange(len(ga_history)),ga_history)\n",
    "plt.xlabel('Best value update')\n",
    "plt.ylabel('Best objective value')\n",
    "plt.legend(['random search','particle swarm','genetic algorithm'])\n",
    "plt.savefig('History_50.pdf')"
   ]
  },
  {
   "cell_type": "markdown",
   "metadata": {},
   "source": [
    "200 evaluations"
   ]
  },
  {
   "cell_type": "markdown",
   "metadata": {},
   "source": [
    "Reported score and parameters"
   ]
  },
  {
   "cell_type": "markdown",
   "metadata": {},
   "source": [
    "Random sampling"
   ]
  },
  {
   "cell_type": "code",
   "execution_count": 14,
   "metadata": {},
   "outputs": [
    {
     "name": "stdout",
     "output_type": "stream",
     "text": [
      "Random parameters:  {'nepochs': 8, 'learning_rate': 0.000729797372809362, 'batch_size': 42.0, 'conv_size1': 68.0, 'conv_size2': 61.0, 'conv_size3': 72.0, 'fc_size': 156.0, 'dropout_param': 0.09557593783746465, 'l2_reg': 3.6940223582782394e-06}\n",
      "Random score:  0.791\n"
     ]
    }
   ],
   "source": [
    "rd_params=load_obj(\"RandOptParam200\")\n",
    "rd_score=load_obj('RandScore200')\n",
    "print(\"Random parameters: \",rd_params)\n",
    "print(\"Random score: \",rd_score)"
   ]
  },
  {
   "cell_type": "markdown",
   "metadata": {},
   "source": [
    "Particle swarm optimization"
   ]
  },
  {
   "cell_type": "code",
   "execution_count": 15,
   "metadata": {},
   "outputs": [
    {
     "name": "stdout",
     "output_type": "stream",
     "text": [
      "Particle swarm parameters:  {'nepochs': 8, 'learning_rate': 0.0017186961757780267, 'batch_size': 56.0, 'conv_size1': 32.0, 'conv_size2': 125.0, 'conv_size3': 61.0, 'fc_size': 145.0, 'dropout_param': 0.0, 'l2_reg': 1e-10}\n",
      "Particle swarm score:  0.789\n"
     ]
    }
   ],
   "source": [
    "ps_params=load_obj('PSOptParam200')\n",
    "ps_score=load_obj('PSScore200')\n",
    "print(\"Particle swarm parameters: \",ps_params)\n",
    "print(\"Particle swarm score: \",ps_score)"
   ]
  },
  {
   "cell_type": "markdown",
   "metadata": {},
   "source": [
    "Genetic algorithm"
   ]
  },
  {
   "cell_type": "code",
   "execution_count": 16,
   "metadata": {},
   "outputs": [
    {
     "name": "stdout",
     "output_type": "stream",
     "text": [
      "Genetic algorithm parameters:  {'nepochs': 8, 'learning_rate': 0.001172468301071695, 'batch_size': 32.0, 'conv_size1': 107.0, 'conv_size2': 86.0, 'conv_size3': 109.0, 'fc_size': 160.0, 'dropout_param': 0.2617519889727094, 'l2_reg': 8.292267029306733e-09}\n",
      "Genetic algorithm score:  0.8069999814033508\n"
     ]
    }
   ],
   "source": [
    "ga_params=load_obj('GAOptParam200')\n",
    "ga_score=load_obj('GAScore200')\n",
    "print(\"Genetic algorithm parameters: \",ga_params)\n",
    "print(\"Genetic algorithm score: \",ga_score)"
   ]
  },
  {
   "cell_type": "markdown",
   "metadata": {},
   "source": [
    "Retrain models for more epochs to see which params behave better"
   ]
  },
  {
   "cell_type": "markdown",
   "metadata": {},
   "source": [
    "Random model"
   ]
  },
  {
   "cell_type": "code",
   "execution_count": 17,
   "metadata": {},
   "outputs": [
    {
     "name": "stdout",
     "output_type": "stream",
     "text": [
      "Epoch 1/15\n",
      "1167/1167 - 9s - loss: 1.2759 - sparse_categorical_accuracy: 0.5495 - val_loss: 1.0684 - val_sparse_categorical_accuracy: 0.6190\n",
      "Epoch 2/15\n",
      "1167/1167 - 9s - loss: 0.8961 - sparse_categorical_accuracy: 0.6863 - val_loss: 0.8777 - val_sparse_categorical_accuracy: 0.6930\n",
      "Epoch 3/15\n",
      "1167/1167 - 9s - loss: 0.7718 - sparse_categorical_accuracy: 0.7306 - val_loss: 0.8092 - val_sparse_categorical_accuracy: 0.7230\n",
      "Epoch 4/15\n",
      "1167/1167 - 9s - loss: 0.6923 - sparse_categorical_accuracy: 0.7599 - val_loss: 0.8147 - val_sparse_categorical_accuracy: 0.7310\n",
      "Epoch 5/15\n",
      "1167/1167 - 9s - loss: 0.6260 - sparse_categorical_accuracy: 0.7820 - val_loss: 0.7582 - val_sparse_categorical_accuracy: 0.7490\n",
      "Epoch 6/15\n",
      "1167/1167 - 9s - loss: 0.5704 - sparse_categorical_accuracy: 0.8006 - val_loss: 0.7766 - val_sparse_categorical_accuracy: 0.7400\n",
      "Epoch 7/15\n",
      "1167/1167 - 9s - loss: 0.5186 - sparse_categorical_accuracy: 0.8191 - val_loss: 0.7348 - val_sparse_categorical_accuracy: 0.7560\n",
      "Epoch 8/15\n",
      "1167/1167 - 9s - loss: 0.4739 - sparse_categorical_accuracy: 0.8362 - val_loss: 0.7506 - val_sparse_categorical_accuracy: 0.7570\n",
      "Epoch 9/15\n",
      "1167/1167 - 9s - loss: 0.4309 - sparse_categorical_accuracy: 0.8506 - val_loss: 0.7900 - val_sparse_categorical_accuracy: 0.7660\n",
      "Epoch 10/15\n",
      "1167/1167 - 9s - loss: 0.3941 - sparse_categorical_accuracy: 0.8621 - val_loss: 0.6665 - val_sparse_categorical_accuracy: 0.7980\n",
      "Epoch 11/15\n",
      "1167/1167 - 9s - loss: 0.3628 - sparse_categorical_accuracy: 0.8744 - val_loss: 0.6902 - val_sparse_categorical_accuracy: 0.7920\n",
      "Epoch 12/15\n",
      "1167/1167 - 9s - loss: 0.3308 - sparse_categorical_accuracy: 0.8850 - val_loss: 0.8311 - val_sparse_categorical_accuracy: 0.7640\n",
      "Epoch 13/15\n",
      "1167/1167 - 9s - loss: 0.3071 - sparse_categorical_accuracy: 0.8910 - val_loss: 0.7889 - val_sparse_categorical_accuracy: 0.7910\n",
      "Epoch 14/15\n",
      "1167/1167 - 9s - loss: 0.2804 - sparse_categorical_accuracy: 0.9023 - val_loss: 0.7492 - val_sparse_categorical_accuracy: 0.7850\n",
      "Epoch 15/15\n",
      "1167/1167 - 9s - loss: 0.2583 - sparse_categorical_accuracy: 0.9091 - val_loss: 0.7398 - val_sparse_categorical_accuracy: 0.7790\n"
     ]
    }
   ],
   "source": [
    "rd.seed(0)\n",
    "rd_params['nepochs']=15\n",
    "rd_model=create_model(rd_params)\n",
    "rd_valhistory=train_model(rd_model,rd_params,X_train, y_train, X_val, y_val)"
   ]
  },
  {
   "cell_type": "code",
   "execution_count": 18,
   "metadata": {},
   "outputs": [
    {
     "name": "stdout",
     "output_type": "stream",
     "text": [
      "313/313 [==============================] - 1s 3ms/step - loss: 0.7541 - sparse_categorical_accuracy: 0.7767\n"
     ]
    },
    {
     "data": {
      "text/plain": [
       "[0.7541487812995911, 0.7767000198364258]"
      ]
     },
     "execution_count": 18,
     "metadata": {},
     "output_type": "execute_result"
    }
   ],
   "source": [
    "rd_model.evaluate(X_test,y_test)"
   ]
  },
  {
   "cell_type": "markdown",
   "metadata": {},
   "source": [
    "Particle swarm model"
   ]
  },
  {
   "cell_type": "code",
   "execution_count": 19,
   "metadata": {},
   "outputs": [
    {
     "name": "stdout",
     "output_type": "stream",
     "text": [
      "Epoch 1/15\n",
      "875/875 - 9s - loss: 1.4384 - sparse_categorical_accuracy: 0.5047 - val_loss: 0.9934 - val_sparse_categorical_accuracy: 0.6590\n",
      "Epoch 2/15\n",
      "875/875 - 9s - loss: 0.9017 - sparse_categorical_accuracy: 0.6828 - val_loss: 0.9785 - val_sparse_categorical_accuracy: 0.6680\n",
      "Epoch 3/15\n",
      "875/875 - 9s - loss: 0.7621 - sparse_categorical_accuracy: 0.7332 - val_loss: 0.8281 - val_sparse_categorical_accuracy: 0.7110\n",
      "Epoch 4/15\n",
      "875/875 - 9s - loss: 0.6665 - sparse_categorical_accuracy: 0.7675 - val_loss: 0.7773 - val_sparse_categorical_accuracy: 0.7420\n",
      "Epoch 5/15\n",
      "875/875 - 9s - loss: 0.5954 - sparse_categorical_accuracy: 0.7918 - val_loss: 0.7925 - val_sparse_categorical_accuracy: 0.7400\n",
      "Epoch 6/15\n",
      "875/875 - 9s - loss: 0.5273 - sparse_categorical_accuracy: 0.8167 - val_loss: 0.7170 - val_sparse_categorical_accuracy: 0.7580\n",
      "Epoch 7/15\n",
      "875/875 - 9s - loss: 0.4623 - sparse_categorical_accuracy: 0.8364 - val_loss: 0.7940 - val_sparse_categorical_accuracy: 0.7610\n",
      "Epoch 8/15\n",
      "875/875 - 9s - loss: 0.4065 - sparse_categorical_accuracy: 0.8588 - val_loss: 0.7200 - val_sparse_categorical_accuracy: 0.7770\n",
      "Epoch 9/15\n",
      "875/875 - 9s - loss: 0.3531 - sparse_categorical_accuracy: 0.8762 - val_loss: 0.7535 - val_sparse_categorical_accuracy: 0.7710\n",
      "Epoch 10/15\n",
      "875/875 - 8s - loss: 0.3062 - sparse_categorical_accuracy: 0.8922 - val_loss: 0.9218 - val_sparse_categorical_accuracy: 0.7260\n",
      "Epoch 11/15\n",
      "875/875 - 9s - loss: 0.2666 - sparse_categorical_accuracy: 0.9051 - val_loss: 0.8092 - val_sparse_categorical_accuracy: 0.7680\n",
      "Epoch 12/15\n",
      "875/875 - 9s - loss: 0.2405 - sparse_categorical_accuracy: 0.9145 - val_loss: 0.9147 - val_sparse_categorical_accuracy: 0.7670\n",
      "Epoch 13/15\n",
      "875/875 - 9s - loss: 0.1984 - sparse_categorical_accuracy: 0.9292 - val_loss: 0.9820 - val_sparse_categorical_accuracy: 0.7420\n",
      "Epoch 14/15\n",
      "875/875 - 9s - loss: 0.1777 - sparse_categorical_accuracy: 0.9374 - val_loss: 1.0589 - val_sparse_categorical_accuracy: 0.7390\n",
      "Epoch 15/15\n",
      "875/875 - 9s - loss: 0.1557 - sparse_categorical_accuracy: 0.9442 - val_loss: 1.0533 - val_sparse_categorical_accuracy: 0.7710\n"
     ]
    }
   ],
   "source": [
    "rd.seed(0)\n",
    "ps_params['nepochs']=15\n",
    "ps_model=ToyNet(ps_params)\n",
    "ps_valhistory=train_model(ps_model,ps_params,X_train, y_train, X_val, y_val)"
   ]
  },
  {
   "cell_type": "code",
   "execution_count": 20,
   "metadata": {},
   "outputs": [
    {
     "name": "stdout",
     "output_type": "stream",
     "text": [
      "313/313 [==============================] - 1s 3ms/step - loss: 1.0713 - sparse_categorical_accuracy: 0.7556\n"
     ]
    },
    {
     "data": {
      "text/plain": [
       "[1.071265697479248, 0.7555999755859375]"
      ]
     },
     "execution_count": 20,
     "metadata": {},
     "output_type": "execute_result"
    }
   ],
   "source": [
    "ps_model.evaluate(X_test,y_test)"
   ]
  },
  {
   "cell_type": "markdown",
   "metadata": {},
   "source": [
    "Genetic algorithm model"
   ]
  },
  {
   "cell_type": "code",
   "execution_count": 21,
   "metadata": {},
   "outputs": [
    {
     "name": "stdout",
     "output_type": "stream",
     "text": [
      "Epoch 1/15\n",
      "1532/1532 - 14s - loss: 1.4029 - sparse_categorical_accuracy: 0.5044 - val_loss: 1.0656 - val_sparse_categorical_accuracy: 0.6500\n",
      "Epoch 2/15\n",
      "1532/1532 - 13s - loss: 0.9556 - sparse_categorical_accuracy: 0.6618 - val_loss: 0.9024 - val_sparse_categorical_accuracy: 0.6950\n",
      "Epoch 3/15\n",
      "1532/1532 - 13s - loss: 0.8213 - sparse_categorical_accuracy: 0.7082 - val_loss: 0.9231 - val_sparse_categorical_accuracy: 0.6830\n",
      "Epoch 4/15\n",
      "1532/1532 - 13s - loss: 0.7184 - sparse_categorical_accuracy: 0.7497 - val_loss: 0.7696 - val_sparse_categorical_accuracy: 0.7340\n",
      "Epoch 5/15\n",
      "1532/1532 - 13s - loss: 0.6431 - sparse_categorical_accuracy: 0.7756 - val_loss: 0.7541 - val_sparse_categorical_accuracy: 0.7380\n",
      "Epoch 6/15\n",
      "1532/1532 - 13s - loss: 0.5786 - sparse_categorical_accuracy: 0.7972 - val_loss: 0.7212 - val_sparse_categorical_accuracy: 0.7670\n",
      "Epoch 7/15\n",
      "1532/1532 - 13s - loss: 0.5236 - sparse_categorical_accuracy: 0.8154 - val_loss: 0.6482 - val_sparse_categorical_accuracy: 0.7780\n",
      "Epoch 8/15\n",
      "1532/1532 - 13s - loss: 0.4707 - sparse_categorical_accuracy: 0.8354 - val_loss: 0.6053 - val_sparse_categorical_accuracy: 0.7870\n",
      "Epoch 9/15\n",
      "1532/1532 - 13s - loss: 0.4303 - sparse_categorical_accuracy: 0.8474 - val_loss: 0.6472 - val_sparse_categorical_accuracy: 0.7910\n",
      "Epoch 10/15\n",
      "1532/1532 - 13s - loss: 0.3940 - sparse_categorical_accuracy: 0.8577 - val_loss: 0.6763 - val_sparse_categorical_accuracy: 0.7740\n",
      "Epoch 11/15\n",
      "1532/1532 - 13s - loss: 0.3609 - sparse_categorical_accuracy: 0.8732 - val_loss: 0.6475 - val_sparse_categorical_accuracy: 0.7940\n",
      "Epoch 12/15\n",
      "1532/1532 - 13s - loss: 0.3325 - sparse_categorical_accuracy: 0.8832 - val_loss: 0.6128 - val_sparse_categorical_accuracy: 0.8040\n",
      "Epoch 13/15\n",
      "1532/1532 - 13s - loss: 0.3042 - sparse_categorical_accuracy: 0.8923 - val_loss: 0.6501 - val_sparse_categorical_accuracy: 0.7940\n",
      "Epoch 14/15\n",
      "1532/1532 - 13s - loss: 0.2779 - sparse_categorical_accuracy: 0.8997 - val_loss: 0.6449 - val_sparse_categorical_accuracy: 0.7940\n",
      "Epoch 15/15\n",
      "1532/1532 - 13s - loss: 0.2608 - sparse_categorical_accuracy: 0.9061 - val_loss: 0.6861 - val_sparse_categorical_accuracy: 0.8000\n"
     ]
    }
   ],
   "source": [
    "rd.seed(0)\n",
    "ga_params['nepochs']=15\n",
    "ga_model=ToyNet(ga_params)\n",
    "ga_valhistory=train_model(ga_model,ga_params,X_train, y_train, X_val, y_val)"
   ]
  },
  {
   "cell_type": "code",
   "execution_count": 22,
   "metadata": {},
   "outputs": [
    {
     "name": "stdout",
     "output_type": "stream",
     "text": [
      "313/313 [==============================] - 1s 4ms/step - loss: 0.7580 - sparse_categorical_accuracy: 0.7886\n"
     ]
    },
    {
     "data": {
      "text/plain": [
       "[0.7580143809318542, 0.7886000275611877]"
      ]
     },
     "execution_count": 22,
     "metadata": {},
     "output_type": "execute_result"
    }
   ],
   "source": [
    "ga_model.evaluate(X_test,y_test)"
   ]
  },
  {
   "cell_type": "markdown",
   "metadata": {},
   "source": [
    "Generate validation accuracy history"
   ]
  },
  {
   "cell_type": "code",
   "execution_count": 24,
   "metadata": {},
   "outputs": [
    {
     "data": {
      "image/png": "[encoded data removed]",
      "text/plain": [
       "<Figure size 432x288 with 1 Axes>"
      ]
     },
     "metadata": {
      "needs_background": "light"
     },
     "output_type": "display_data"
    }
   ],
   "source": [
    "plt.figure()\n",
    "plt.plot(np.arange(len(rd_valhistory))+1,rd_valhistory)\n",
    "plt.plot(np.arange(len(ps_valhistory))+1,ps_valhistory)\n",
    "plt.plot(np.arange(len(ga_valhistory))+1,ga_valhistory)\n",
    "plt.legend(['random search','particle swarm','genetic algorithm'])\n",
    "plt.title('Validation accuracy history')\n",
    "plt.xlabel('Epoch')\n",
    "plt.ylabel('Validation accuracy')\n",
    "plt.savefig('ValHist_200.pdf')"
   ]
  },
  {
   "cell_type": "markdown",
   "metadata": {},
   "source": [
    "Generate evolution graph"
   ]
  },
  {
   "cell_type": "code",
   "execution_count": 25,
   "metadata": {},
   "outputs": [
    {
     "data": {
      "image/png": "[encoded data removed]",
      "text/plain": [
       "<Figure size 432x288 with 1 Axes>"
      ]
     },
     "metadata": {
      "needs_background": "light"
     },
     "output_type": "display_data"
    }
   ],
   "source": [
    "rd_history=load_obj('RandHistory200')\n",
    "ps_history=load_obj('PSHistory200')\n",
    "ga_history=load_obj('GAHistory200')\n",
    "\n",
    "plt.figure()\n",
    "plt.title('Optimization history for 200 evaluations')\n",
    "plt.plot(np.arange(len(rd_history)),rd_history)\n",
    "plt.plot(np.arange(len(ps_history)),ps_history)\n",
    "plt.plot(np.arange(len(ga_history)),ga_history)\n",
    "plt.xlabel('Best value update')\n",
    "plt.ylabel('Best objective value')\n",
    "plt.legend(['random search','particle swarm','genetic algorithm'])\n",
    "plt.savefig('History_200.pdf')"
   ]
  },
  {
   "cell_type": "code",
   "execution_count": null,
   "metadata": {},
   "outputs": [],
   "source": []
  }
 ],
 "metadata": {
  "kernelspec": {
   "display_name": "Python 3",
   "language": "python",
   "name": "python3"
  },
  "language_info": {
   "codemirror_mode": {
    "name": "ipython",
    "version": 3
   },
   "file_extension": ".py",
   "mimetype": "text/x-python",
   "name": "python",
   "nbconvert_exporter": "python",
   "pygments_lexer": "ipython3",
   "version": "3.7.6"
  }
 },
 "nbformat": 4,
 "nbformat_minor": 4
}
