{
 "cells": [
  {
   "cell_type": "markdown",
   "metadata": {},
   "source": [
    "Notebook for testing the particle swarm optimization"
   ]
  },
  {
   "cell_type": "markdown",
   "metadata": {},
   "source": [
    "Download cifar dataset if not present"
   ]
  },
  {
   "cell_type": "code",
   "execution_count": 1,
   "metadata": {},
   "outputs": [
    {
     "name": "stdout",
     "output_type": "stream",
     "text": [
      "Already loaded.\n"
     ]
    }
   ],
   "source": [
    "from LoadCIFAR import loadCIFAR\n",
    "loadCIFAR()"
   ]
  },
  {
   "cell_type": "markdown",
   "metadata": {},
   "source": [
    "Util functions to save and load objects"
   ]
  },
  {
   "cell_type": "code",
   "execution_count": 1,
   "metadata": {},
   "outputs": [],
   "source": [
    "import pickle\n",
    "\n",
    "def save_obj(obj, name ):\n",
    "    with open(name + '.pkl', 'wb') as f:\n",
    "        pickle.dump(obj, f, pickle.HIGHEST_PROTOCOL)\n",
    "\n",
    "def load_obj(name ):\n",
    "    with open(name + '.pkl', 'rb') as f:\n",
    "        return pickle.load(f)"
   ]
  },
  {
   "cell_type": "markdown",
   "metadata": {},
   "source": [
    "Import files"
   ]
  },
  {
   "cell_type": "code",
   "execution_count": 2,
   "metadata": {},
   "outputs": [],
   "source": [
    "import numpy as np\n",
    "import tensorflow as tf\n",
    "from optimizers import *"
   ]
  },
  {
   "cell_type": "markdown",
   "metadata": {},
   "source": [
    "Test particle_swarm function"
   ]
  },
  {
   "cell_type": "code",
   "execution_count": 3,
   "metadata": {},
   "outputs": [
    {
     "name": "stdout",
     "output_type": "stream",
     "text": [
      "WARNING:tensorflow:Large dropout rate: 0.551132 (>0.5). In TensorFlow 2.x, dropout() uses dropout rate instead of keep_prob. Please ensure that this is intended.\n",
      "Train on 9000 samples, validate on 1000 samples\n",
      "Epoch 1/8\n",
      "WARNING:tensorflow:Large dropout rate: 0.551132 (>0.5). In TensorFlow 2.x, dropout() uses dropout rate instead of keep_prob. Please ensure that this is intended.\n",
      "WARNING:tensorflow:Large dropout rate: 0.551132 (>0.5). In TensorFlow 2.x, dropout() uses dropout rate instead of keep_prob. Please ensure that this is intended.\n",
      "9000/9000 - 5s - loss: 6.2518 - sparse_categorical_accuracy: 0.2642 - val_loss: 5.4448 - val_sparse_categorical_accuracy: 0.2800\n",
      "Epoch 2/8\n",
      "9000/9000 - 1s - loss: 4.3867 - sparse_categorical_accuracy: 0.4068 - val_loss: 4.5292 - val_sparse_categorical_accuracy: 0.1840\n",
      "Epoch 3/8\n",
      "9000/9000 - 1s - loss: 3.2682 - sparse_categorical_accuracy: 0.4768 - val_loss: 4.3310 - val_sparse_categorical_accuracy: 0.1180\n",
      "Epoch 4/8\n",
      "9000/9000 - 1s - loss: 2.5914 - sparse_categorical_accuracy: 0.5262 - val_loss: 3.9466 - val_sparse_categorical_accuracy: 0.1260\n",
      "Epoch 5/8\n",
      "9000/9000 - 1s - loss: 2.1652 - sparse_categorical_accuracy: 0.5739 - val_loss: 3.7597 - val_sparse_categorical_accuracy: 0.1190\n",
      "Epoch 6/8\n",
      "9000/9000 - 1s - loss: 1.8926 - sparse_categorical_accuracy: 0.6012 - val_loss: 3.4461 - val_sparse_categorical_accuracy: 0.2430\n",
      "Epoch 7/8\n",
      "9000/9000 - 1s - loss: 1.6829 - sparse_categorical_accuracy: 0.6364 - val_loss: 3.0061 - val_sparse_categorical_accuracy: 0.2220\n",
      "Epoch 8/8\n",
      "9000/9000 - 1s - loss: 1.5443 - sparse_categorical_accuracy: 0.6581 - val_loss: 3.0145 - val_sparse_categorical_accuracy: 0.1920\n",
      "Train on 9000 samples, validate on 1000 samples\n",
      "Epoch 1/8\n",
      "9000/9000 - 3s - loss: 2.1758 - sparse_categorical_accuracy: 0.2360 - val_loss: 2.1783 - val_sparse_categorical_accuracy: 0.1990\n",
      "Epoch 2/8\n",
      "9000/9000 - 1s - loss: 1.7814 - sparse_categorical_accuracy: 0.3687 - val_loss: 2.0323 - val_sparse_categorical_accuracy: 0.2610\n",
      "Epoch 3/8\n",
      "9000/9000 - 1s - loss: 1.6236 - sparse_categorical_accuracy: 0.4294 - val_loss: 1.7938 - val_sparse_categorical_accuracy: 0.3570\n",
      "Epoch 4/8\n",
      "9000/9000 - 1s - loss: 1.5110 - sparse_categorical_accuracy: 0.4621 - val_loss: 1.5949 - val_sparse_categorical_accuracy: 0.4040\n",
      "Epoch 5/8\n",
      "9000/9000 - 1s - loss: 1.4366 - sparse_categorical_accuracy: 0.4917 - val_loss: 1.4989 - val_sparse_categorical_accuracy: 0.4490\n",
      "Epoch 6/8\n",
      "9000/9000 - 1s - loss: 1.3689 - sparse_categorical_accuracy: 0.5159 - val_loss: 1.4444 - val_sparse_categorical_accuracy: 0.4610\n",
      "Epoch 7/8\n",
      "9000/9000 - 1s - loss: 1.3049 - sparse_categorical_accuracy: 0.5343 - val_loss: 1.4183 - val_sparse_categorical_accuracy: 0.4520\n",
      "Epoch 8/8\n",
      "9000/9000 - 1s - loss: 1.2483 - sparse_categorical_accuracy: 0.5614 - val_loss: 1.3740 - val_sparse_categorical_accuracy: 0.4860\n",
      "WARNING:tensorflow:Large dropout rate: 0.551132 (>0.5). In TensorFlow 2.x, dropout() uses dropout rate instead of keep_prob. Please ensure that this is intended.\n",
      "Train on 9000 samples, validate on 1000 samples\n",
      "Epoch 1/8\n",
      "WARNING:tensorflow:Large dropout rate: 0.551132 (>0.5). In TensorFlow 2.x, dropout() uses dropout rate instead of keep_prob. Please ensure that this is intended.\n",
      "9000/9000 - 2s - loss: 6.1627 - sparse_categorical_accuracy: 0.2693 - val_loss: 5.4045 - val_sparse_categorical_accuracy: 0.2630\n",
      "Epoch 2/8\n",
      "9000/9000 - 1s - loss: 4.3036 - sparse_categorical_accuracy: 0.4168 - val_loss: 4.3407 - val_sparse_categorical_accuracy: 0.1800\n",
      "Epoch 3/8\n",
      "9000/9000 - 1s - loss: 3.1937 - sparse_categorical_accuracy: 0.4761 - val_loss: 3.7497 - val_sparse_categorical_accuracy: 0.1590\n",
      "Epoch 4/8\n",
      "9000/9000 - 1s - loss: 2.4995 - sparse_categorical_accuracy: 0.5323 - val_loss: 3.4797 - val_sparse_categorical_accuracy: 0.1230\n",
      "Epoch 5/8\n",
      "9000/9000 - 1s - loss: 2.0849 - sparse_categorical_accuracy: 0.5770 - val_loss: 3.3216 - val_sparse_categorical_accuracy: 0.1380\n",
      "Epoch 6/8\n",
      "9000/9000 - 1s - loss: 1.8224 - sparse_categorical_accuracy: 0.6100 - val_loss: 3.1124 - val_sparse_categorical_accuracy: 0.1560\n",
      "Epoch 7/8\n",
      "9000/9000 - 1s - loss: 1.6437 - sparse_categorical_accuracy: 0.6304 - val_loss: 2.6197 - val_sparse_categorical_accuracy: 0.2840\n",
      "Epoch 8/8\n",
      "9000/9000 - 1s - loss: 1.5324 - sparse_categorical_accuracy: 0.6430 - val_loss: 2.5593 - val_sparse_categorical_accuracy: 0.2920\n",
      "Train on 9000 samples, validate on 1000 samples\n",
      "Epoch 1/8\n",
      "9000/9000 - 2s - loss: 2.2643 - sparse_categorical_accuracy: 0.2176 - val_loss: 2.2072 - val_sparse_categorical_accuracy: 0.1570\n",
      "Epoch 2/8\n",
      "9000/9000 - 1s - loss: 1.8072 - sparse_categorical_accuracy: 0.3538 - val_loss: 2.0480 - val_sparse_categorical_accuracy: 0.2440\n",
      "Epoch 3/8\n",
      "9000/9000 - 1s - loss: 1.6412 - sparse_categorical_accuracy: 0.4183 - val_loss: 1.7650 - val_sparse_categorical_accuracy: 0.3630\n",
      "Epoch 4/8\n",
      "9000/9000 - 1s - loss: 1.5199 - sparse_categorical_accuracy: 0.4589 - val_loss: 1.5698 - val_sparse_categorical_accuracy: 0.4280\n",
      "Epoch 5/8\n",
      "9000/9000 - 1s - loss: 1.4435 - sparse_categorical_accuracy: 0.4859 - val_loss: 1.4802 - val_sparse_categorical_accuracy: 0.4620\n",
      "Epoch 6/8\n",
      "9000/9000 - 1s - loss: 1.3740 - sparse_categorical_accuracy: 0.5173 - val_loss: 1.4405 - val_sparse_categorical_accuracy: 0.4770\n",
      "Epoch 7/8\n",
      "9000/9000 - 1s - loss: 1.3134 - sparse_categorical_accuracy: 0.5379 - val_loss: 1.3829 - val_sparse_categorical_accuracy: 0.5000\n",
      "Epoch 8/8\n",
      "9000/9000 - 1s - loss: 1.2542 - sparse_categorical_accuracy: 0.5614 - val_loss: 1.3548 - val_sparse_categorical_accuracy: 0.5070\n",
      "Train on 9000 samples, validate on 1000 samples\n",
      "Epoch 1/8\n",
      "9000/9000 - 2s - loss: 4.3051 - sparse_categorical_accuracy: 0.2540 - val_loss: 4.1804 - val_sparse_categorical_accuracy: 0.2320\n",
      "Epoch 2/8\n",
      "9000/9000 - 1s - loss: 3.7558 - sparse_categorical_accuracy: 0.3767 - val_loss: 3.9711 - val_sparse_categorical_accuracy: 0.2440\n",
      "Epoch 3/8\n",
      "9000/9000 - 1s - loss: 3.5295 - sparse_categorical_accuracy: 0.4263 - val_loss: 3.6604 - val_sparse_categorical_accuracy: 0.3480\n",
      "Epoch 4/8\n",
      "9000/9000 - 1s - loss: 3.3370 - sparse_categorical_accuracy: 0.4598 - val_loss: 3.2434 - val_sparse_categorical_accuracy: 0.4780\n",
      "Epoch 5/8\n",
      "9000/9000 - 1s - loss: 3.1459 - sparse_categorical_accuracy: 0.4948 - val_loss: 3.1037 - val_sparse_categorical_accuracy: 0.5050\n",
      "Epoch 6/8\n",
      "9000/9000 - 1s - loss: 2.9693 - sparse_categorical_accuracy: 0.5230 - val_loss: 2.9065 - val_sparse_categorical_accuracy: 0.5320\n",
      "Epoch 7/8\n",
      "9000/9000 - 1s - loss: 2.8207 - sparse_categorical_accuracy: 0.5520 - val_loss: 2.7993 - val_sparse_categorical_accuracy: 0.5310\n",
      "Epoch 8/8\n",
      "9000/9000 - 1s - loss: 2.6988 - sparse_categorical_accuracy: 0.5657 - val_loss: 2.6735 - val_sparse_categorical_accuracy: 0.5430\n",
      "Train on 9000 samples, validate on 1000 samples\n",
      "Epoch 1/8\n",
      "9000/9000 - 2s - loss: 2.1132 - sparse_categorical_accuracy: 0.2494 - val_loss: 2.2071 - val_sparse_categorical_accuracy: 0.1720\n",
      "Epoch 2/8\n",
      "9000/9000 - 1s - loss: 1.7531 - sparse_categorical_accuracy: 0.3752 - val_loss: 2.0054 - val_sparse_categorical_accuracy: 0.2350\n",
      "Epoch 3/8\n",
      "9000/9000 - 1s - loss: 1.6046 - sparse_categorical_accuracy: 0.4221 - val_loss: 1.7297 - val_sparse_categorical_accuracy: 0.3790\n",
      "Epoch 4/8\n",
      "9000/9000 - 1s - loss: 1.5036 - sparse_categorical_accuracy: 0.4591 - val_loss: 1.5447 - val_sparse_categorical_accuracy: 0.4440\n",
      "Epoch 5/8\n",
      "9000/9000 - 1s - loss: 1.4198 - sparse_categorical_accuracy: 0.4950 - val_loss: 1.4673 - val_sparse_categorical_accuracy: 0.4770\n",
      "Epoch 6/8\n",
      "9000/9000 - 1s - loss: 1.3571 - sparse_categorical_accuracy: 0.5197 - val_loss: 1.4166 - val_sparse_categorical_accuracy: 0.4810\n",
      "Epoch 7/8\n",
      "9000/9000 - 1s - loss: 1.2950 - sparse_categorical_accuracy: 0.5416 - val_loss: 1.3920 - val_sparse_categorical_accuracy: 0.5060\n",
      "Epoch 8/8\n",
      "9000/9000 - 1s - loss: 1.2402 - sparse_categorical_accuracy: 0.5601 - val_loss: 1.3730 - val_sparse_categorical_accuracy: 0.4890\n"
     ]
    }
   ],
   "source": [
    "params={'learning_rate':(1e-5,1e-1,2),\n",
    "        'batch_size':(32,256,1),\n",
    "        'nepochs':(8,8,1),\n",
    "        'conv_size1':(32,128,1),\n",
    "        'conv_size2':(32,128,1),\n",
    "        'conv_size3':(32,128,1),\n",
    "        'fc_size':(50,200,1),\n",
    "        'dropout_param':(0,0.6,0),\n",
    "        'l2_reg':(1e-10,1,2)}\n",
    "model_params,y_best,x_history,y_history=particle_swarm(2,2,params=params,num_training=9000,num_val=1000,keras_verbose=2)"
   ]
  },
  {
   "cell_type": "code",
   "execution_count": 4,
   "metadata": {},
   "outputs": [
    {
     "name": "stdout",
     "output_type": "stream",
     "text": [
      "{'nepochs': 8, 'learning_rate': 0.0001530518290423148, 'batch_size': 88.0, 'conv_size1': 43.0, 'conv_size2': 72.0, 'conv_size3': 61.0, 'fc_size': 157.0, 'dropout_param': 0.5502541562795361, 'l2_reg': 0.004790812228360801}\n"
     ]
    }
   ],
   "source": [
    "print(model_params)"
   ]
  },
  {
   "cell_type": "markdown",
   "metadata": {},
   "source": [
    "Run for 50 or 200 evaluations"
   ]
  },
  {
   "cell_type": "code",
   "execution_count": 3,
   "metadata": {},
   "outputs": [
    {
     "name": "stdout",
     "output_type": "stream",
     "text": [
      "Initial evaluation on population\n"
     ]
    },
    {
     "name": "stderr",
     "output_type": "stream",
     "text": [
      "\r",
      "  0%|          | 0/9 [00:00<?, ?it/s]"
     ]
    },
    {
     "name": "stdout",
     "output_type": "stream",
     "text": [
      "Starting optimization loop\n"
     ]
    },
    {
     "name": "stderr",
     "output_type": "stream",
     "text": [
      "100%|██████████| 9/9 [55:45<00:00, 371.69s/it]\n"
     ]
    }
   ],
   "source": [
    "params={'learning_rate':(1e-5,1e-1,2),\n",
    "        'batch_size':(32,256,1),\n",
    "        'nepochs':(8,8,1),\n",
    "        'conv_size1':(32,128,1),\n",
    "        'conv_size2':(32,128,1),\n",
    "        'conv_size3':(32,128,1),\n",
    "        'fc_size':(50,200,1),\n",
    "        'dropout_param':(0,0.6,0),\n",
    "        'l2_reg':(1e-10,1,2)}\n",
    "best_params,y_best,x_history,y_history=particle_swarm(5,9,params=params,num_training=49000,num_val=1000,keras_verbose=0)\n",
    "save_obj(best_params,'PSOptParam50')\n",
    "save_obj(y_best,'PSScore50')\n",
    "save_obj(y_history,'PSHistory50')"
   ]
  },
  {
   "cell_type": "code",
   "execution_count": 4,
   "metadata": {},
   "outputs": [
    {
     "name": "stdout",
     "output_type": "stream",
     "text": [
      "{'nepochs': 8, 'learning_rate': 0.0007455347010972497, 'batch_size': 69.0, 'conv_size1': 57.0, 'conv_size2': 119.0, 'conv_size3': 98.0, 'fc_size': 177.0, 'dropout_param': 0.6, 'l2_reg': 1e-10}\n"
     ]
    }
   ],
   "source": [
    "print(best_params)"
   ]
  },
  {
   "cell_type": "code",
   "execution_count": 5,
   "metadata": {},
   "outputs": [
    {
     "name": "stdout",
     "output_type": "stream",
     "text": [
      "[0.4440000057220459, 0.722000002861023, 0.7279999852180481, 0.734000027179718, 0.7689999938011169, 0.7730000019073486, 0.7799999713897705]\n"
     ]
    }
   ],
   "source": [
    "print(y_history)"
   ]
  },
  {
   "cell_type": "code",
   "execution_count": null,
   "metadata": {},
   "outputs": [],
   "source": []
  }
 ],
 "metadata": {
  "kernelspec": {
   "display_name": "Python 3",
   "language": "python",
   "name": "python3"
  },
  "language_info": {
   "codemirror_mode": {
    "name": "ipython",
    "version": 3
   },
   "file_extension": ".py",
   "mimetype": "text/x-python",
   "name": "python",
   "nbconvert_exporter": "python",
   "pygments_lexer": "ipython3",
   "version": "3.7.6"
  }
 },
 "nbformat": 4,
 "nbformat_minor": 4
}
