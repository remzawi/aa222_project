{
 "cells": [
  {
   "cell_type": "markdown",
   "metadata": {},
   "source": [
    "Notebook for testing the particle swarm optimization"
   ]
  },
  {
   "cell_type": "markdown",
   "metadata": {},
   "source": [
    "Download cifar dataset if not present"
   ]
  },
  {
   "cell_type": "code",
   "execution_count": 1,
   "metadata": {},
   "outputs": [
    {
     "name": "stdout",
     "output_type": "stream",
     "text": [
      "Already loaded.\n"
     ]
    }
   ],
   "source": [
    "from LoadCIFAR import loadCIFAR\n",
    "loadCIFAR()"
   ]
  },
  {
   "cell_type": "markdown",
   "metadata": {},
   "source": [
    "Util functions to save and load objects"
   ]
  },
  {
   "cell_type": "code",
   "execution_count": 2,
   "metadata": {},
   "outputs": [],
   "source": [
    "import pickle\n",
    "\n",
    "def save_obj(obj, name ):\n",
    "    with open(name + '.pkl', 'wb') as f:\n",
    "        pickle.dump(obj, f, pickle.HIGHEST_PROTOCOL)\n",
    "\n",
    "def load_obj(name ):\n",
    "    with open(name + '.pkl', 'rb') as f:\n",
    "        return pickle.load(f)"
   ]
  },
  {
   "cell_type": "markdown",
   "metadata": {},
   "source": [
    "Import files"
   ]
  },
  {
   "cell_type": "code",
   "execution_count": 3,
   "metadata": {},
   "outputs": [],
   "source": [
    "import numpy as np\n",
    "import tensorflow as tf\n",
    "from optimizers import *"
   ]
  },
  {
   "cell_type": "markdown",
   "metadata": {},
   "source": [
    "Test particle_swarm function"
   ]
  },
  {
   "cell_type": "code",
   "execution_count": 4,
   "metadata": {},
   "outputs": [
    {
     "name": "stdout",
     "output_type": "stream",
     "text": [
      "Train on 9000 samples, validate on 1000 samples\n",
      "Epoch 1/10\n",
      "9000/9000 - 10s - loss: 58.8217 - sparse_categorical_accuracy: 0.1149 - val_loss: 4.1844 - val_sparse_categorical_accuracy: 0.1030\n",
      "Epoch 2/10\n",
      "9000/9000 - 2s - loss: 3.2626 - sparse_categorical_accuracy: 0.1273 - val_loss: 2.8698 - val_sparse_categorical_accuracy: 0.1090\n",
      "Epoch 3/10\n",
      "9000/9000 - 2s - loss: 2.8122 - sparse_categorical_accuracy: 0.1294 - val_loss: 2.8698 - val_sparse_categorical_accuracy: 0.1040\n",
      "Epoch 4/10\n",
      "9000/9000 - 2s - loss: 2.7096 - sparse_categorical_accuracy: 0.1591 - val_loss: 3.0265 - val_sparse_categorical_accuracy: 0.1060\n",
      "Epoch 5/10\n",
      "9000/9000 - 2s - loss: 2.5324 - sparse_categorical_accuracy: 0.1710 - val_loss: 2.3938 - val_sparse_categorical_accuracy: 0.2110\n",
      "Epoch 6/10\n",
      "9000/9000 - 2s - loss: 2.4831 - sparse_categorical_accuracy: 0.1808 - val_loss: 3.0444 - val_sparse_categorical_accuracy: 0.1640\n",
      "Epoch 7/10\n",
      "9000/9000 - 2s - loss: 2.4153 - sparse_categorical_accuracy: 0.1827 - val_loss: 2.6556 - val_sparse_categorical_accuracy: 0.1130\n",
      "Epoch 8/10\n",
      "9000/9000 - 2s - loss: 2.3815 - sparse_categorical_accuracy: 0.1677 - val_loss: 2.5250 - val_sparse_categorical_accuracy: 0.1330\n",
      "Epoch 9/10\n",
      "9000/9000 - 2s - loss: 2.3103 - sparse_categorical_accuracy: 0.1760 - val_loss: 2.3069 - val_sparse_categorical_accuracy: 0.1850\n",
      "Epoch 10/10\n",
      "9000/9000 - 2s - loss: 2.3140 - sparse_categorical_accuracy: 0.1721 - val_loss: 2.4983 - val_sparse_categorical_accuracy: 0.1290\n",
      "Train on 9000 samples, validate on 1000 samples\n",
      "Epoch 1/10\n",
      "9000/9000 - 4s - loss: 48.5393 - sparse_categorical_accuracy: 0.0979 - val_loss: 2.3732 - val_sparse_categorical_accuracy: 0.1010\n",
      "Epoch 2/10\n",
      "9000/9000 - 2s - loss: 2.3095 - sparse_categorical_accuracy: 0.0974 - val_loss: 2.3196 - val_sparse_categorical_accuracy: 0.1000\n",
      "Epoch 3/10\n",
      "9000/9000 - 2s - loss: 2.3059 - sparse_categorical_accuracy: 0.1013 - val_loss: 2.5228 - val_sparse_categorical_accuracy: 0.1170\n",
      "Epoch 4/10\n",
      "9000/9000 - 2s - loss: 2.2926 - sparse_categorical_accuracy: 0.1123 - val_loss: 2.2653 - val_sparse_categorical_accuracy: 0.1430\n",
      "Epoch 5/10\n",
      "9000/9000 - 2s - loss: 2.2840 - sparse_categorical_accuracy: 0.1187 - val_loss: 2.2615 - val_sparse_categorical_accuracy: 0.1460\n",
      "Epoch 6/10\n",
      "9000/9000 - 2s - loss: 2.2666 - sparse_categorical_accuracy: 0.1427 - val_loss: 2.2365 - val_sparse_categorical_accuracy: 0.1490\n",
      "Epoch 7/10\n",
      "9000/9000 - 2s - loss: 2.2602 - sparse_categorical_accuracy: 0.1343 - val_loss: 2.2383 - val_sparse_categorical_accuracy: 0.1760\n",
      "Epoch 8/10\n",
      "9000/9000 - 2s - loss: 2.2412 - sparse_categorical_accuracy: 0.1540 - val_loss: 2.2004 - val_sparse_categorical_accuracy: 0.1940\n",
      "Epoch 9/10\n",
      "9000/9000 - 2s - loss: 2.1846 - sparse_categorical_accuracy: 0.1856 - val_loss: 2.1660 - val_sparse_categorical_accuracy: 0.1620\n",
      "Epoch 10/10\n",
      "9000/9000 - 2s - loss: 2.1915 - sparse_categorical_accuracy: 0.1756 - val_loss: 2.1838 - val_sparse_categorical_accuracy: 0.1720\n",
      "Train on 9000 samples, validate on 1000 samples\n",
      "Epoch 1/10\n",
      "9000/9000 - 3s - loss: 66.0981 - sparse_categorical_accuracy: 0.0968 - val_loss: 5.1697 - val_sparse_categorical_accuracy: 0.1150\n",
      "Epoch 2/10\n",
      "9000/9000 - 2s - loss: 3.6089 - sparse_categorical_accuracy: 0.0943 - val_loss: 2.9377 - val_sparse_categorical_accuracy: 0.1040\n",
      "Epoch 3/10\n",
      "9000/9000 - 2s - loss: 2.7608 - sparse_categorical_accuracy: 0.1009 - val_loss: 2.6355 - val_sparse_categorical_accuracy: 0.1150\n",
      "Epoch 4/10\n",
      "9000/9000 - 2s - loss: 2.5820 - sparse_categorical_accuracy: 0.1037 - val_loss: 2.5510 - val_sparse_categorical_accuracy: 0.1030\n",
      "Epoch 5/10\n",
      "9000/9000 - 2s - loss: 2.5121 - sparse_categorical_accuracy: 0.0893 - val_loss: 2.4825 - val_sparse_categorical_accuracy: 0.1080\n",
      "Epoch 6/10\n",
      "9000/9000 - 2s - loss: 2.4679 - sparse_categorical_accuracy: 0.0989 - val_loss: 2.4627 - val_sparse_categorical_accuracy: 0.1010\n",
      "Epoch 7/10\n",
      "9000/9000 - 2s - loss: 2.4404 - sparse_categorical_accuracy: 0.1041 - val_loss: 2.4294 - val_sparse_categorical_accuracy: 0.1040\n",
      "Epoch 8/10\n",
      "9000/9000 - 2s - loss: 2.4159 - sparse_categorical_accuracy: 0.0999 - val_loss: 2.4089 - val_sparse_categorical_accuracy: 0.1150\n",
      "Epoch 9/10\n",
      "9000/9000 - 2s - loss: 2.3993 - sparse_categorical_accuracy: 0.0979 - val_loss: 2.3827 - val_sparse_categorical_accuracy: 0.1090\n",
      "Epoch 10/10\n",
      "9000/9000 - 2s - loss: 2.3804 - sparse_categorical_accuracy: 0.1010 - val_loss: 2.3694 - val_sparse_categorical_accuracy: 0.1010\n",
      "Train on 9000 samples, validate on 1000 samples\n",
      "Epoch 1/10\n",
      "9000/9000 - 3s - loss: 63.8757 - sparse_categorical_accuracy: 0.1084 - val_loss: 18.1178 - val_sparse_categorical_accuracy: 0.0990\n",
      "Epoch 2/10\n",
      "9000/9000 - 2s - loss: 2.3098 - sparse_categorical_accuracy: 0.1014 - val_loss: 4.0029 - val_sparse_categorical_accuracy: 0.1010\n",
      "Epoch 3/10\n",
      "9000/9000 - 2s - loss: 2.3101 - sparse_categorical_accuracy: 0.0972 - val_loss: 2.4578 - val_sparse_categorical_accuracy: 0.0930\n",
      "Epoch 4/10\n",
      "9000/9000 - 2s - loss: 2.3090 - sparse_categorical_accuracy: 0.0971 - val_loss: 2.3141 - val_sparse_categorical_accuracy: 0.1090\n",
      "Epoch 5/10\n",
      "9000/9000 - 2s - loss: 2.3098 - sparse_categorical_accuracy: 0.1019 - val_loss: 2.3047 - val_sparse_categorical_accuracy: 0.1090\n",
      "Epoch 6/10\n",
      "9000/9000 - 2s - loss: 2.3091 - sparse_categorical_accuracy: 0.0988 - val_loss: 2.3072 - val_sparse_categorical_accuracy: 0.1040\n",
      "Epoch 7/10\n",
      "9000/9000 - 2s - loss: 2.3094 - sparse_categorical_accuracy: 0.0999 - val_loss: 2.3079 - val_sparse_categorical_accuracy: 0.1040\n",
      "Epoch 8/10\n",
      "9000/9000 - 2s - loss: 2.3094 - sparse_categorical_accuracy: 0.0957 - val_loss: 2.3064 - val_sparse_categorical_accuracy: 0.0860\n",
      "Epoch 9/10\n",
      "9000/9000 - 2s - loss: 2.3094 - sparse_categorical_accuracy: 0.0959 - val_loss: 2.3074 - val_sparse_categorical_accuracy: 0.1150\n",
      "Epoch 10/10\n",
      "9000/9000 - 2s - loss: 2.3088 - sparse_categorical_accuracy: 0.1042 - val_loss: 2.3129 - val_sparse_categorical_accuracy: 0.1010\n",
      "Train on 9000 samples, validate on 1000 samples\n",
      "Epoch 1/10\n",
      "9000/9000 - 4s - loss: 54.5538 - sparse_categorical_accuracy: 0.1429 - val_loss: 4.7520 - val_sparse_categorical_accuracy: 0.1030\n",
      "Epoch 2/10\n",
      "9000/9000 - 3s - loss: 3.3157 - sparse_categorical_accuracy: 0.1712 - val_loss: 3.2131 - val_sparse_categorical_accuracy: 0.1080\n",
      "Epoch 3/10\n",
      "9000/9000 - 3s - loss: 2.6668 - sparse_categorical_accuracy: 0.1764 - val_loss: 3.0078 - val_sparse_categorical_accuracy: 0.1030\n",
      "Epoch 4/10\n",
      "9000/9000 - 3s - loss: 2.5350 - sparse_categorical_accuracy: 0.1638 - val_loss: 2.9570 - val_sparse_categorical_accuracy: 0.1080\n",
      "Epoch 5/10\n",
      "9000/9000 - 3s - loss: 2.4502 - sparse_categorical_accuracy: 0.1726 - val_loss: 2.8097 - val_sparse_categorical_accuracy: 0.1070\n",
      "Epoch 6/10\n",
      "9000/9000 - 3s - loss: 2.4352 - sparse_categorical_accuracy: 0.1731 - val_loss: 2.7058 - val_sparse_categorical_accuracy: 0.1180\n",
      "Epoch 7/10\n",
      "9000/9000 - 3s - loss: 2.4094 - sparse_categorical_accuracy: 0.1729 - val_loss: 2.5550 - val_sparse_categorical_accuracy: 0.1230\n",
      "Epoch 8/10\n",
      "9000/9000 - 3s - loss: 2.3306 - sparse_categorical_accuracy: 0.1738 - val_loss: 2.3315 - val_sparse_categorical_accuracy: 0.1890\n",
      "Epoch 9/10\n",
      "9000/9000 - 3s - loss: 2.3105 - sparse_categorical_accuracy: 0.1742 - val_loss: 2.5921 - val_sparse_categorical_accuracy: 0.1180\n",
      "Epoch 10/10\n",
      "9000/9000 - 3s - loss: 2.3119 - sparse_categorical_accuracy: 0.1780 - val_loss: 2.6023 - val_sparse_categorical_accuracy: 0.1310\n",
      "Train on 9000 samples, validate on 1000 samples\n",
      "Epoch 1/10\n",
      "9000/9000 - 4s - loss: 78.9181 - sparse_categorical_accuracy: 0.1346 - val_loss: 30.4499 - val_sparse_categorical_accuracy: 0.1700\n",
      "Epoch 2/10\n",
      "9000/9000 - 2s - loss: 14.8637 - sparse_categorical_accuracy: 0.1823 - val_loss: 7.4359 - val_sparse_categorical_accuracy: 0.1080\n",
      "Epoch 3/10\n",
      "9000/9000 - 2s - loss: 5.0457 - sparse_categorical_accuracy: 0.2036 - val_loss: 4.3895 - val_sparse_categorical_accuracy: 0.1080\n",
      "Epoch 4/10\n",
      "9000/9000 - 2s - loss: 3.1867 - sparse_categorical_accuracy: 0.2279 - val_loss: 3.6147 - val_sparse_categorical_accuracy: 0.1080\n",
      "Epoch 5/10\n",
      "9000/9000 - 2s - loss: 2.6708 - sparse_categorical_accuracy: 0.2294 - val_loss: 3.3775 - val_sparse_categorical_accuracy: 0.1080\n",
      "Epoch 6/10\n",
      "9000/9000 - 2s - loss: 2.4672 - sparse_categorical_accuracy: 0.2447 - val_loss: 3.3423 - val_sparse_categorical_accuracy: 0.1030\n",
      "Epoch 7/10\n",
      "9000/9000 - 2s - loss: 2.3650 - sparse_categorical_accuracy: 0.2484 - val_loss: 3.4155 - val_sparse_categorical_accuracy: 0.0770\n"
     ]
    },
    {
     "name": "stdout",
     "output_type": "stream",
     "text": [
      "Epoch 8/10\n",
      "9000/9000 - 2s - loss: 2.3224 - sparse_categorical_accuracy: 0.2652 - val_loss: 3.5819 - val_sparse_categorical_accuracy: 0.1030\n",
      "Epoch 9/10\n",
      "9000/9000 - 2s - loss: 2.2698 - sparse_categorical_accuracy: 0.2652 - val_loss: 2.8509 - val_sparse_categorical_accuracy: 0.1180\n",
      "Epoch 10/10\n",
      "9000/9000 - 2s - loss: 2.2312 - sparse_categorical_accuracy: 0.2661 - val_loss: 2.6264 - val_sparse_categorical_accuracy: 0.1740\n"
     ]
    }
   ],
   "source": [
    "params={'learning_rate':(1e-4,1e-1,2),\n",
    "        'batch_size':(32,256,1),\n",
    "        'nepochs':(10,10,1),\n",
    "        'conv_size1':(32,128,1),\n",
    "        'conv_size2':(32,128,1),\n",
    "        'conv_size3':(32,128,1),\n",
    "        'fc_size':(50,200,1),\n",
    "        'dropout_param':(0,1,0),\n",
    "        'l2_reg':(1e-10,1,2)}\n",
    "model_params,y_best=particle_swarm(2,2,params=params,num_training=9000,num_val=1000,keras_verbose=2)"
   ]
  },
  {
   "cell_type": "code",
   "execution_count": 7,
   "metadata": {},
   "outputs": [
    {
     "name": "stdout",
     "output_type": "stream",
     "text": [
      "{'nepochs': 10, 'learning_rate': 0.07966962521787797, 'batch_size': 81.0, 'conv_size1': 124.0, 'conv_size2': 49.0, 'conv_size3': 79.0, 'fc_size': 90.0, 'dropout_param': 0.38894195433020284, 'l2_reg': 0.004105086694108592}\n"
     ]
    }
   ],
   "source": [
    "print(model_params)"
   ]
  },
  {
   "cell_type": "markdown",
   "metadata": {},
   "source": [
    "Run for 100 evaluations"
   ]
  },
  {
   "cell_type": "code",
   "execution_count": null,
   "metadata": {},
   "outputs": [],
   "source": [
    "best_params,y_best=particle_swarm(10,9,params=params,num_training=9000,num_val=1000,keras_verbose=0)\n",
    "save_obj(best_params,'PSOptParam')"
   ]
  }
 ],
 "metadata": {
  "kernelspec": {
   "display_name": "Python 3",
   "language": "python",
   "name": "python3"
  },
  "language_info": {
   "codemirror_mode": {
    "name": "ipython",
    "version": 3
   },
   "file_extension": ".py",
   "mimetype": "text/x-python",
   "name": "python",
   "nbconvert_exporter": "python",
   "pygments_lexer": "ipython3",
   "version": "3.7.6"
  }
 },
 "nbformat": 4,
 "nbformat_minor": 4
}
