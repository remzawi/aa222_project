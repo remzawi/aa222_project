{
 "cells": [
  {
   "cell_type": "markdown",
   "metadata": {},
   "source": [
    "Notebook for testing the particle swarm optimization"
   ]
  },
  {
   "cell_type": "markdown",
   "metadata": {},
   "source": [
    "Download cifar dataset if not present"
   ]
  },
  {
   "cell_type": "code",
   "execution_count": 1,
   "metadata": {},
   "outputs": [
    {
     "name": "stdout",
     "output_type": "stream",
     "text": [
      "Already loaded.\n"
     ]
    }
   ],
   "source": [
    "from LoadCIFAR import loadCIFAR\n",
    "loadCIFAR()"
   ]
  },
  {
   "cell_type": "markdown",
   "metadata": {},
   "source": [
    "Util functions to save and load objects"
   ]
  },
  {
   "cell_type": "code",
   "execution_count": 1,
   "metadata": {},
   "outputs": [],
   "source": [
    "import pickle\n",
    "\n",
    "def save_obj(obj, name ):\n",
    "    with open(name + '.pkl', 'wb') as f:\n",
    "        pickle.dump(obj, f, pickle.HIGHEST_PROTOCOL)\n",
    "\n",
    "def load_obj(name ):\n",
    "    with open(name + '.pkl', 'rb') as f:\n",
    "        return pickle.load(f)"
   ]
  },
  {
   "cell_type": "markdown",
   "metadata": {},
   "source": [
    "Import files"
   ]
  },
  {
   "cell_type": "code",
   "execution_count": 2,
   "metadata": {},
   "outputs": [],
   "source": [
    "import numpy as np\n",
    "import tensorflow as tf\n",
    "from optimizers import *"
   ]
  },
  {
   "cell_type": "markdown",
   "metadata": {},
   "source": [
    "Test particle_swarm function"
   ]
  },
  {
   "cell_type": "code",
   "execution_count": 3,
   "metadata": {},
   "outputs": [
    {
     "name": "stdout",
     "output_type": "stream",
     "text": [
      "Train on 9000 samples, validate on 1000 samples\n",
      "Epoch 1/8\n",
      "9000/9000 - 5s - loss: 4.9551 - sparse_categorical_accuracy: 0.2713 - val_loss: 4.9565 - val_sparse_categorical_accuracy: 0.1630\n",
      "Epoch 2/8\n",
      "9000/9000 - 1s - loss: 4.3292 - sparse_categorical_accuracy: 0.4157 - val_loss: 4.9058 - val_sparse_categorical_accuracy: 0.1470\n",
      "Epoch 3/8\n",
      "9000/9000 - 1s - loss: 3.9608 - sparse_categorical_accuracy: 0.4751 - val_loss: 4.8189 - val_sparse_categorical_accuracy: 0.1740\n",
      "Epoch 4/8\n",
      "9000/9000 - 1s - loss: 3.6709 - sparse_categorical_accuracy: 0.5067 - val_loss: 4.1884 - val_sparse_categorical_accuracy: 0.2800\n",
      "Epoch 5/8\n",
      "9000/9000 - 1s - loss: 3.4079 - sparse_categorical_accuracy: 0.5454 - val_loss: 3.6107 - val_sparse_categorical_accuracy: 0.4330\n",
      "Epoch 6/8\n",
      "9000/9000 - 1s - loss: 3.1641 - sparse_categorical_accuracy: 0.5838 - val_loss: 3.4702 - val_sparse_categorical_accuracy: 0.4690\n",
      "Epoch 7/8\n",
      "9000/9000 - 1s - loss: 2.9607 - sparse_categorical_accuracy: 0.6073 - val_loss: 3.0682 - val_sparse_categorical_accuracy: 0.5550\n",
      "Epoch 8/8\n",
      "9000/9000 - 1s - loss: 2.7479 - sparse_categorical_accuracy: 0.6376 - val_loss: 2.9010 - val_sparse_categorical_accuracy: 0.5680\n",
      "Train on 9000 samples, validate on 1000 samples\n",
      "Epoch 1/8\n",
      "9000/9000 - 4s - loss: 14.4116 - sparse_categorical_accuracy: 0.3062 - val_loss: 3.4637 - val_sparse_categorical_accuracy: 0.1030\n",
      "Epoch 2/8\n",
      "9000/9000 - 2s - loss: 2.4911 - sparse_categorical_accuracy: 0.3709 - val_loss: 2.9535 - val_sparse_categorical_accuracy: 0.1580\n",
      "Epoch 3/8\n",
      "9000/9000 - 2s - loss: 2.2731 - sparse_categorical_accuracy: 0.3554 - val_loss: 2.3963 - val_sparse_categorical_accuracy: 0.2960\n",
      "Epoch 4/8\n",
      "9000/9000 - 2s - loss: 2.2170 - sparse_categorical_accuracy: 0.3556 - val_loss: 2.3444 - val_sparse_categorical_accuracy: 0.3200\n",
      "Epoch 5/8\n",
      "9000/9000 - 2s - loss: 2.1894 - sparse_categorical_accuracy: 0.3570 - val_loss: 2.4524 - val_sparse_categorical_accuracy: 0.2240\n",
      "Epoch 6/8\n",
      "9000/9000 - 2s - loss: 2.2208 - sparse_categorical_accuracy: 0.3542 - val_loss: 2.2713 - val_sparse_categorical_accuracy: 0.3440\n",
      "Epoch 7/8\n",
      "9000/9000 - 2s - loss: 2.1801 - sparse_categorical_accuracy: 0.3586 - val_loss: 2.1607 - val_sparse_categorical_accuracy: 0.3710\n",
      "Epoch 8/8\n",
      "9000/9000 - 2s - loss: 2.1902 - sparse_categorical_accuracy: 0.3633 - val_loss: 2.3202 - val_sparse_categorical_accuracy: 0.3030\n",
      "Train on 9000 samples, validate on 1000 samples\n",
      "Epoch 1/8\n",
      "9000/9000 - 2s - loss: 4.8931 - sparse_categorical_accuracy: 0.2852 - val_loss: 4.9818 - val_sparse_categorical_accuracy: 0.1650\n",
      "Epoch 2/8\n",
      "9000/9000 - 1s - loss: 4.2713 - sparse_categorical_accuracy: 0.4261 - val_loss: 4.9291 - val_sparse_categorical_accuracy: 0.1800\n",
      "Epoch 3/8\n",
      "9000/9000 - 1s - loss: 3.9044 - sparse_categorical_accuracy: 0.4859 - val_loss: 4.7678 - val_sparse_categorical_accuracy: 0.2130\n",
      "Epoch 4/8\n",
      "9000/9000 - 1s - loss: 3.5998 - sparse_categorical_accuracy: 0.5339 - val_loss: 4.2040 - val_sparse_categorical_accuracy: 0.3290\n",
      "Epoch 5/8\n",
      "9000/9000 - 1s - loss: 3.3341 - sparse_categorical_accuracy: 0.5693 - val_loss: 3.6524 - val_sparse_categorical_accuracy: 0.4190\n",
      "Epoch 6/8\n",
      "9000/9000 - 1s - loss: 3.0974 - sparse_categorical_accuracy: 0.5949 - val_loss: 3.3394 - val_sparse_categorical_accuracy: 0.5020\n",
      "Epoch 7/8\n",
      "9000/9000 - 1s - loss: 2.9022 - sparse_categorical_accuracy: 0.6194 - val_loss: 3.0099 - val_sparse_categorical_accuracy: 0.5540\n",
      "Epoch 8/8\n",
      "9000/9000 - 1s - loss: 2.7149 - sparse_categorical_accuracy: 0.6431 - val_loss: 2.8875 - val_sparse_categorical_accuracy: 0.5590\n",
      "Train on 9000 samples, validate on 1000 samples\n",
      "Epoch 1/8\n",
      "9000/9000 - 3s - loss: 14.3206 - sparse_categorical_accuracy: 0.3151 - val_loss: 3.4318 - val_sparse_categorical_accuracy: 0.1150\n",
      "Epoch 2/8\n",
      "9000/9000 - 2s - loss: 2.5411 - sparse_categorical_accuracy: 0.3649 - val_loss: 3.0186 - val_sparse_categorical_accuracy: 0.1200\n",
      "Epoch 3/8\n",
      "9000/9000 - 2s - loss: 2.2755 - sparse_categorical_accuracy: 0.3573 - val_loss: 2.9294 - val_sparse_categorical_accuracy: 0.1690\n",
      "Epoch 4/8\n",
      "9000/9000 - 2s - loss: 2.2265 - sparse_categorical_accuracy: 0.3534 - val_loss: 2.2836 - val_sparse_categorical_accuracy: 0.3370\n",
      "Epoch 5/8\n",
      "9000/9000 - 2s - loss: 2.1831 - sparse_categorical_accuracy: 0.3623 - val_loss: 2.4625 - val_sparse_categorical_accuracy: 0.2520\n",
      "Epoch 6/8\n",
      "9000/9000 - 2s - loss: 2.1913 - sparse_categorical_accuracy: 0.3614 - val_loss: 2.7797 - val_sparse_categorical_accuracy: 0.1760\n",
      "Epoch 7/8\n",
      "9000/9000 - 2s - loss: 2.1818 - sparse_categorical_accuracy: 0.3616 - val_loss: 2.3952 - val_sparse_categorical_accuracy: 0.2870\n",
      "Epoch 8/8\n",
      "9000/9000 - 2s - loss: 2.1865 - sparse_categorical_accuracy: 0.3586 - val_loss: 2.3163 - val_sparse_categorical_accuracy: 0.3010\n",
      "Train on 9000 samples, validate on 1000 samples\n",
      "Epoch 1/8\n",
      "9000/9000 - 2s - loss: 4.8609 - sparse_categorical_accuracy: 0.2994 - val_loss: 4.9613 - val_sparse_categorical_accuracy: 0.1700\n",
      "Epoch 2/8\n",
      "9000/9000 - 1s - loss: 4.2663 - sparse_categorical_accuracy: 0.4333 - val_loss: 4.8440 - val_sparse_categorical_accuracy: 0.2330\n",
      "Epoch 3/8\n",
      "9000/9000 - 1s - loss: 3.9220 - sparse_categorical_accuracy: 0.4942 - val_loss: 4.6227 - val_sparse_categorical_accuracy: 0.2540\n",
      "Epoch 4/8\n",
      "9000/9000 - 1s - loss: 3.6128 - sparse_categorical_accuracy: 0.5401 - val_loss: 4.1223 - val_sparse_categorical_accuracy: 0.3560\n",
      "Epoch 5/8\n",
      "9000/9000 - 1s - loss: 3.3484 - sparse_categorical_accuracy: 0.5747 - val_loss: 3.7826 - val_sparse_categorical_accuracy: 0.4100\n",
      "Epoch 6/8\n",
      "9000/9000 - 1s - loss: 3.1209 - sparse_categorical_accuracy: 0.5998 - val_loss: 3.2515 - val_sparse_categorical_accuracy: 0.5160\n",
      "Epoch 7/8\n",
      "9000/9000 - 1s - loss: 2.8991 - sparse_categorical_accuracy: 0.6349 - val_loss: 3.0223 - val_sparse_categorical_accuracy: 0.5600\n",
      "Epoch 8/8\n",
      "9000/9000 - 1s - loss: 2.7170 - sparse_categorical_accuracy: 0.6538 - val_loss: 2.8851 - val_sparse_categorical_accuracy: 0.5710\n",
      "Train on 9000 samples, validate on 1000 samples\n",
      "Epoch 1/8\n",
      "9000/9000 - 3s - loss: 66.8004 - sparse_categorical_accuracy: 0.3016 - val_loss: 43.7266 - val_sparse_categorical_accuracy: 0.1520\n",
      "Epoch 2/8\n",
      "9000/9000 - 2s - loss: 30.3333 - sparse_categorical_accuracy: 0.4389 - val_loss: 21.3064 - val_sparse_categorical_accuracy: 0.1660\n",
      "Epoch 3/8\n",
      "9000/9000 - 2s - loss: 15.0591 - sparse_categorical_accuracy: 0.5192 - val_loss: 12.0579 - val_sparse_categorical_accuracy: 0.1500\n",
      "Epoch 4/8\n",
      "9000/9000 - 2s - loss: 8.5295 - sparse_categorical_accuracy: 0.5712 - val_loss: 7.8615 - val_sparse_categorical_accuracy: 0.1900\n",
      "Epoch 5/8\n",
      "9000/9000 - 2s - loss: 5.5192 - sparse_categorical_accuracy: 0.5976 - val_loss: 5.8069 - val_sparse_categorical_accuracy: 0.1290\n",
      "Epoch 6/8\n",
      "9000/9000 - 2s - loss: 3.9781 - sparse_categorical_accuracy: 0.6303 - val_loss: 4.8011 - val_sparse_categorical_accuracy: 0.1960\n",
      "Epoch 7/8\n",
      "9000/9000 - 2s - loss: 3.1639 - sparse_categorical_accuracy: 0.6398 - val_loss: 3.8012 - val_sparse_categorical_accuracy: 0.3300\n",
      "Epoch 8/8\n",
      "9000/9000 - 2s - loss: 2.6872 - sparse_categorical_accuracy: 0.6504 - val_loss: 3.5336 - val_sparse_categorical_accuracy: 0.2090\n"
     ]
    }
   ],
   "source": [
    "params={'learning_rate':(1e-4,1e-1,2),\n",
    "        'batch_size':(32,256,1),\n",
    "        'nepochs':(8,8,1),\n",
    "        'conv_size1':(32,128,1),\n",
    "        'conv_size2':(32,128,1),\n",
    "        'conv_size3':(32,128,1),\n",
    "        'fc_size':(50,200,1),\n",
    "        'dropout_param':(0,0.8,0),\n",
    "        'l2_reg':(1e-10,1,2)}\n",
    "model_params,y_best=particle_swarm(2,2,params=params,num_training=9000,num_val=1000,keras_verbose=2)"
   ]
  },
  {
   "cell_type": "code",
   "execution_count": 4,
   "metadata": {},
   "outputs": [
    {
     "name": "stdout",
     "output_type": "stream",
     "text": [
      "{'nepochs': 8, 'learning_rate': 0.0001786998780635048, 'batch_size': 130.0, 'conv_size1': 72.0, 'conv_size2': 52.0, 'conv_size3': 99.0, 'fc_size': 130.0, 'dropout_param': 0.4389672611072478, 'l2_reg': 0.007178338383780468}\n"
     ]
    }
   ],
   "source": [
    "print(model_params)"
   ]
  },
  {
   "cell_type": "markdown",
   "metadata": {},
   "source": [
    "Run for 100 evaluations"
   ]
  },
  {
   "cell_type": "code",
   "execution_count": 5,
   "metadata": {},
   "outputs": [
    {
     "name": "stdout",
     "output_type": "stream",
     "text": [
      "Initila evaluation on population\n",
      "WARNING:tensorflow:Large dropout rate: 0.725186 (>0.5). In TensorFlow 2.x, dropout() uses dropout rate instead of keep_prob. Please ensure that this is intended.\n",
      "WARNING:tensorflow:Large dropout rate: 0.725186 (>0.5). In TensorFlow 2.x, dropout() uses dropout rate instead of keep_prob. Please ensure that this is intended.\n",
      "WARNING:tensorflow:Large dropout rate: 0.725186 (>0.5). In TensorFlow 2.x, dropout() uses dropout rate instead of keep_prob. Please ensure that this is intended.\n",
      "WARNING:tensorflow:Large dropout rate: 0.651545 (>0.5). In TensorFlow 2.x, dropout() uses dropout rate instead of keep_prob. Please ensure that this is intended.\n",
      "WARNING:tensorflow:Large dropout rate: 0.651545 (>0.5). In TensorFlow 2.x, dropout() uses dropout rate instead of keep_prob. Please ensure that this is intended.\n"
     ]
    },
    {
     "name": "stderr",
     "output_type": "stream",
     "text": [
      "\r",
      "  0%|          | 0/9 [00:00<?, ?it/s]"
     ]
    },
    {
     "name": "stdout",
     "output_type": "stream",
     "text": [
      "Starting optimization loop\n"
     ]
    },
    {
     "name": "stderr",
     "output_type": "stream",
     "text": [
      "100%|██████████| 9/9 [1:23:02<00:00, 553.64s/it]\n"
     ]
    }
   ],
   "source": [
    "params={'learning_rate':(1e-4,1e-1,2),\n",
    "        'batch_size':(32,256,1),\n",
    "        'nepochs':(8,8,1),\n",
    "        'conv_size1':(32,128,1),\n",
    "        'conv_size2':(32,128,1),\n",
    "        'conv_size3':(32,128,1),\n",
    "        'fc_size':(50,200,1),\n",
    "        'dropout_param':(0,0.8,0),\n",
    "        'l2_reg':(1e-10,1,2)}\n",
    "best_params,y_best=particle_swarm(10,9,params=params,num_training=49000,num_val=1000,keras_verbose=0)\n",
    "save_obj(best_params,'PSOptParam')\n",
    "save_obj(y_best,'PSScore')"
   ]
  },
  {
   "cell_type": "code",
   "execution_count": 6,
   "metadata": {},
   "outputs": [
    {
     "name": "stdout",
     "output_type": "stream",
     "text": [
      "{'nepochs': 8, 'learning_rate': 0.009563466747000619, 'batch_size': 32.0, 'conv_size1': 32.0, 'conv_size2': 37.0, 'conv_size3': 32.0, 'fc_size': 200.0, 'dropout_param': 0.8, 'l2_reg': 1e-10}\n"
     ]
    }
   ],
   "source": [
    "print(best_params)"
   ]
  },
  {
   "cell_type": "code",
   "execution_count": 7,
   "metadata": {},
   "outputs": [
    {
     "name": "stdout",
     "output_type": "stream",
     "text": [
      "0.755\n"
     ]
    }
   ],
   "source": [
    "print(y_best)"
   ]
  },
  {
   "cell_type": "code",
   "execution_count": null,
   "metadata": {},
   "outputs": [],
   "source": []
  }
 ],
 "metadata": {
  "kernelspec": {
   "display_name": "Python 3",
   "language": "python",
   "name": "python3"
  },
  "language_info": {
   "codemirror_mode": {
    "name": "ipython",
    "version": 3
   },
   "file_extension": ".py",
   "mimetype": "text/x-python",
   "name": "python",
   "nbconvert_exporter": "python",
   "pygments_lexer": "ipython3",
   "version": "3.7.7"
  }
 },
 "nbformat": 4,
 "nbformat_minor": 4
}
