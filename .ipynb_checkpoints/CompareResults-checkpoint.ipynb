{
 "cells": [
  {
   "cell_type": "markdown",
   "metadata": {},
   "source": [
    "Notebook to compare results between algorithms"
   ]
  },
  {
   "cell_type": "markdown",
   "metadata": {},
   "source": [
    "Some functions and imports"
   ]
  },
  {
   "cell_type": "code",
   "execution_count": 3,
   "metadata": {},
   "outputs": [],
   "source": [
    "import pickle\n",
    "\n",
    "def save_obj(obj, name ):\n",
    "    with open(name + '.pkl', 'wb') as f:\n",
    "        pickle.dump(obj, f, pickle.HIGHEST_PROTOCOL)\n",
    "\n",
    "def load_obj(name ):\n",
    "    with open(name + '.pkl', 'rb') as f:\n",
    "        return pickle.load(f)"
   ]
  },
  {
   "cell_type": "markdown",
   "metadata": {},
   "source": [
    "Random sampling"
   ]
  },
  {
   "cell_type": "code",
   "execution_count": 4,
   "metadata": {},
   "outputs": [
    {
     "name": "stdout",
     "output_type": "stream",
     "text": [
      "Random parameters:  {'nepochs': 8, 'learning_rate': 0.0005179091478935314, 'batch_size': 210.0, 'conv_size1': 120.0, 'conv_size2': 101.0, 'conv_size3': 46.0, 'fc_size': 160.0, 'dropout_param': 0.37945162386693476, 'l2_reg': 0.00015113281591831412}\n",
      "Random score:  0.773\n"
     ]
    }
   ],
   "source": [
    "rd_params=load_obj(\"RandOptParam\")\n",
    "rd_score=load_obj('RandScore')\n",
    "print(\"Random parameters: \",rd_params)\n",
    "print(\"Random score: \",rd_score)"
   ]
  },
  {
   "cell_type": "markdown",
   "metadata": {},
   "source": [
    "Particle swarm optimization"
   ]
  },
  {
   "cell_type": "code",
   "execution_count": 5,
   "metadata": {},
   "outputs": [
    {
     "name": "stdout",
     "output_type": "stream",
     "text": [
      "Particle swarm parameters:  {'nepochs': 8, 'learning_rate': 0.009563466747000619, 'batch_size': 32.0, 'conv_size1': 32.0, 'conv_size2': 37.0, 'conv_size3': 32.0, 'fc_size': 200.0, 'dropout_param': 0.8, 'l2_reg': 1e-10}\n",
      "Particle swarm score:  0.755\n"
     ]
    }
   ],
   "source": [
    "ps_params=load_obj('PSOptParam')\n",
    "ps_score=load_obj('PSScore')\n",
    "print(\"Particle swarm parameters: \",ps_params)\n",
    "print(\"Particle swarm score: \",ps_score)"
   ]
  },
  {
   "cell_type": "markdown",
   "metadata": {},
   "source": [
    "Retrain models for more epochs to see which params behave better"
   ]
  },
  {
   "cell_type": "code",
   "execution_count": null,
   "metadata": {},
   "outputs": [],
   "source": [
    "from kerasmodel import *"
   ]
  },
  {
   "cell_type": "markdown",
   "metadata": {},
   "source": [
    "Random model"
   ]
  },
  {
   "cell_type": "code",
   "execution_count": null,
   "metadata": {},
   "outputs": [],
   "source": [
    "rd_params['nepochs']=15\n",
    "rd_model=create_model(rd_params)\n",
    "rd_score=score_model(rd_model)"
   ]
  },
  {
   "cell_type": "markdown",
   "metadata": {},
   "source": [
    "Particle swarm model"
   ]
  },
  {
   "cell_type": "code",
   "execution_count": null,
   "metadata": {},
   "outputs": [],
   "source": [
    "ps_params['nepochs']=15\n",
    "ps_model=create_model(ps_params)\n",
    "ps_score=score_model(ps_model)"
   ]
  }
 ],
 "metadata": {
  "kernelspec": {
   "display_name": "Python 3",
   "language": "python",
   "name": "python3"
  },
  "language_info": {
   "codemirror_mode": {
    "name": "ipython",
    "version": 3
   },
   "file_extension": ".py",
   "mimetype": "text/x-python",
   "name": "python",
   "nbconvert_exporter": "python",
   "pygments_lexer": "ipython3",
   "version": "3.7.7"
  }
 },
 "nbformat": 4,
 "nbformat_minor": 4
}
